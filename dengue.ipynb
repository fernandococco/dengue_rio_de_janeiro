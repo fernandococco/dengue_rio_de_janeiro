{
 "cells": [
  {
   "cell_type": "code",
   "execution_count": 23,
   "metadata": {},
   "outputs": [],
   "source": [
    "import pandas as pd\n",
    "import plotly.express as px\n",
    "import numpy as np\n",
    "import plotly.graph_objs as go"
   ]
  },
  {
   "cell_type": "markdown",
   "metadata": {},
   "source": [
    "fonte dos dados: https://info.dengue.mat.br/services/api"
   ]
  },
  {
   "cell_type": "code",
   "execution_count": 2,
   "metadata": {},
   "outputs": [],
   "source": [
    "df = pd.read_csv('dengue_1-42.csv')"
   ]
  },
  {
   "cell_type": "markdown",
   "metadata": {},
   "source": [
    "## Dicionário de Dados:\n",
    "\n",
    "- data_iniSE: First day of the epidemiological week (Sunday);\n",
    "- SE: epidemiological week;\n",
    "- casos_est: Estimated number of cases per week using the nowcasting model (note: Values ​​are updated retrospectively every week);\n",
    "- casos_est_min e casos_est_max: 95% credibility interval of the estimated number of cases;\n",
    "- casos: Number of reported cases per week (Values ​​are updated retrospectively every week);\n",
    "- p_rt1: Probability of (Rt> 1). For issuing the orange alert, we use criterion p_rt1 > 0.95 for 3 weeks or more;\n",
    "- p_inc100k: Estimated incidence rate per 100,000;\n",
    "- Localidade_id: Sub-municipality division (currently implemented only in Rio de Janeiro);\n",
    "- nivel: Alert level (1 = green, 2 = yellow, 3 = orange, 4 = red);\n",
    "- id: Numerical index;\n",
    "- versao_modelo: Model version (internal use);\n",
    "- Rt: Point estimate of the reproductive number of cases, see (Know more);\n",
    "- pop: estimated population (IBGE);\n",
    "- tempmin: average of the daily minimum temperatures along the week;\n",
    "- umidmax: average of the daily maximum relative air humidity along the week;\n",
    "- receptivo: indicates climate receptivity, i.e., conditions for high vectorial capacity. 0 = unfavorable, 1 = favorable, 2 = - - favorable this week and last week, 3 = favorable for at least three weeks (sufficient for completing a transmission cycle);\n",
    "- transmissao: evidence of sustained transmission: 0 = no evidence, 1 = possible, 2 = likely, 3 = highly likely;\n",
    "- nivel_inc: Estimated incidence below the pre-epidemic threshold, 1 = above the pre-epidemic threshold, but below the epidemic threshold, 2 = above the epidemic threshold;\n",
    "- notif_accum_year: accumulated number of cases per year;"
   ]
  },
  {
   "cell_type": "code",
   "execution_count": 3,
   "metadata": {},
   "outputs": [
    {
     "data": {
      "text/html": [
       "<div>\n",
       "<style scoped>\n",
       "    .dataframe tbody tr th:only-of-type {\n",
       "        vertical-align: middle;\n",
       "    }\n",
       "\n",
       "    .dataframe tbody tr th {\n",
       "        vertical-align: top;\n",
       "    }\n",
       "\n",
       "    .dataframe thead th {\n",
       "        text-align: right;\n",
       "    }\n",
       "</style>\n",
       "<table border=\"1\" class=\"dataframe\">\n",
       "  <thead>\n",
       "    <tr style=\"text-align: right;\">\n",
       "      <th></th>\n",
       "      <th>data_iniSE</th>\n",
       "      <th>SE</th>\n",
       "      <th>casos_est</th>\n",
       "      <th>casos_est_min</th>\n",
       "      <th>casos_est_max</th>\n",
       "      <th>casos</th>\n",
       "      <th>p_rt1</th>\n",
       "      <th>p_inc100k</th>\n",
       "      <th>Localidade_id</th>\n",
       "      <th>nivel</th>\n",
       "      <th>...</th>\n",
       "      <th>umidmed</th>\n",
       "      <th>umidmin</th>\n",
       "      <th>tempmed</th>\n",
       "      <th>tempmax</th>\n",
       "      <th>casprov</th>\n",
       "      <th>casprov_est</th>\n",
       "      <th>casprov_est_min</th>\n",
       "      <th>casprov_est_max</th>\n",
       "      <th>casconf</th>\n",
       "      <th>notif_accum_year</th>\n",
       "    </tr>\n",
       "  </thead>\n",
       "  <tbody>\n",
       "    <tr>\n",
       "      <th>0</th>\n",
       "      <td>2023-10-01</td>\n",
       "      <td>202340</td>\n",
       "      <td>588.5</td>\n",
       "      <td>371</td>\n",
       "      <td>1077</td>\n",
       "      <td>173</td>\n",
       "      <td>0.967004</td>\n",
       "      <td>8.721342</td>\n",
       "      <td>0</td>\n",
       "      <td>2</td>\n",
       "      <td>...</td>\n",
       "      <td>82.273222</td>\n",
       "      <td>79.890628</td>\n",
       "      <td>23.146667</td>\n",
       "      <td>23.560000</td>\n",
       "      <td>NaN</td>\n",
       "      <td>NaN</td>\n",
       "      <td>NaN</td>\n",
       "      <td>NaN</td>\n",
       "      <td>NaN</td>\n",
       "      <td>210697</td>\n",
       "    </tr>\n",
       "    <tr>\n",
       "      <th>1</th>\n",
       "      <td>2023-09-24</td>\n",
       "      <td>202339</td>\n",
       "      <td>502.0</td>\n",
       "      <td>437</td>\n",
       "      <td>610</td>\n",
       "      <td>365</td>\n",
       "      <td>0.341684</td>\n",
       "      <td>7.439445</td>\n",
       "      <td>0</td>\n",
       "      <td>1</td>\n",
       "      <td>...</td>\n",
       "      <td>78.051703</td>\n",
       "      <td>75.177973</td>\n",
       "      <td>25.027778</td>\n",
       "      <td>25.833333</td>\n",
       "      <td>NaN</td>\n",
       "      <td>NaN</td>\n",
       "      <td>NaN</td>\n",
       "      <td>NaN</td>\n",
       "      <td>NaN</td>\n",
       "      <td>210697</td>\n",
       "    </tr>\n",
       "    <tr>\n",
       "      <th>2</th>\n",
       "      <td>2023-09-17</td>\n",
       "      <td>202338</td>\n",
       "      <td>530.0</td>\n",
       "      <td>504</td>\n",
       "      <td>568</td>\n",
       "      <td>473</td>\n",
       "      <td>0.929835</td>\n",
       "      <td>7.854394</td>\n",
       "      <td>0</td>\n",
       "      <td>1</td>\n",
       "      <td>...</td>\n",
       "      <td>74.148035</td>\n",
       "      <td>67.119275</td>\n",
       "      <td>24.434783</td>\n",
       "      <td>26.217391</td>\n",
       "      <td>NaN</td>\n",
       "      <td>NaN</td>\n",
       "      <td>NaN</td>\n",
       "      <td>NaN</td>\n",
       "      <td>NaN</td>\n",
       "      <td>210697</td>\n",
       "    </tr>\n",
       "    <tr>\n",
       "      <th>3</th>\n",
       "      <td>2023-09-10</td>\n",
       "      <td>202337</td>\n",
       "      <td>563.0</td>\n",
       "      <td>548</td>\n",
       "      <td>586</td>\n",
       "      <td>530</td>\n",
       "      <td>0.997239</td>\n",
       "      <td>8.343442</td>\n",
       "      <td>0</td>\n",
       "      <td>1</td>\n",
       "      <td>...</td>\n",
       "      <td>77.312465</td>\n",
       "      <td>70.757445</td>\n",
       "      <td>19.666667</td>\n",
       "      <td>20.500000</td>\n",
       "      <td>NaN</td>\n",
       "      <td>NaN</td>\n",
       "      <td>NaN</td>\n",
       "      <td>NaN</td>\n",
       "      <td>NaN</td>\n",
       "      <td>210697</td>\n",
       "    </tr>\n",
       "    <tr>\n",
       "      <th>4</th>\n",
       "      <td>2023-09-03</td>\n",
       "      <td>202336</td>\n",
       "      <td>447.0</td>\n",
       "      <td>436</td>\n",
       "      <td>461</td>\n",
       "      <td>427</td>\n",
       "      <td>0.059088</td>\n",
       "      <td>6.624367</td>\n",
       "      <td>0</td>\n",
       "      <td>1</td>\n",
       "      <td>...</td>\n",
       "      <td>NaN</td>\n",
       "      <td>NaN</td>\n",
       "      <td>NaN</td>\n",
       "      <td>NaN</td>\n",
       "      <td>NaN</td>\n",
       "      <td>NaN</td>\n",
       "      <td>NaN</td>\n",
       "      <td>NaN</td>\n",
       "      <td>NaN</td>\n",
       "      <td>210697</td>\n",
       "    </tr>\n",
       "  </tbody>\n",
       "</table>\n",
       "<p>5 rows × 30 columns</p>\n",
       "</div>"
      ],
      "text/plain": [
       "   data_iniSE      SE  casos_est  casos_est_min  casos_est_max  casos  \\\n",
       "0  2023-10-01  202340      588.5            371           1077    173   \n",
       "1  2023-09-24  202339      502.0            437            610    365   \n",
       "2  2023-09-17  202338      530.0            504            568    473   \n",
       "3  2023-09-10  202337      563.0            548            586    530   \n",
       "4  2023-09-03  202336      447.0            436            461    427   \n",
       "\n",
       "      p_rt1  p_inc100k  Localidade_id  nivel  ...    umidmed    umidmin  \\\n",
       "0  0.967004   8.721342              0      2  ...  82.273222  79.890628   \n",
       "1  0.341684   7.439445              0      1  ...  78.051703  75.177973   \n",
       "2  0.929835   7.854394              0      1  ...  74.148035  67.119275   \n",
       "3  0.997239   8.343442              0      1  ...  77.312465  70.757445   \n",
       "4  0.059088   6.624367              0      1  ...        NaN        NaN   \n",
       "\n",
       "     tempmed    tempmax  casprov  casprov_est  casprov_est_min  \\\n",
       "0  23.146667  23.560000      NaN          NaN              NaN   \n",
       "1  25.027778  25.833333      NaN          NaN              NaN   \n",
       "2  24.434783  26.217391      NaN          NaN              NaN   \n",
       "3  19.666667  20.500000      NaN          NaN              NaN   \n",
       "4        NaN        NaN      NaN          NaN              NaN   \n",
       "\n",
       "   casprov_est_max  casconf  notif_accum_year  \n",
       "0              NaN      NaN            210697  \n",
       "1              NaN      NaN            210697  \n",
       "2              NaN      NaN            210697  \n",
       "3              NaN      NaN            210697  \n",
       "4              NaN      NaN            210697  \n",
       "\n",
       "[5 rows x 30 columns]"
      ]
     },
     "execution_count": 3,
     "metadata": {},
     "output_type": "execute_result"
    }
   ],
   "source": [
    "df.head()"
   ]
  },
  {
   "cell_type": "markdown",
   "metadata": {},
   "source": [
    "### Análise Exploratória de Dados (EDA):\n",
    "- Distribuição dos casos reportados e estimados de dengue ao longo do tempo.\n",
    "- Distribuição da taxa de incidência estimada por 100.000 habitantes ao longo do tempo.\n",
    "- Distribuição dos níveis de alerta ao longo do tempo."
   ]
  },
  {
   "cell_type": "code",
   "execution_count": 4,
   "metadata": {},
   "outputs": [
    {
     "name": "stdout",
     "output_type": "stream",
     "text": [
      "data_iniSE            0\n",
      "SE                    0\n",
      "casos_est             0\n",
      "casos_est_min         0\n",
      "casos_est_max         0\n",
      "casos                 0\n",
      "p_rt1                 0\n",
      "p_inc100k             0\n",
      "Localidade_id         0\n",
      "nivel                 0\n",
      "id                    0\n",
      "versao_modelo         0\n",
      "tweet                 0\n",
      "Rt                    0\n",
      "pop                   0\n",
      "tempmin               0\n",
      "umidmax              16\n",
      "receptivo             0\n",
      "transmissao           0\n",
      "nivel_inc             0\n",
      "umidmed              16\n",
      "umidmin              16\n",
      "tempmed              16\n",
      "tempmax              16\n",
      "casprov             562\n",
      "casprov_est         562\n",
      "casprov_est_min     562\n",
      "casprov_est_max     562\n",
      "casconf             562\n",
      "notif_accum_year      0\n",
      "dtype: int64\n"
     ]
    }
   ],
   "source": [
    "print(df.isnull().sum())"
   ]
  },
  {
   "cell_type": "code",
   "execution_count": 5,
   "metadata": {},
   "outputs": [
    {
     "data": {
      "text/plain": [
       "0    562\n",
       "Name: Localidade_id, dtype: int64"
      ]
     },
     "execution_count": 5,
     "metadata": {},
     "output_type": "execute_result"
    }
   ],
   "source": [
    "df['Localidade_id'].value_counts()"
   ]
  },
  {
   "cell_type": "code",
   "execution_count": 6,
   "metadata": {},
   "outputs": [
    {
     "data": {
      "text/html": [
       "<div>\n",
       "<style scoped>\n",
       "    .dataframe tbody tr th:only-of-type {\n",
       "        vertical-align: middle;\n",
       "    }\n",
       "\n",
       "    .dataframe tbody tr th {\n",
       "        vertical-align: top;\n",
       "    }\n",
       "\n",
       "    .dataframe thead th {\n",
       "        text-align: right;\n",
       "    }\n",
       "</style>\n",
       "<table border=\"1\" class=\"dataframe\">\n",
       "  <thead>\n",
       "    <tr style=\"text-align: right;\">\n",
       "      <th></th>\n",
       "      <th>data_iniSE</th>\n",
       "      <th>SE</th>\n",
       "      <th>casos_est</th>\n",
       "      <th>casos_est_min</th>\n",
       "      <th>casos_est_max</th>\n",
       "      <th>casos</th>\n",
       "      <th>p_rt1</th>\n",
       "      <th>p_inc100k</th>\n",
       "      <th>Localidade_id</th>\n",
       "      <th>nivel</th>\n",
       "      <th>...</th>\n",
       "      <th>umidmed</th>\n",
       "      <th>umidmin</th>\n",
       "      <th>tempmed</th>\n",
       "      <th>tempmax</th>\n",
       "      <th>casprov</th>\n",
       "      <th>casprov_est</th>\n",
       "      <th>casprov_est_min</th>\n",
       "      <th>casprov_est_max</th>\n",
       "      <th>casconf</th>\n",
       "      <th>notif_accum_year</th>\n",
       "    </tr>\n",
       "  </thead>\n",
       "  <tbody>\n",
       "    <tr>\n",
       "      <th>count</th>\n",
       "      <td>562</td>\n",
       "      <td>562.000000</td>\n",
       "      <td>562.000000</td>\n",
       "      <td>562.000000</td>\n",
       "      <td>562.000000</td>\n",
       "      <td>562.000000</td>\n",
       "      <td>562.000000</td>\n",
       "      <td>562.000000</td>\n",
       "      <td>562.0</td>\n",
       "      <td>562.000000</td>\n",
       "      <td>...</td>\n",
       "      <td>546.000000</td>\n",
       "      <td>546.000000</td>\n",
       "      <td>546.000000</td>\n",
       "      <td>546.000000</td>\n",
       "      <td>0.0</td>\n",
       "      <td>0.0</td>\n",
       "      <td>0.0</td>\n",
       "      <td>0.0</td>\n",
       "      <td>0.0</td>\n",
       "      <td>562.0</td>\n",
       "    </tr>\n",
       "    <tr>\n",
       "      <th>unique</th>\n",
       "      <td>562</td>\n",
       "      <td>NaN</td>\n",
       "      <td>NaN</td>\n",
       "      <td>NaN</td>\n",
       "      <td>NaN</td>\n",
       "      <td>NaN</td>\n",
       "      <td>NaN</td>\n",
       "      <td>NaN</td>\n",
       "      <td>NaN</td>\n",
       "      <td>NaN</td>\n",
       "      <td>...</td>\n",
       "      <td>NaN</td>\n",
       "      <td>NaN</td>\n",
       "      <td>NaN</td>\n",
       "      <td>NaN</td>\n",
       "      <td>NaN</td>\n",
       "      <td>NaN</td>\n",
       "      <td>NaN</td>\n",
       "      <td>NaN</td>\n",
       "      <td>NaN</td>\n",
       "      <td>NaN</td>\n",
       "    </tr>\n",
       "    <tr>\n",
       "      <th>top</th>\n",
       "      <td>2023-10-01</td>\n",
       "      <td>NaN</td>\n",
       "      <td>NaN</td>\n",
       "      <td>NaN</td>\n",
       "      <td>NaN</td>\n",
       "      <td>NaN</td>\n",
       "      <td>NaN</td>\n",
       "      <td>NaN</td>\n",
       "      <td>NaN</td>\n",
       "      <td>NaN</td>\n",
       "      <td>...</td>\n",
       "      <td>NaN</td>\n",
       "      <td>NaN</td>\n",
       "      <td>NaN</td>\n",
       "      <td>NaN</td>\n",
       "      <td>NaN</td>\n",
       "      <td>NaN</td>\n",
       "      <td>NaN</td>\n",
       "      <td>NaN</td>\n",
       "      <td>NaN</td>\n",
       "      <td>NaN</td>\n",
       "    </tr>\n",
       "    <tr>\n",
       "      <th>freq</th>\n",
       "      <td>1</td>\n",
       "      <td>NaN</td>\n",
       "      <td>NaN</td>\n",
       "      <td>NaN</td>\n",
       "      <td>NaN</td>\n",
       "      <td>NaN</td>\n",
       "      <td>NaN</td>\n",
       "      <td>NaN</td>\n",
       "      <td>NaN</td>\n",
       "      <td>NaN</td>\n",
       "      <td>...</td>\n",
       "      <td>NaN</td>\n",
       "      <td>NaN</td>\n",
       "      <td>NaN</td>\n",
       "      <td>NaN</td>\n",
       "      <td>NaN</td>\n",
       "      <td>NaN</td>\n",
       "      <td>NaN</td>\n",
       "      <td>NaN</td>\n",
       "      <td>NaN</td>\n",
       "      <td>NaN</td>\n",
       "    </tr>\n",
       "    <tr>\n",
       "      <th>mean</th>\n",
       "      <td>NaN</td>\n",
       "      <td>201815.135231</td>\n",
       "      <td>376.056050</td>\n",
       "      <td>375.414591</td>\n",
       "      <td>377.322064</td>\n",
       "      <td>374.905694</td>\n",
       "      <td>0.483042</td>\n",
       "      <td>5.573005</td>\n",
       "      <td>0.0</td>\n",
       "      <td>1.615658</td>\n",
       "      <td>...</td>\n",
       "      <td>77.182597</td>\n",
       "      <td>59.534802</td>\n",
       "      <td>23.471272</td>\n",
       "      <td>26.751538</td>\n",
       "      <td>NaN</td>\n",
       "      <td>NaN</td>\n",
       "      <td>NaN</td>\n",
       "      <td>NaN</td>\n",
       "      <td>NaN</td>\n",
       "      <td>210697.0</td>\n",
       "    </tr>\n",
       "    <tr>\n",
       "      <th>std</th>\n",
       "      <td>NaN</td>\n",
       "      <td>310.832697</td>\n",
       "      <td>793.894926</td>\n",
       "      <td>793.807210</td>\n",
       "      <td>794.477959</td>\n",
       "      <td>793.848794</td>\n",
       "      <td>0.408104</td>\n",
       "      <td>11.765215</td>\n",
       "      <td>0.0</td>\n",
       "      <td>0.853829</td>\n",
       "      <td>...</td>\n",
       "      <td>7.224479</td>\n",
       "      <td>14.815921</td>\n",
       "      <td>2.790471</td>\n",
       "      <td>3.788058</td>\n",
       "      <td>NaN</td>\n",
       "      <td>NaN</td>\n",
       "      <td>NaN</td>\n",
       "      <td>NaN</td>\n",
       "      <td>NaN</td>\n",
       "      <td>0.0</td>\n",
       "    </tr>\n",
       "    <tr>\n",
       "      <th>min</th>\n",
       "      <td>NaN</td>\n",
       "      <td>201301.000000</td>\n",
       "      <td>5.000000</td>\n",
       "      <td>5.000000</td>\n",
       "      <td>5.000000</td>\n",
       "      <td>5.000000</td>\n",
       "      <td>0.000000</td>\n",
       "      <td>0.074098</td>\n",
       "      <td>0.0</td>\n",
       "      <td>1.000000</td>\n",
       "      <td>...</td>\n",
       "      <td>49.263441</td>\n",
       "      <td>20.857143</td>\n",
       "      <td>15.603896</td>\n",
       "      <td>17.571429</td>\n",
       "      <td>NaN</td>\n",
       "      <td>NaN</td>\n",
       "      <td>NaN</td>\n",
       "      <td>NaN</td>\n",
       "      <td>NaN</td>\n",
       "      <td>210697.0</td>\n",
       "    </tr>\n",
       "    <tr>\n",
       "      <th>25%</th>\n",
       "      <td>NaN</td>\n",
       "      <td>201536.250000</td>\n",
       "      <td>53.250000</td>\n",
       "      <td>53.250000</td>\n",
       "      <td>53.250000</td>\n",
       "      <td>53.250000</td>\n",
       "      <td>0.036894</td>\n",
       "      <td>0.789144</td>\n",
       "      <td>0.0</td>\n",
       "      <td>1.000000</td>\n",
       "      <td>...</td>\n",
       "      <td>73.324273</td>\n",
       "      <td>48.584437</td>\n",
       "      <td>21.503432</td>\n",
       "      <td>24.142857</td>\n",
       "      <td>NaN</td>\n",
       "      <td>NaN</td>\n",
       "      <td>NaN</td>\n",
       "      <td>NaN</td>\n",
       "      <td>NaN</td>\n",
       "      <td>210697.0</td>\n",
       "    </tr>\n",
       "    <tr>\n",
       "      <th>50%</th>\n",
       "      <td>NaN</td>\n",
       "      <td>201820.500000</td>\n",
       "      <td>104.500000</td>\n",
       "      <td>104.500000</td>\n",
       "      <td>104.500000</td>\n",
       "      <td>104.500000</td>\n",
       "      <td>0.413582</td>\n",
       "      <td>1.548649</td>\n",
       "      <td>0.0</td>\n",
       "      <td>1.000000</td>\n",
       "      <td>...</td>\n",
       "      <td>77.993688</td>\n",
       "      <td>59.289346</td>\n",
       "      <td>23.524026</td>\n",
       "      <td>27.000000</td>\n",
       "      <td>NaN</td>\n",
       "      <td>NaN</td>\n",
       "      <td>NaN</td>\n",
       "      <td>NaN</td>\n",
       "      <td>NaN</td>\n",
       "      <td>210697.0</td>\n",
       "    </tr>\n",
       "    <tr>\n",
       "      <th>75%</th>\n",
       "      <td>NaN</td>\n",
       "      <td>202103.750000</td>\n",
       "      <td>276.250000</td>\n",
       "      <td>276.250000</td>\n",
       "      <td>276.250000</td>\n",
       "      <td>271.500000</td>\n",
       "      <td>0.962680</td>\n",
       "      <td>4.093918</td>\n",
       "      <td>0.0</td>\n",
       "      <td>2.000000</td>\n",
       "      <td>...</td>\n",
       "      <td>82.316340</td>\n",
       "      <td>72.764500</td>\n",
       "      <td>25.441687</td>\n",
       "      <td>29.000000</td>\n",
       "      <td>NaN</td>\n",
       "      <td>NaN</td>\n",
       "      <td>NaN</td>\n",
       "      <td>NaN</td>\n",
       "      <td>NaN</td>\n",
       "      <td>210697.0</td>\n",
       "    </tr>\n",
       "    <tr>\n",
       "      <th>max</th>\n",
       "      <td>NaN</td>\n",
       "      <td>202340.000000</td>\n",
       "      <td>6644.000000</td>\n",
       "      <td>6644.000000</td>\n",
       "      <td>6644.000000</td>\n",
       "      <td>6644.000000</td>\n",
       "      <td>1.000000</td>\n",
       "      <td>98.461500</td>\n",
       "      <td>0.0</td>\n",
       "      <td>4.000000</td>\n",
       "      <td>...</td>\n",
       "      <td>91.903172</td>\n",
       "      <td>87.689309</td>\n",
       "      <td>30.553572</td>\n",
       "      <td>36.857143</td>\n",
       "      <td>NaN</td>\n",
       "      <td>NaN</td>\n",
       "      <td>NaN</td>\n",
       "      <td>NaN</td>\n",
       "      <td>NaN</td>\n",
       "      <td>210697.0</td>\n",
       "    </tr>\n",
       "  </tbody>\n",
       "</table>\n",
       "<p>11 rows × 30 columns</p>\n",
       "</div>"
      ],
      "text/plain": [
       "        data_iniSE             SE    casos_est  casos_est_min  casos_est_max  \\\n",
       "count          562     562.000000   562.000000     562.000000     562.000000   \n",
       "unique         562            NaN          NaN            NaN            NaN   \n",
       "top     2023-10-01            NaN          NaN            NaN            NaN   \n",
       "freq             1            NaN          NaN            NaN            NaN   \n",
       "mean           NaN  201815.135231   376.056050     375.414591     377.322064   \n",
       "std            NaN     310.832697   793.894926     793.807210     794.477959   \n",
       "min            NaN  201301.000000     5.000000       5.000000       5.000000   \n",
       "25%            NaN  201536.250000    53.250000      53.250000      53.250000   \n",
       "50%            NaN  201820.500000   104.500000     104.500000     104.500000   \n",
       "75%            NaN  202103.750000   276.250000     276.250000     276.250000   \n",
       "max            NaN  202340.000000  6644.000000    6644.000000    6644.000000   \n",
       "\n",
       "              casos       p_rt1   p_inc100k  Localidade_id       nivel  ...  \\\n",
       "count    562.000000  562.000000  562.000000          562.0  562.000000  ...   \n",
       "unique          NaN         NaN         NaN            NaN         NaN  ...   \n",
       "top             NaN         NaN         NaN            NaN         NaN  ...   \n",
       "freq            NaN         NaN         NaN            NaN         NaN  ...   \n",
       "mean     374.905694    0.483042    5.573005            0.0    1.615658  ...   \n",
       "std      793.848794    0.408104   11.765215            0.0    0.853829  ...   \n",
       "min        5.000000    0.000000    0.074098            0.0    1.000000  ...   \n",
       "25%       53.250000    0.036894    0.789144            0.0    1.000000  ...   \n",
       "50%      104.500000    0.413582    1.548649            0.0    1.000000  ...   \n",
       "75%      271.500000    0.962680    4.093918            0.0    2.000000  ...   \n",
       "max     6644.000000    1.000000   98.461500            0.0    4.000000  ...   \n",
       "\n",
       "           umidmed     umidmin     tempmed     tempmax  casprov  casprov_est  \\\n",
       "count   546.000000  546.000000  546.000000  546.000000      0.0          0.0   \n",
       "unique         NaN         NaN         NaN         NaN      NaN          NaN   \n",
       "top            NaN         NaN         NaN         NaN      NaN          NaN   \n",
       "freq           NaN         NaN         NaN         NaN      NaN          NaN   \n",
       "mean     77.182597   59.534802   23.471272   26.751538      NaN          NaN   \n",
       "std       7.224479   14.815921    2.790471    3.788058      NaN          NaN   \n",
       "min      49.263441   20.857143   15.603896   17.571429      NaN          NaN   \n",
       "25%      73.324273   48.584437   21.503432   24.142857      NaN          NaN   \n",
       "50%      77.993688   59.289346   23.524026   27.000000      NaN          NaN   \n",
       "75%      82.316340   72.764500   25.441687   29.000000      NaN          NaN   \n",
       "max      91.903172   87.689309   30.553572   36.857143      NaN          NaN   \n",
       "\n",
       "        casprov_est_min  casprov_est_max  casconf  notif_accum_year  \n",
       "count               0.0              0.0      0.0             562.0  \n",
       "unique              NaN              NaN      NaN               NaN  \n",
       "top                 NaN              NaN      NaN               NaN  \n",
       "freq                NaN              NaN      NaN               NaN  \n",
       "mean                NaN              NaN      NaN          210697.0  \n",
       "std                 NaN              NaN      NaN               0.0  \n",
       "min                 NaN              NaN      NaN          210697.0  \n",
       "25%                 NaN              NaN      NaN          210697.0  \n",
       "50%                 NaN              NaN      NaN          210697.0  \n",
       "75%                 NaN              NaN      NaN          210697.0  \n",
       "max                 NaN              NaN      NaN          210697.0  \n",
       "\n",
       "[11 rows x 30 columns]"
      ]
     },
     "execution_count": 6,
     "metadata": {},
     "output_type": "execute_result"
    }
   ],
   "source": [
    "df.describe(include='all')"
   ]
  },
  {
   "cell_type": "code",
   "execution_count": 8,
   "metadata": {},
   "outputs": [
    {
     "data": {
      "text/plain": [
       "0    562\n",
       "Name: Localidade_id, dtype: int64"
      ]
     },
     "execution_count": 8,
     "metadata": {},
     "output_type": "execute_result"
    }
   ],
   "source": [
    "\n",
    "df['Localidade_id'].value_counts()"
   ]
  },
  {
   "cell_type": "code",
   "execution_count": 9,
   "metadata": {},
   "outputs": [
    {
     "data": {
      "text/plain": [
       "1    325\n",
       "2    157\n",
       "3     51\n",
       "4     29\n",
       "Name: nivel, dtype: int64"
      ]
     },
     "execution_count": 9,
     "metadata": {},
     "output_type": "execute_result"
    }
   ],
   "source": [
    "df['nivel'].value_counts()"
   ]
  },
  {
   "cell_type": "code",
   "execution_count": 10,
   "metadata": {},
   "outputs": [],
   "source": [
    "colunas_com_nulos = ['umidmax','umidmed','umidmin','tempmed','tempmax']\n",
    "\n",
    "for col in colunas_com_nulos:\n",
    "    df[col] = df[col].interpolate(method='linear',limit_direction='both')"
   ]
  },
  {
   "cell_type": "code",
   "execution_count": 11,
   "metadata": {},
   "outputs": [],
   "source": [
    "colunas_a_remover = ['casprov','casprov_est','casprov_est_min','casprov_est_max','casconf']\n",
    "df.drop(columns=colunas_a_remover, inplace=True)"
   ]
  },
  {
   "cell_type": "code",
   "execution_count": 12,
   "metadata": {},
   "outputs": [
    {
     "name": "stdout",
     "output_type": "stream",
     "text": [
      "data_iniSE          0\n",
      "SE                  0\n",
      "casos_est           0\n",
      "casos_est_min       0\n",
      "casos_est_max       0\n",
      "casos               0\n",
      "p_rt1               0\n",
      "p_inc100k           0\n",
      "Localidade_id       0\n",
      "nivel               0\n",
      "id                  0\n",
      "versao_modelo       0\n",
      "tweet               0\n",
      "Rt                  0\n",
      "pop                 0\n",
      "tempmin             0\n",
      "umidmax             0\n",
      "receptivo           0\n",
      "transmissao         0\n",
      "nivel_inc           0\n",
      "umidmed             0\n",
      "umidmin             0\n",
      "tempmed             0\n",
      "tempmax             0\n",
      "notif_accum_year    0\n",
      "dtype: int64\n"
     ]
    }
   ],
   "source": [
    "print(df.isnull().sum())"
   ]
  },
  {
   "cell_type": "markdown",
   "metadata": {},
   "source": [
    "1. Como o número de casos estimados (casos_est) tem evoluído ao longo do tempo?\n",
    "\n",
    "2. Em quais semanas epidemiológicas (SE) o nivel de alerta foi o mais alto?\n",
    "\n",
    "3. A temperatura ou a umidade têm alguma correlação com o número de casos de dengue?\n",
    "\n",
    "4. Como o número reprodutivo Rt tem se comportado ao longo do tempo? Ele permaneceu abaixo de 1, indicando um controle da epidemia?\n",
    "\n",
    "5. Existem padrões sazonais nos dados?"
   ]
  },
  {
   "cell_type": "markdown",
   "metadata": {},
   "source": [
    "### 1. Como o número de casos estimados (casos_est) tem evoluído ao longo do tempo?"
   ]
  },
  {
   "cell_type": "code",
   "execution_count": 16,
   "metadata": {},
   "outputs": [
    {
     "data": {
      "application/vnd.plotly.v1+json": {
       "config": {
        "plotlyServerURL": "https://plot.ly"
       },
       "data": [
        {
         "hovertemplate": "Data=%{x}<br>Número de casos estimados=%{y}<extra></extra>",
         "legendgroup": "",
         "line": {
          "color": "#636efa",
          "dash": "solid"
         },
         "marker": {
          "symbol": "circle"
         },
         "mode": "lines",
         "name": "",
         "orientation": "v",
         "showlegend": false,
         "type": "scatter",
         "x": [
          "2023-10-01",
          "2023-09-24",
          "2023-09-17",
          "2023-09-10",
          "2023-09-03",
          "2023-08-27",
          "2023-08-20",
          "2023-08-13",
          "2023-08-06",
          "2023-07-30",
          "2023-07-23",
          "2023-07-16",
          "2023-07-09",
          "2023-07-02",
          "2023-06-25",
          "2023-06-18",
          "2023-06-11",
          "2023-06-04",
          "2023-05-28",
          "2023-05-21",
          "2023-05-14",
          "2023-05-07",
          "2023-04-30",
          "2023-04-23",
          "2023-04-16",
          "2023-04-09",
          "2023-04-02",
          "2023-03-26",
          "2023-03-19",
          "2023-03-12",
          "2023-03-05",
          "2023-02-26",
          "2023-02-19",
          "2023-02-12",
          "2023-02-05",
          "2023-01-29",
          "2023-01-22",
          "2023-01-15",
          "2023-01-08",
          "2023-01-01",
          "2022-12-25",
          "2022-12-18",
          "2022-12-11",
          "2022-12-04",
          "2022-11-27",
          "2022-11-20",
          "2022-11-13",
          "2022-11-06",
          "2022-10-30",
          "2022-10-23",
          "2022-10-16",
          "2022-10-09",
          "2022-10-02",
          "2022-09-25",
          "2022-09-18",
          "2022-09-11",
          "2022-09-04",
          "2022-08-28",
          "2022-08-21",
          "2022-08-14",
          "2022-08-07",
          "2022-07-31",
          "2022-07-24",
          "2022-07-17",
          "2022-07-10",
          "2022-07-03",
          "2022-06-26",
          "2022-06-19",
          "2022-06-12",
          "2022-06-05",
          "2022-05-29",
          "2022-05-22",
          "2022-05-15",
          "2022-05-08",
          "2022-05-01",
          "2022-04-24",
          "2022-04-17",
          "2022-04-10",
          "2022-04-03",
          "2022-03-27",
          "2022-03-20",
          "2022-03-13",
          "2022-03-06",
          "2022-02-27",
          "2022-02-20",
          "2022-02-13",
          "2022-02-06",
          "2022-01-30",
          "2022-01-23",
          "2022-01-16",
          "2022-01-09",
          "2022-01-02",
          "2021-12-26",
          "2021-12-19",
          "2021-12-12",
          "2021-12-05",
          "2021-11-28",
          "2021-11-21",
          "2021-11-14",
          "2021-11-07",
          "2021-10-31",
          "2021-10-24",
          "2021-10-17",
          "2021-10-10",
          "2021-10-03",
          "2021-09-26",
          "2021-09-19",
          "2021-09-12",
          "2021-09-05",
          "2021-08-29",
          "2021-08-22",
          "2021-08-15",
          "2021-08-08",
          "2021-08-01",
          "2021-07-25",
          "2021-07-18",
          "2021-07-11",
          "2021-07-04",
          "2021-06-27",
          "2021-06-20",
          "2021-06-13",
          "2021-06-06",
          "2021-05-30",
          "2021-05-23",
          "2021-05-16",
          "2021-05-09",
          "2021-05-02",
          "2021-04-25",
          "2021-04-18",
          "2021-04-11",
          "2021-04-04",
          "2021-03-28",
          "2021-03-21",
          "2021-03-14",
          "2021-03-07",
          "2021-02-28",
          "2021-02-21",
          "2021-02-14",
          "2021-02-07",
          "2021-01-31",
          "2021-01-24",
          "2021-01-17",
          "2021-01-10",
          "2021-01-03",
          "2020-12-27",
          "2020-12-20",
          "2020-12-13",
          "2020-12-06",
          "2020-11-29",
          "2020-11-22",
          "2020-11-15",
          "2020-11-08",
          "2020-11-01",
          "2020-10-25",
          "2020-10-18",
          "2020-10-11",
          "2020-10-04",
          "2020-09-27",
          "2020-09-20",
          "2020-09-13",
          "2020-09-06",
          "2020-08-30",
          "2020-08-23",
          "2020-08-16",
          "2020-08-09",
          "2020-08-02",
          "2020-07-26",
          "2020-07-19",
          "2020-07-12",
          "2020-07-05",
          "2020-06-28",
          "2020-06-21",
          "2020-06-14",
          "2020-06-07",
          "2020-05-31",
          "2020-05-24",
          "2020-05-17",
          "2020-05-10",
          "2020-05-03",
          "2020-04-26",
          "2020-04-19",
          "2020-04-12",
          "2020-04-05",
          "2020-03-29",
          "2020-03-22",
          "2020-03-15",
          "2020-03-08",
          "2020-03-01",
          "2020-02-23",
          "2020-02-16",
          "2020-02-09",
          "2020-02-02",
          "2020-01-26",
          "2020-01-19",
          "2020-01-12",
          "2020-01-05",
          "2019-12-29",
          "2019-12-22",
          "2019-12-15",
          "2019-12-08",
          "2019-12-01",
          "2019-11-24",
          "2019-11-17",
          "2019-11-10",
          "2019-11-03",
          "2019-10-27",
          "2019-10-20",
          "2019-10-13",
          "2019-10-06",
          "2019-09-29",
          "2019-09-22",
          "2019-09-15",
          "2019-09-08",
          "2019-09-01",
          "2019-08-25",
          "2019-08-18",
          "2019-08-11",
          "2019-08-04",
          "2019-07-28",
          "2019-07-21",
          "2019-07-14",
          "2019-07-07",
          "2019-06-30",
          "2019-06-23",
          "2019-06-16",
          "2019-06-09",
          "2019-06-02",
          "2019-05-26",
          "2019-05-19",
          "2019-05-12",
          "2019-05-05",
          "2019-04-28",
          "2019-04-21",
          "2019-04-14",
          "2019-04-07",
          "2019-03-31",
          "2019-03-24",
          "2019-03-17",
          "2019-03-10",
          "2019-03-03",
          "2019-02-24",
          "2019-02-17",
          "2019-02-10",
          "2019-02-03",
          "2019-01-27",
          "2019-01-20",
          "2019-01-13",
          "2019-01-06",
          "2018-12-30",
          "2018-12-23",
          "2018-12-16",
          "2018-12-09",
          "2018-12-02",
          "2018-11-25",
          "2018-11-18",
          "2018-11-11",
          "2018-11-04",
          "2018-10-28",
          "2018-10-21",
          "2018-10-14",
          "2018-10-07",
          "2018-09-30",
          "2018-09-23",
          "2018-09-16",
          "2018-09-09",
          "2018-09-02",
          "2018-08-26",
          "2018-08-19",
          "2018-08-12",
          "2018-08-05",
          "2018-07-29",
          "2018-07-22",
          "2018-07-15",
          "2018-07-08",
          "2018-07-01",
          "2018-06-24",
          "2018-06-17",
          "2018-06-10",
          "2018-06-03",
          "2018-05-27",
          "2018-05-20",
          "2018-05-13",
          "2018-05-06",
          "2018-04-29",
          "2018-04-22",
          "2018-04-15",
          "2018-04-04",
          "2018-04-01",
          "2018-03-25",
          "2018-03-18",
          "2018-03-11",
          "2018-03-04",
          "2018-02-25",
          "2018-02-18",
          "2018-02-11",
          "2018-02-04",
          "2018-01-28",
          "2018-01-21",
          "2018-01-14",
          "2018-01-07",
          "2017-12-31",
          "2017-12-24",
          "2017-12-17",
          "2017-12-10",
          "2017-12-03",
          "2017-11-26",
          "2017-11-19",
          "2017-11-12",
          "2017-11-05",
          "2017-10-29",
          "2017-10-22",
          "2017-10-15",
          "2017-10-08",
          "2017-10-01",
          "2017-09-24",
          "2017-09-17",
          "2017-09-10",
          "2017-09-03",
          "2017-08-27",
          "2017-08-20",
          "2017-08-13",
          "2017-08-06",
          "2017-07-30",
          "2017-07-23",
          "2017-07-16",
          "2017-07-09",
          "2017-07-02",
          "2017-06-25",
          "2017-06-18",
          "2017-06-11",
          "2017-06-04",
          "2017-05-28",
          "2017-05-21",
          "2017-05-14",
          "2017-05-07",
          "2017-04-30",
          "2017-04-23",
          "2017-04-16",
          "2017-04-09",
          "2017-04-02",
          "2017-03-26",
          "2017-03-19",
          "2017-03-12",
          "2017-03-05",
          "2017-02-26",
          "2017-02-19",
          "2017-02-12",
          "2017-02-05",
          "2017-01-29",
          "2017-01-22",
          "2017-01-15",
          "2017-01-08",
          "2017-01-01",
          "2016-12-25",
          "2016-12-18",
          "2016-12-11",
          "2016-12-04",
          "2016-11-27",
          "2016-11-20",
          "2016-11-13",
          "2016-11-06",
          "2016-10-30",
          "2016-10-23",
          "2016-10-16",
          "2016-10-09",
          "2016-10-02",
          "2016-09-25",
          "2016-09-18",
          "2016-09-11",
          "2016-09-04",
          "2016-08-28",
          "2016-08-21",
          "2016-08-14",
          "2016-08-07",
          "2016-07-31",
          "2016-07-24",
          "2016-07-17",
          "2016-07-10",
          "2016-07-03",
          "2016-06-26",
          "2016-06-19",
          "2016-06-12",
          "2016-06-05",
          "2016-05-29",
          "2016-05-22",
          "2016-05-15",
          "2016-05-08",
          "2016-05-01",
          "2016-04-24",
          "2016-04-17",
          "2016-04-10",
          "2016-04-03",
          "2016-03-27",
          "2016-03-20",
          "2016-03-13",
          "2016-03-06",
          "2016-02-28",
          "2016-02-21",
          "2016-02-14",
          "2016-02-07",
          "2016-01-31",
          "2016-01-24",
          "2016-01-17",
          "2016-01-10",
          "2016-01-03",
          "2015-12-27",
          "2015-12-20",
          "2015-12-13",
          "2015-12-06",
          "2015-11-29",
          "2015-11-22",
          "2015-11-15",
          "2015-11-08",
          "2015-11-01",
          "2015-10-25",
          "2015-10-18",
          "2015-10-11",
          "2015-10-04",
          "2015-09-27",
          "2015-09-20",
          "2015-09-13",
          "2015-09-06",
          "2015-08-30",
          "2015-08-23",
          "2015-08-16",
          "2015-08-09",
          "2015-08-02",
          "2015-07-26",
          "2015-07-19",
          "2015-07-12",
          "2015-07-05",
          "2015-06-28",
          "2015-06-21",
          "2015-06-14",
          "2015-06-07",
          "2015-05-31",
          "2015-05-24",
          "2015-05-17",
          "2015-05-10",
          "2015-05-03",
          "2015-04-26",
          "2015-04-19",
          "2015-04-12",
          "2015-04-05",
          "2015-03-29",
          "2015-03-22",
          "2015-03-15",
          "2015-03-08",
          "2015-03-01",
          "2015-02-22",
          "2015-02-15",
          "2015-02-08",
          "2015-02-01",
          "2015-01-25",
          "2015-01-18",
          "2015-01-11",
          "2015-01-04",
          "2014-12-28",
          "2014-12-21",
          "2014-12-14",
          "2014-12-07",
          "2014-11-30",
          "2014-11-23",
          "2014-11-16",
          "2014-11-09",
          "2014-11-02",
          "2014-10-26",
          "2014-10-19",
          "2014-10-12",
          "2014-10-05",
          "2014-09-28",
          "2014-09-21",
          "2014-09-14",
          "2014-09-07",
          "2014-08-31",
          "2014-08-24",
          "2014-08-17",
          "2014-08-10",
          "2014-08-03",
          "2014-07-27",
          "2014-07-20",
          "2014-07-13",
          "2014-07-06",
          "2014-06-29",
          "2014-06-22",
          "2014-06-15",
          "2014-06-08",
          "2014-06-01",
          "2014-05-25",
          "2014-05-18",
          "2014-05-11",
          "2014-05-04",
          "2014-04-27",
          "2014-04-20",
          "2014-04-13",
          "2014-04-06",
          "2014-03-30",
          "2014-03-23",
          "2014-03-16",
          "2014-03-09",
          "2014-03-02",
          "2014-02-23",
          "2014-02-16",
          "2014-02-09",
          "2014-02-02",
          "2014-01-26",
          "2014-01-19",
          "2014-01-12",
          "2014-01-05",
          "2013-12-29",
          "2013-12-22",
          "2013-12-15",
          "2013-12-08",
          "2013-12-01",
          "2013-11-24",
          "2013-11-17",
          "2013-11-10",
          "2013-11-03",
          "2013-10-27",
          "2013-10-20",
          "2013-10-13",
          "2013-10-06",
          "2013-09-29",
          "2013-09-22",
          "2013-09-15",
          "2013-09-08",
          "2013-09-01",
          "2013-08-25",
          "2013-08-18",
          "2013-08-11",
          "2013-08-04",
          "2013-07-28",
          "2013-07-21",
          "2013-07-14",
          "2013-07-07",
          "2013-06-30",
          "2013-06-23",
          "2013-06-16",
          "2013-06-09",
          "2013-06-02",
          "2013-05-26",
          "2013-05-19",
          "2013-05-12",
          "2013-05-05",
          "2013-04-28",
          "2013-04-21",
          "2013-04-14",
          "2013-04-07",
          "2013-03-31",
          "2013-03-24",
          "2013-03-17",
          "2013-03-10",
          "2013-03-03",
          "2013-02-24",
          "2013-02-17",
          "2013-02-10",
          "2013-02-03",
          "2013-01-27",
          "2013-01-20",
          "2013-01-13",
          "2013-01-06",
          "2012-12-30"
         ],
         "xaxis": "x",
         "y": [
          588.5,
          502,
          530,
          563,
          447,
          455,
          508,
          525,
          524,
          593,
          550,
          644,
          767,
          843,
          994,
          1230,
          1343,
          1242,
          1333,
          1487,
          1741,
          1798,
          1927,
          1575,
          1500,
          1792,
          1417,
          1586,
          1374,
          1118,
          946,
          860,
          505,
          370,
          520,
          373,
          311,
          241,
          212,
          225,
          169,
          119,
          126,
          106,
          86,
          94,
          129,
          171,
          131,
          139,
          160,
          123,
          102,
          95,
          102,
          120,
          101,
          94,
          99,
          110,
          106,
          145,
          148,
          194,
          144,
          155,
          189,
          209,
          153,
          255,
          338,
          400,
          406,
          505,
          461,
          342,
          234,
          201,
          222,
          153,
          177,
          126,
          116,
          66,
          62,
          47,
          35,
          31,
          19,
          22,
          14,
          21,
          5,
          9,
          14,
          35,
          46,
          51,
          44,
          11,
          16,
          11,
          9,
          19,
          8,
          28,
          13,
          19,
          25,
          34,
          34,
          18,
          19,
          24,
          14,
          38,
          41,
          48,
          58,
          42,
          70,
          69,
          80,
          98,
          102,
          82,
          61,
          80,
          79,
          112,
          124,
          96,
          80,
          72,
          59,
          43,
          49,
          32,
          32,
          37,
          59,
          26,
          21,
          15,
          8,
          6,
          8,
          10,
          17,
          10,
          20,
          25,
          12,
          9,
          19,
          10,
          12,
          11,
          14,
          12,
          10,
          10,
          9,
          10,
          12,
          11,
          11,
          17,
          22,
          18,
          13,
          14,
          22,
          16,
          11,
          16,
          12,
          13,
          29,
          29,
          29,
          28,
          21,
          36,
          32,
          39,
          53,
          70,
          49,
          65,
          77,
          57,
          77,
          85,
          109,
          100,
          69,
          43,
          58,
          75,
          49,
          74,
          50,
          56,
          65,
          40,
          58,
          65,
          67,
          73,
          99,
          83,
          66,
          64,
          71,
          97,
          140,
          140,
          169,
          168,
          238,
          285,
          489,
          497,
          551,
          769,
          980,
          1233,
          1573,
          1624,
          1864,
          1643,
          1432,
          1280,
          1207,
          1112,
          801,
          643,
          414,
          274,
          157,
          195,
          182,
          167,
          159,
          205,
          201,
          186,
          179,
          147,
          124,
          138,
          150,
          106,
          65,
          69,
          71,
          66,
          70,
          72,
          43,
          59,
          41,
          63,
          54,
          51,
          68,
          67,
          75,
          120,
          92,
          119,
          152,
          153,
          218,
          193,
          160,
          196,
          194,
          197,
          211,
          328,
          331,
          313,
          264,
          251,
          279,
          289,
          237,
          200,
          179,
          197,
          144,
          129,
          78,
          74,
          107,
          97,
          126,
          105,
          133,
          58,
          56,
          67,
          84,
          61,
          49,
          56,
          59,
          38,
          53,
          61,
          56,
          59,
          37,
          54,
          36,
          32,
          31,
          35,
          27,
          24,
          39,
          33,
          40,
          30,
          31,
          29,
          38,
          34,
          74,
          58,
          34,
          52,
          86,
          95,
          87,
          86,
          95,
          129,
          123,
          134,
          159,
          135,
          131,
          115,
          223,
          236,
          237,
          282,
          219,
          213,
          196,
          252,
          135,
          102,
          127,
          133,
          107,
          72,
          65,
          37,
          54,
          63,
          39,
          34,
          32,
          47,
          50,
          48,
          64,
          63,
          74,
          95,
          95,
          133,
          143,
          187,
          228,
          234,
          262,
          314,
          508,
          540,
          503,
          976,
          1232,
          1339,
          2254,
          2312,
          2863,
          2968,
          3127,
          1877,
          1462,
          1328,
          1064,
          875,
          889,
          646,
          473,
          476,
          470,
          476,
          550,
          218,
          312,
          446,
          413,
          316,
          211,
          200,
          174,
          155,
          116,
          110,
          109,
          132,
          121,
          117,
          107,
          135,
          186,
          178,
          184,
          475,
          255,
          260,
          327,
          331,
          438,
          436,
          870,
          959,
          891,
          976,
          1180,
          1591,
          1598,
          1359,
          1211,
          1000,
          864,
          691,
          399,
          306,
          277,
          200,
          130,
          101,
          74,
          48,
          63,
          43,
          47,
          44,
          53,
          11,
          25,
          34,
          39,
          47,
          46,
          43,
          54,
          49,
          47,
          61,
          63,
          66,
          90,
          76,
          68,
          61,
          76,
          64,
          61,
          53,
          56,
          58,
          45,
          44,
          44,
          59,
          46,
          57,
          49,
          60,
          54,
          81,
          89,
          84,
          89,
          70,
          72,
          86,
          87,
          94,
          117,
          92,
          74,
          67,
          120,
          119,
          125,
          119,
          156,
          142,
          152,
          89,
          81,
          77,
          115,
          144,
          111,
          108,
          74,
          48,
          73,
          75,
          62,
          65,
          62,
          104,
          56,
          83,
          61,
          232,
          76,
          186,
          93,
          134,
          85,
          185,
          206,
          223,
          281,
          426,
          520,
          614,
          816,
          1248,
          1670,
          2292,
          2865,
          3931,
          5475,
          6499,
          6644,
          5351,
          5423,
          5395,
          4017,
          3852,
          3237,
          1749,
          1321,
          1346,
          1146,
          919,
          862,
          534
         ],
         "yaxis": "y"
        }
       ],
       "layout": {
        "legend": {
         "tracegroupgap": 0
        },
        "template": {
         "data": {
          "bar": [
           {
            "error_x": {
             "color": "#2a3f5f"
            },
            "error_y": {
             "color": "#2a3f5f"
            },
            "marker": {
             "line": {
              "color": "#E5ECF6",
              "width": 0.5
             },
             "pattern": {
              "fillmode": "overlay",
              "size": 10,
              "solidity": 0.2
             }
            },
            "type": "bar"
           }
          ],
          "barpolar": [
           {
            "marker": {
             "line": {
              "color": "#E5ECF6",
              "width": 0.5
             },
             "pattern": {
              "fillmode": "overlay",
              "size": 10,
              "solidity": 0.2
             }
            },
            "type": "barpolar"
           }
          ],
          "carpet": [
           {
            "aaxis": {
             "endlinecolor": "#2a3f5f",
             "gridcolor": "white",
             "linecolor": "white",
             "minorgridcolor": "white",
             "startlinecolor": "#2a3f5f"
            },
            "baxis": {
             "endlinecolor": "#2a3f5f",
             "gridcolor": "white",
             "linecolor": "white",
             "minorgridcolor": "white",
             "startlinecolor": "#2a3f5f"
            },
            "type": "carpet"
           }
          ],
          "choropleth": [
           {
            "colorbar": {
             "outlinewidth": 0,
             "ticks": ""
            },
            "type": "choropleth"
           }
          ],
          "contour": [
           {
            "colorbar": {
             "outlinewidth": 0,
             "ticks": ""
            },
            "colorscale": [
             [
              0,
              "#0d0887"
             ],
             [
              0.1111111111111111,
              "#46039f"
             ],
             [
              0.2222222222222222,
              "#7201a8"
             ],
             [
              0.3333333333333333,
              "#9c179e"
             ],
             [
              0.4444444444444444,
              "#bd3786"
             ],
             [
              0.5555555555555556,
              "#d8576b"
             ],
             [
              0.6666666666666666,
              "#ed7953"
             ],
             [
              0.7777777777777778,
              "#fb9f3a"
             ],
             [
              0.8888888888888888,
              "#fdca26"
             ],
             [
              1,
              "#f0f921"
             ]
            ],
            "type": "contour"
           }
          ],
          "contourcarpet": [
           {
            "colorbar": {
             "outlinewidth": 0,
             "ticks": ""
            },
            "type": "contourcarpet"
           }
          ],
          "heatmap": [
           {
            "colorbar": {
             "outlinewidth": 0,
             "ticks": ""
            },
            "colorscale": [
             [
              0,
              "#0d0887"
             ],
             [
              0.1111111111111111,
              "#46039f"
             ],
             [
              0.2222222222222222,
              "#7201a8"
             ],
             [
              0.3333333333333333,
              "#9c179e"
             ],
             [
              0.4444444444444444,
              "#bd3786"
             ],
             [
              0.5555555555555556,
              "#d8576b"
             ],
             [
              0.6666666666666666,
              "#ed7953"
             ],
             [
              0.7777777777777778,
              "#fb9f3a"
             ],
             [
              0.8888888888888888,
              "#fdca26"
             ],
             [
              1,
              "#f0f921"
             ]
            ],
            "type": "heatmap"
           }
          ],
          "heatmapgl": [
           {
            "colorbar": {
             "outlinewidth": 0,
             "ticks": ""
            },
            "colorscale": [
             [
              0,
              "#0d0887"
             ],
             [
              0.1111111111111111,
              "#46039f"
             ],
             [
              0.2222222222222222,
              "#7201a8"
             ],
             [
              0.3333333333333333,
              "#9c179e"
             ],
             [
              0.4444444444444444,
              "#bd3786"
             ],
             [
              0.5555555555555556,
              "#d8576b"
             ],
             [
              0.6666666666666666,
              "#ed7953"
             ],
             [
              0.7777777777777778,
              "#fb9f3a"
             ],
             [
              0.8888888888888888,
              "#fdca26"
             ],
             [
              1,
              "#f0f921"
             ]
            ],
            "type": "heatmapgl"
           }
          ],
          "histogram": [
           {
            "marker": {
             "pattern": {
              "fillmode": "overlay",
              "size": 10,
              "solidity": 0.2
             }
            },
            "type": "histogram"
           }
          ],
          "histogram2d": [
           {
            "colorbar": {
             "outlinewidth": 0,
             "ticks": ""
            },
            "colorscale": [
             [
              0,
              "#0d0887"
             ],
             [
              0.1111111111111111,
              "#46039f"
             ],
             [
              0.2222222222222222,
              "#7201a8"
             ],
             [
              0.3333333333333333,
              "#9c179e"
             ],
             [
              0.4444444444444444,
              "#bd3786"
             ],
             [
              0.5555555555555556,
              "#d8576b"
             ],
             [
              0.6666666666666666,
              "#ed7953"
             ],
             [
              0.7777777777777778,
              "#fb9f3a"
             ],
             [
              0.8888888888888888,
              "#fdca26"
             ],
             [
              1,
              "#f0f921"
             ]
            ],
            "type": "histogram2d"
           }
          ],
          "histogram2dcontour": [
           {
            "colorbar": {
             "outlinewidth": 0,
             "ticks": ""
            },
            "colorscale": [
             [
              0,
              "#0d0887"
             ],
             [
              0.1111111111111111,
              "#46039f"
             ],
             [
              0.2222222222222222,
              "#7201a8"
             ],
             [
              0.3333333333333333,
              "#9c179e"
             ],
             [
              0.4444444444444444,
              "#bd3786"
             ],
             [
              0.5555555555555556,
              "#d8576b"
             ],
             [
              0.6666666666666666,
              "#ed7953"
             ],
             [
              0.7777777777777778,
              "#fb9f3a"
             ],
             [
              0.8888888888888888,
              "#fdca26"
             ],
             [
              1,
              "#f0f921"
             ]
            ],
            "type": "histogram2dcontour"
           }
          ],
          "mesh3d": [
           {
            "colorbar": {
             "outlinewidth": 0,
             "ticks": ""
            },
            "type": "mesh3d"
           }
          ],
          "parcoords": [
           {
            "line": {
             "colorbar": {
              "outlinewidth": 0,
              "ticks": ""
             }
            },
            "type": "parcoords"
           }
          ],
          "pie": [
           {
            "automargin": true,
            "type": "pie"
           }
          ],
          "scatter": [
           {
            "fillpattern": {
             "fillmode": "overlay",
             "size": 10,
             "solidity": 0.2
            },
            "type": "scatter"
           }
          ],
          "scatter3d": [
           {
            "line": {
             "colorbar": {
              "outlinewidth": 0,
              "ticks": ""
             }
            },
            "marker": {
             "colorbar": {
              "outlinewidth": 0,
              "ticks": ""
             }
            },
            "type": "scatter3d"
           }
          ],
          "scattercarpet": [
           {
            "marker": {
             "colorbar": {
              "outlinewidth": 0,
              "ticks": ""
             }
            },
            "type": "scattercarpet"
           }
          ],
          "scattergeo": [
           {
            "marker": {
             "colorbar": {
              "outlinewidth": 0,
              "ticks": ""
             }
            },
            "type": "scattergeo"
           }
          ],
          "scattergl": [
           {
            "marker": {
             "colorbar": {
              "outlinewidth": 0,
              "ticks": ""
             }
            },
            "type": "scattergl"
           }
          ],
          "scattermapbox": [
           {
            "marker": {
             "colorbar": {
              "outlinewidth": 0,
              "ticks": ""
             }
            },
            "type": "scattermapbox"
           }
          ],
          "scatterpolar": [
           {
            "marker": {
             "colorbar": {
              "outlinewidth": 0,
              "ticks": ""
             }
            },
            "type": "scatterpolar"
           }
          ],
          "scatterpolargl": [
           {
            "marker": {
             "colorbar": {
              "outlinewidth": 0,
              "ticks": ""
             }
            },
            "type": "scatterpolargl"
           }
          ],
          "scatterternary": [
           {
            "marker": {
             "colorbar": {
              "outlinewidth": 0,
              "ticks": ""
             }
            },
            "type": "scatterternary"
           }
          ],
          "surface": [
           {
            "colorbar": {
             "outlinewidth": 0,
             "ticks": ""
            },
            "colorscale": [
             [
              0,
              "#0d0887"
             ],
             [
              0.1111111111111111,
              "#46039f"
             ],
             [
              0.2222222222222222,
              "#7201a8"
             ],
             [
              0.3333333333333333,
              "#9c179e"
             ],
             [
              0.4444444444444444,
              "#bd3786"
             ],
             [
              0.5555555555555556,
              "#d8576b"
             ],
             [
              0.6666666666666666,
              "#ed7953"
             ],
             [
              0.7777777777777778,
              "#fb9f3a"
             ],
             [
              0.8888888888888888,
              "#fdca26"
             ],
             [
              1,
              "#f0f921"
             ]
            ],
            "type": "surface"
           }
          ],
          "table": [
           {
            "cells": {
             "fill": {
              "color": "#EBF0F8"
             },
             "line": {
              "color": "white"
             }
            },
            "header": {
             "fill": {
              "color": "#C8D4E3"
             },
             "line": {
              "color": "white"
             }
            },
            "type": "table"
           }
          ]
         },
         "layout": {
          "annotationdefaults": {
           "arrowcolor": "#2a3f5f",
           "arrowhead": 0,
           "arrowwidth": 1
          },
          "autotypenumbers": "strict",
          "coloraxis": {
           "colorbar": {
            "outlinewidth": 0,
            "ticks": ""
           }
          },
          "colorscale": {
           "diverging": [
            [
             0,
             "#8e0152"
            ],
            [
             0.1,
             "#c51b7d"
            ],
            [
             0.2,
             "#de77ae"
            ],
            [
             0.3,
             "#f1b6da"
            ],
            [
             0.4,
             "#fde0ef"
            ],
            [
             0.5,
             "#f7f7f7"
            ],
            [
             0.6,
             "#e6f5d0"
            ],
            [
             0.7,
             "#b8e186"
            ],
            [
             0.8,
             "#7fbc41"
            ],
            [
             0.9,
             "#4d9221"
            ],
            [
             1,
             "#276419"
            ]
           ],
           "sequential": [
            [
             0,
             "#0d0887"
            ],
            [
             0.1111111111111111,
             "#46039f"
            ],
            [
             0.2222222222222222,
             "#7201a8"
            ],
            [
             0.3333333333333333,
             "#9c179e"
            ],
            [
             0.4444444444444444,
             "#bd3786"
            ],
            [
             0.5555555555555556,
             "#d8576b"
            ],
            [
             0.6666666666666666,
             "#ed7953"
            ],
            [
             0.7777777777777778,
             "#fb9f3a"
            ],
            [
             0.8888888888888888,
             "#fdca26"
            ],
            [
             1,
             "#f0f921"
            ]
           ],
           "sequentialminus": [
            [
             0,
             "#0d0887"
            ],
            [
             0.1111111111111111,
             "#46039f"
            ],
            [
             0.2222222222222222,
             "#7201a8"
            ],
            [
             0.3333333333333333,
             "#9c179e"
            ],
            [
             0.4444444444444444,
             "#bd3786"
            ],
            [
             0.5555555555555556,
             "#d8576b"
            ],
            [
             0.6666666666666666,
             "#ed7953"
            ],
            [
             0.7777777777777778,
             "#fb9f3a"
            ],
            [
             0.8888888888888888,
             "#fdca26"
            ],
            [
             1,
             "#f0f921"
            ]
           ]
          },
          "colorway": [
           "#636efa",
           "#EF553B",
           "#00cc96",
           "#ab63fa",
           "#FFA15A",
           "#19d3f3",
           "#FF6692",
           "#B6E880",
           "#FF97FF",
           "#FECB52"
          ],
          "font": {
           "color": "#2a3f5f"
          },
          "geo": {
           "bgcolor": "white",
           "lakecolor": "white",
           "landcolor": "#E5ECF6",
           "showlakes": true,
           "showland": true,
           "subunitcolor": "white"
          },
          "hoverlabel": {
           "align": "left"
          },
          "hovermode": "closest",
          "mapbox": {
           "style": "light"
          },
          "paper_bgcolor": "white",
          "plot_bgcolor": "#E5ECF6",
          "polar": {
           "angularaxis": {
            "gridcolor": "white",
            "linecolor": "white",
            "ticks": ""
           },
           "bgcolor": "#E5ECF6",
           "radialaxis": {
            "gridcolor": "white",
            "linecolor": "white",
            "ticks": ""
           }
          },
          "scene": {
           "xaxis": {
            "backgroundcolor": "#E5ECF6",
            "gridcolor": "white",
            "gridwidth": 2,
            "linecolor": "white",
            "showbackground": true,
            "ticks": "",
            "zerolinecolor": "white"
           },
           "yaxis": {
            "backgroundcolor": "#E5ECF6",
            "gridcolor": "white",
            "gridwidth": 2,
            "linecolor": "white",
            "showbackground": true,
            "ticks": "",
            "zerolinecolor": "white"
           },
           "zaxis": {
            "backgroundcolor": "#E5ECF6",
            "gridcolor": "white",
            "gridwidth": 2,
            "linecolor": "white",
            "showbackground": true,
            "ticks": "",
            "zerolinecolor": "white"
           }
          },
          "shapedefaults": {
           "line": {
            "color": "#2a3f5f"
           }
          },
          "ternary": {
           "aaxis": {
            "gridcolor": "white",
            "linecolor": "white",
            "ticks": ""
           },
           "baxis": {
            "gridcolor": "white",
            "linecolor": "white",
            "ticks": ""
           },
           "bgcolor": "#E5ECF6",
           "caxis": {
            "gridcolor": "white",
            "linecolor": "white",
            "ticks": ""
           }
          },
          "title": {
           "x": 0.05
          },
          "xaxis": {
           "automargin": true,
           "gridcolor": "white",
           "linecolor": "white",
           "ticks": "",
           "title": {
            "standoff": 15
           },
           "zerolinecolor": "white",
           "zerolinewidth": 2
          },
          "yaxis": {
           "automargin": true,
           "gridcolor": "white",
           "linecolor": "white",
           "ticks": "",
           "title": {
            "standoff": 15
           },
           "zerolinecolor": "white",
           "zerolinewidth": 2
          }
         }
        },
        "title": {
         "text": "Evolução do número de casos estimados de dengue ao longo do tempo na cidade do Rio de Janeiro"
        },
        "xaxis": {
         "anchor": "y",
         "domain": [
          0,
          1
         ],
         "title": {
          "text": "Data"
         }
        },
        "yaxis": {
         "anchor": "x",
         "domain": [
          0,
          1
         ],
         "title": {
          "text": "Número de casos estimados"
         }
        }
       }
      }
     },
     "metadata": {},
     "output_type": "display_data"
    }
   ],
   "source": [
    "fig = px.line(df,\n",
    "              x='data_iniSE',\n",
    "              y='casos_est',\n",
    "              title='Evolução do número de casos estimados de dengue ao longo do tempo na cidade do Rio de Janeiro',\n",
    "              labels={'data_iniSE': 'Data', 'casos_est': 'Número de casos estimados'})\n",
    "\n",
    "fig.show()"
   ]
  },
  {
   "cell_type": "markdown",
   "metadata": {},
   "source": [
    "### 2. Em quais semanas epidemiológicas (SE) o nivel de alerta foi o mais alto?"
   ]
  },
  {
   "cell_type": "code",
   "execution_count": 27,
   "metadata": {},
   "outputs": [
    {
     "data": {
      "application/vnd.plotly.v1+json": {
       "config": {
        "plotlyServerURL": "https://plot.ly"
       },
       "data": [
        {
         "hovertemplate": "Data=%{x}<br>Nível de Alerta=%{y}<extra></extra>",
         "legendgroup": "",
         "line": {
          "color": "#636efa",
          "dash": "solid"
         },
         "marker": {
          "symbol": "circle"
         },
         "mode": "lines",
         "name": "",
         "orientation": "v",
         "showlegend": false,
         "type": "scatter",
         "x": [
          "2023-10-01",
          "2023-09-24",
          "2023-09-17",
          "2023-09-10",
          "2023-09-03",
          "2023-08-27",
          "2023-08-20",
          "2023-08-13",
          "2023-08-06",
          "2023-07-30",
          "2023-07-23",
          "2023-07-16",
          "2023-07-09",
          "2023-07-02",
          "2023-06-25",
          "2023-06-18",
          "2023-06-11",
          "2023-06-04",
          "2023-05-28",
          "2023-05-21",
          "2023-05-14",
          "2023-05-07",
          "2023-04-30",
          "2023-04-23",
          "2023-04-16",
          "2023-04-09",
          "2023-04-02",
          "2023-03-26",
          "2023-03-19",
          "2023-03-12",
          "2023-03-05",
          "2023-02-26",
          "2023-02-19",
          "2023-02-12",
          "2023-02-05",
          "2023-01-29",
          "2023-01-22",
          "2023-01-15",
          "2023-01-08",
          "2023-01-01",
          "2022-12-25",
          "2022-12-18",
          "2022-12-11",
          "2022-12-04",
          "2022-11-27",
          "2022-11-20",
          "2022-11-13",
          "2022-11-06",
          "2022-10-30",
          "2022-10-23",
          "2022-10-16",
          "2022-10-09",
          "2022-10-02",
          "2022-09-25",
          "2022-09-18",
          "2022-09-11",
          "2022-09-04",
          "2022-08-28",
          "2022-08-21",
          "2022-08-14",
          "2022-08-07",
          "2022-07-31",
          "2022-07-24",
          "2022-07-17",
          "2022-07-10",
          "2022-07-03",
          "2022-06-26",
          "2022-06-19",
          "2022-06-12",
          "2022-06-05",
          "2022-05-29",
          "2022-05-22",
          "2022-05-15",
          "2022-05-08",
          "2022-05-01",
          "2022-04-24",
          "2022-04-17",
          "2022-04-10",
          "2022-04-03",
          "2022-03-27",
          "2022-03-20",
          "2022-03-13",
          "2022-03-06",
          "2022-02-27",
          "2022-02-20",
          "2022-02-13",
          "2022-02-06",
          "2022-01-30",
          "2022-01-23",
          "2022-01-16",
          "2022-01-09",
          "2022-01-02",
          "2021-12-26",
          "2021-12-19",
          "2021-12-12",
          "2021-12-05",
          "2021-11-28",
          "2021-11-21",
          "2021-11-14",
          "2021-11-07",
          "2021-10-31",
          "2021-10-24",
          "2021-10-17",
          "2021-10-10",
          "2021-10-03",
          "2021-09-26",
          "2021-09-19",
          "2021-09-12",
          "2021-09-05",
          "2021-08-29",
          "2021-08-22",
          "2021-08-15",
          "2021-08-08",
          "2021-08-01",
          "2021-07-25",
          "2021-07-18",
          "2021-07-11",
          "2021-07-04",
          "2021-06-27",
          "2021-06-20",
          "2021-06-13",
          "2021-06-06",
          "2021-05-30",
          "2021-05-23",
          "2021-05-16",
          "2021-05-09",
          "2021-05-02",
          "2021-04-25",
          "2021-04-18",
          "2021-04-11",
          "2021-04-04",
          "2021-03-28",
          "2021-03-21",
          "2021-03-14",
          "2021-03-07",
          "2021-02-28",
          "2021-02-21",
          "2021-02-14",
          "2021-02-07",
          "2021-01-31",
          "2021-01-24",
          "2021-01-17",
          "2021-01-10",
          "2021-01-03",
          "2020-12-27",
          "2020-12-20",
          "2020-12-13",
          "2020-12-06",
          "2020-11-29",
          "2020-11-22",
          "2020-11-15",
          "2020-11-08",
          "2020-11-01",
          "2020-10-25",
          "2020-10-18",
          "2020-10-11",
          "2020-10-04",
          "2020-09-27",
          "2020-09-20",
          "2020-09-13",
          "2020-09-06",
          "2020-08-30",
          "2020-08-23",
          "2020-08-16",
          "2020-08-09",
          "2020-08-02",
          "2020-07-26",
          "2020-07-19",
          "2020-07-12",
          "2020-07-05",
          "2020-06-28",
          "2020-06-21",
          "2020-06-14",
          "2020-06-07",
          "2020-05-31",
          "2020-05-24",
          "2020-05-17",
          "2020-05-10",
          "2020-05-03",
          "2020-04-26",
          "2020-04-19",
          "2020-04-12",
          "2020-04-05",
          "2020-03-29",
          "2020-03-22",
          "2020-03-15",
          "2020-03-08",
          "2020-03-01",
          "2020-02-23",
          "2020-02-16",
          "2020-02-09",
          "2020-02-02",
          "2020-01-26",
          "2020-01-19",
          "2020-01-12",
          "2020-01-05",
          "2019-12-29",
          "2019-12-22",
          "2019-12-15",
          "2019-12-08",
          "2019-12-01",
          "2019-11-24",
          "2019-11-17",
          "2019-11-10",
          "2019-11-03",
          "2019-10-27",
          "2019-10-20",
          "2019-10-13",
          "2019-10-06",
          "2019-09-29",
          "2019-09-22",
          "2019-09-15",
          "2019-09-08",
          "2019-09-01",
          "2019-08-25",
          "2019-08-18",
          "2019-08-11",
          "2019-08-04",
          "2019-07-28",
          "2019-07-21",
          "2019-07-14",
          "2019-07-07",
          "2019-06-30",
          "2019-06-23",
          "2019-06-16",
          "2019-06-09",
          "2019-06-02",
          "2019-05-26",
          "2019-05-19",
          "2019-05-12",
          "2019-05-05",
          "2019-04-28",
          "2019-04-21",
          "2019-04-14",
          "2019-04-07",
          "2019-03-31",
          "2019-03-24",
          "2019-03-17",
          "2019-03-10",
          "2019-03-03",
          "2019-02-24",
          "2019-02-17",
          "2019-02-10",
          "2019-02-03",
          "2019-01-27",
          "2019-01-20",
          "2019-01-13",
          "2019-01-06",
          "2018-12-30",
          "2018-12-23",
          "2018-12-16",
          "2018-12-09",
          "2018-12-02",
          "2018-11-25",
          "2018-11-18",
          "2018-11-11",
          "2018-11-04",
          "2018-10-28",
          "2018-10-21",
          "2018-10-14",
          "2018-10-07",
          "2018-09-30",
          "2018-09-23",
          "2018-09-16",
          "2018-09-09",
          "2018-09-02",
          "2018-08-26",
          "2018-08-19",
          "2018-08-12",
          "2018-08-05",
          "2018-07-29",
          "2018-07-22",
          "2018-07-15",
          "2018-07-08",
          "2018-07-01",
          "2018-06-24",
          "2018-06-17",
          "2018-06-10",
          "2018-06-03",
          "2018-05-27",
          "2018-05-20",
          "2018-05-13",
          "2018-05-06",
          "2018-04-29",
          "2018-04-22",
          "2018-04-15",
          "2018-04-04",
          "2018-04-01",
          "2018-03-25",
          "2018-03-18",
          "2018-03-11",
          "2018-03-04",
          "2018-02-25",
          "2018-02-18",
          "2018-02-11",
          "2018-02-04",
          "2018-01-28",
          "2018-01-21",
          "2018-01-14",
          "2018-01-07",
          "2017-12-31",
          "2017-12-24",
          "2017-12-17",
          "2017-12-10",
          "2017-12-03",
          "2017-11-26",
          "2017-11-19",
          "2017-11-12",
          "2017-11-05",
          "2017-10-29",
          "2017-10-22",
          "2017-10-15",
          "2017-10-08",
          "2017-10-01",
          "2017-09-24",
          "2017-09-17",
          "2017-09-10",
          "2017-09-03",
          "2017-08-27",
          "2017-08-20",
          "2017-08-13",
          "2017-08-06",
          "2017-07-30",
          "2017-07-23",
          "2017-07-16",
          "2017-07-09",
          "2017-07-02",
          "2017-06-25",
          "2017-06-18",
          "2017-06-11",
          "2017-06-04",
          "2017-05-28",
          "2017-05-21",
          "2017-05-14",
          "2017-05-07",
          "2017-04-30",
          "2017-04-23",
          "2017-04-16",
          "2017-04-09",
          "2017-04-02",
          "2017-03-26",
          "2017-03-19",
          "2017-03-12",
          "2017-03-05",
          "2017-02-26",
          "2017-02-19",
          "2017-02-12",
          "2017-02-05",
          "2017-01-29",
          "2017-01-22",
          "2017-01-15",
          "2017-01-08",
          "2017-01-01",
          "2016-12-25",
          "2016-12-18",
          "2016-12-11",
          "2016-12-04",
          "2016-11-27",
          "2016-11-20",
          "2016-11-13",
          "2016-11-06",
          "2016-10-30",
          "2016-10-23",
          "2016-10-16",
          "2016-10-09",
          "2016-10-02",
          "2016-09-25",
          "2016-09-18",
          "2016-09-11",
          "2016-09-04",
          "2016-08-28",
          "2016-08-21",
          "2016-08-14",
          "2016-08-07",
          "2016-07-31",
          "2016-07-24",
          "2016-07-17",
          "2016-07-10",
          "2016-07-03",
          "2016-06-26",
          "2016-06-19",
          "2016-06-12",
          "2016-06-05",
          "2016-05-29",
          "2016-05-22",
          "2016-05-15",
          "2016-05-08",
          "2016-05-01",
          "2016-04-24",
          "2016-04-17",
          "2016-04-10",
          "2016-04-03",
          "2016-03-27",
          "2016-03-20",
          "2016-03-13",
          "2016-03-06",
          "2016-02-28",
          "2016-02-21",
          "2016-02-14",
          "2016-02-07",
          "2016-01-31",
          "2016-01-24",
          "2016-01-17",
          "2016-01-10",
          "2016-01-03",
          "2015-12-27",
          "2015-12-20",
          "2015-12-13",
          "2015-12-06",
          "2015-11-29",
          "2015-11-22",
          "2015-11-15",
          "2015-11-08",
          "2015-11-01",
          "2015-10-25",
          "2015-10-18",
          "2015-10-11",
          "2015-10-04",
          "2015-09-27",
          "2015-09-20",
          "2015-09-13",
          "2015-09-06",
          "2015-08-30",
          "2015-08-23",
          "2015-08-16",
          "2015-08-09",
          "2015-08-02",
          "2015-07-26",
          "2015-07-19",
          "2015-07-12",
          "2015-07-05",
          "2015-06-28",
          "2015-06-21",
          "2015-06-14",
          "2015-06-07",
          "2015-05-31",
          "2015-05-24",
          "2015-05-17",
          "2015-05-10",
          "2015-05-03",
          "2015-04-26",
          "2015-04-19",
          "2015-04-12",
          "2015-04-05",
          "2015-03-29",
          "2015-03-22",
          "2015-03-15",
          "2015-03-08",
          "2015-03-01",
          "2015-02-22",
          "2015-02-15",
          "2015-02-08",
          "2015-02-01",
          "2015-01-25",
          "2015-01-18",
          "2015-01-11",
          "2015-01-04",
          "2014-12-28",
          "2014-12-21",
          "2014-12-14",
          "2014-12-07",
          "2014-11-30",
          "2014-11-23",
          "2014-11-16",
          "2014-11-09",
          "2014-11-02",
          "2014-10-26",
          "2014-10-19",
          "2014-10-12",
          "2014-10-05",
          "2014-09-28",
          "2014-09-21",
          "2014-09-14",
          "2014-09-07",
          "2014-08-31",
          "2014-08-24",
          "2014-08-17",
          "2014-08-10",
          "2014-08-03",
          "2014-07-27",
          "2014-07-20",
          "2014-07-13",
          "2014-07-06",
          "2014-06-29",
          "2014-06-22",
          "2014-06-15",
          "2014-06-08",
          "2014-06-01",
          "2014-05-25",
          "2014-05-18",
          "2014-05-11",
          "2014-05-04",
          "2014-04-27",
          "2014-04-20",
          "2014-04-13",
          "2014-04-06",
          "2014-03-30",
          "2014-03-23",
          "2014-03-16",
          "2014-03-09",
          "2014-03-02",
          "2014-02-23",
          "2014-02-16",
          "2014-02-09",
          "2014-02-02",
          "2014-01-26",
          "2014-01-19",
          "2014-01-12",
          "2014-01-05",
          "2013-12-29",
          "2013-12-22",
          "2013-12-15",
          "2013-12-08",
          "2013-12-01",
          "2013-11-24",
          "2013-11-17",
          "2013-11-10",
          "2013-11-03",
          "2013-10-27",
          "2013-10-20",
          "2013-10-13",
          "2013-10-06",
          "2013-09-29",
          "2013-09-22",
          "2013-09-15",
          "2013-09-08",
          "2013-09-01",
          "2013-08-25",
          "2013-08-18",
          "2013-08-11",
          "2013-08-04",
          "2013-07-28",
          "2013-07-21",
          "2013-07-14",
          "2013-07-07",
          "2013-06-30",
          "2013-06-23",
          "2013-06-16",
          "2013-06-09",
          "2013-06-02",
          "2013-05-26",
          "2013-05-19",
          "2013-05-12",
          "2013-05-05",
          "2013-04-28",
          "2013-04-21",
          "2013-04-14",
          "2013-04-07",
          "2013-03-31",
          "2013-03-24",
          "2013-03-17",
          "2013-03-10",
          "2013-03-03",
          "2013-02-24",
          "2013-02-17",
          "2013-02-10",
          "2013-02-03",
          "2013-01-27",
          "2013-01-20",
          "2013-01-13",
          "2013-01-06",
          "2012-12-30"
         ],
         "xaxis": "x",
         "y": [
          2,
          1,
          1,
          1,
          1,
          1,
          1,
          1,
          1,
          1,
          4,
          4,
          4,
          4,
          4,
          4,
          4,
          4,
          4,
          4,
          4,
          4,
          4,
          4,
          4,
          4,
          4,
          4,
          4,
          4,
          3,
          3,
          2,
          3,
          3,
          3,
          3,
          3,
          3,
          3,
          1,
          1,
          1,
          1,
          1,
          1,
          1,
          1,
          1,
          1,
          1,
          1,
          1,
          1,
          1,
          1,
          1,
          1,
          1,
          1,
          1,
          1,
          1,
          1,
          1,
          1,
          1,
          1,
          1,
          1,
          1,
          1,
          3,
          3,
          1,
          1,
          1,
          2,
          2,
          2,
          2,
          2,
          2,
          2,
          2,
          2,
          2,
          2,
          2,
          2,
          2,
          2,
          2,
          1,
          1,
          1,
          1,
          1,
          1,
          1,
          1,
          1,
          1,
          1,
          1,
          1,
          1,
          1,
          1,
          1,
          1,
          1,
          1,
          1,
          1,
          1,
          1,
          1,
          1,
          1,
          1,
          1,
          1,
          1,
          1,
          1,
          1,
          1,
          1,
          1,
          2,
          2,
          2,
          2,
          2,
          2,
          2,
          2,
          2,
          2,
          2,
          2,
          2,
          2,
          2,
          2,
          2,
          1,
          1,
          1,
          1,
          1,
          1,
          1,
          1,
          1,
          1,
          1,
          1,
          1,
          1,
          1,
          1,
          1,
          1,
          1,
          1,
          1,
          1,
          1,
          1,
          1,
          1,
          1,
          1,
          1,
          1,
          1,
          1,
          1,
          1,
          1,
          1,
          1,
          1,
          2,
          2,
          2,
          2,
          2,
          2,
          2,
          2,
          2,
          2,
          2,
          2,
          2,
          2,
          1,
          1,
          1,
          2,
          2,
          1,
          1,
          1,
          1,
          1,
          1,
          1,
          1,
          1,
          1,
          1,
          1,
          1,
          1,
          1,
          1,
          1,
          1,
          1,
          1,
          1,
          1,
          1,
          1,
          1,
          3,
          3,
          3,
          3,
          3,
          3,
          3,
          3,
          3,
          2,
          2,
          2,
          2,
          2,
          2,
          2,
          2,
          2,
          2,
          2,
          2,
          2,
          2,
          2,
          2,
          1,
          1,
          1,
          1,
          1,
          2,
          2,
          2,
          1,
          1,
          1,
          1,
          1,
          1,
          1,
          1,
          1,
          1,
          1,
          1,
          1,
          1,
          1,
          1,
          1,
          1,
          1,
          1,
          1,
          1,
          1,
          1,
          2,
          2,
          2,
          2,
          2,
          2,
          2,
          2,
          2,
          2,
          2,
          2,
          2,
          2,
          2,
          2,
          2,
          2,
          2,
          2,
          2,
          2,
          2,
          1,
          1,
          1,
          1,
          1,
          1,
          1,
          1,
          1,
          1,
          1,
          1,
          1,
          1,
          1,
          1,
          1,
          1,
          1,
          1,
          1,
          1,
          1,
          1,
          1,
          1,
          1,
          1,
          2,
          1,
          1,
          1,
          1,
          2,
          2,
          2,
          2,
          2,
          2,
          2,
          2,
          2,
          2,
          2,
          2,
          2,
          2,
          1,
          1,
          1,
          1,
          1,
          1,
          1,
          1,
          1,
          1,
          1,
          1,
          1,
          1,
          1,
          1,
          1,
          1,
          1,
          1,
          1,
          1,
          1,
          1,
          1,
          1,
          1,
          1,
          1,
          1,
          1,
          1,
          2,
          3,
          3,
          3,
          3,
          3,
          3,
          3,
          3,
          3,
          3,
          2,
          2,
          2,
          3,
          3,
          2,
          2,
          3,
          3,
          2,
          2,
          2,
          2,
          2,
          2,
          2,
          1,
          1,
          1,
          1,
          1,
          1,
          1,
          1,
          1,
          1,
          1,
          1,
          1,
          1,
          1,
          1,
          1,
          1,
          1,
          1,
          1,
          3,
          3,
          3,
          3,
          3,
          3,
          3,
          3,
          2,
          2,
          2,
          2,
          2,
          2,
          1,
          1,
          1,
          2,
          2,
          2,
          2,
          2,
          2,
          2,
          2,
          1,
          1,
          1,
          1,
          1,
          1,
          1,
          1,
          1,
          1,
          1,
          1,
          1,
          1,
          1,
          1,
          1,
          1,
          1,
          1,
          1,
          1,
          1,
          1,
          1,
          1,
          1,
          1,
          1,
          1,
          1,
          1,
          2,
          2,
          2,
          2,
          2,
          2,
          2,
          2,
          2,
          2,
          2,
          2,
          2,
          2,
          2,
          2,
          2,
          2,
          2,
          2,
          2,
          2,
          1,
          1,
          1,
          1,
          1,
          1,
          1,
          1,
          1,
          1,
          1,
          1,
          1,
          1,
          1,
          1,
          1,
          1,
          1,
          1,
          1,
          1,
          1,
          1,
          1,
          1,
          1,
          1,
          1,
          4,
          4,
          4,
          4,
          4,
          4,
          4,
          4,
          4,
          3,
          3,
          3,
          3,
          3,
          3,
          3,
          3,
          3
         ],
         "yaxis": "y"
        },
        {
         "marker": {
          "color": "red"
         },
         "mode": "markers",
         "type": "scatter",
         "x": [
          "2023-07-23",
          "2023-07-16",
          "2023-07-09",
          "2023-07-02",
          "2023-06-25",
          "2023-06-18",
          "2023-06-11",
          "2023-06-04",
          "2023-05-28",
          "2023-05-21",
          "2023-05-14",
          "2023-05-07",
          "2023-04-30",
          "2023-04-23",
          "2023-04-16",
          "2023-04-09",
          "2023-04-02",
          "2023-03-26",
          "2023-03-19",
          "2023-03-12",
          "2013-04-28",
          "2013-04-21",
          "2013-04-14",
          "2013-04-07",
          "2013-03-31",
          "2013-03-24",
          "2013-03-17",
          "2013-03-10",
          "2013-03-03"
         ],
         "y": [
          4,
          4,
          4,
          4,
          4,
          4,
          4,
          4,
          4,
          4,
          4,
          4,
          4,
          4,
          4,
          4,
          4,
          4,
          4,
          4,
          4,
          4,
          4,
          4,
          4,
          4,
          4,
          4,
          4
         ]
        }
       ],
       "layout": {
        "legend": {
         "tracegroupgap": 0
        },
        "showlegend": false,
        "template": {
         "data": {
          "bar": [
           {
            "error_x": {
             "color": "#2a3f5f"
            },
            "error_y": {
             "color": "#2a3f5f"
            },
            "marker": {
             "line": {
              "color": "#E5ECF6",
              "width": 0.5
             },
             "pattern": {
              "fillmode": "overlay",
              "size": 10,
              "solidity": 0.2
             }
            },
            "type": "bar"
           }
          ],
          "barpolar": [
           {
            "marker": {
             "line": {
              "color": "#E5ECF6",
              "width": 0.5
             },
             "pattern": {
              "fillmode": "overlay",
              "size": 10,
              "solidity": 0.2
             }
            },
            "type": "barpolar"
           }
          ],
          "carpet": [
           {
            "aaxis": {
             "endlinecolor": "#2a3f5f",
             "gridcolor": "white",
             "linecolor": "white",
             "minorgridcolor": "white",
             "startlinecolor": "#2a3f5f"
            },
            "baxis": {
             "endlinecolor": "#2a3f5f",
             "gridcolor": "white",
             "linecolor": "white",
             "minorgridcolor": "white",
             "startlinecolor": "#2a3f5f"
            },
            "type": "carpet"
           }
          ],
          "choropleth": [
           {
            "colorbar": {
             "outlinewidth": 0,
             "ticks": ""
            },
            "type": "choropleth"
           }
          ],
          "contour": [
           {
            "colorbar": {
             "outlinewidth": 0,
             "ticks": ""
            },
            "colorscale": [
             [
              0,
              "#0d0887"
             ],
             [
              0.1111111111111111,
              "#46039f"
             ],
             [
              0.2222222222222222,
              "#7201a8"
             ],
             [
              0.3333333333333333,
              "#9c179e"
             ],
             [
              0.4444444444444444,
              "#bd3786"
             ],
             [
              0.5555555555555556,
              "#d8576b"
             ],
             [
              0.6666666666666666,
              "#ed7953"
             ],
             [
              0.7777777777777778,
              "#fb9f3a"
             ],
             [
              0.8888888888888888,
              "#fdca26"
             ],
             [
              1,
              "#f0f921"
             ]
            ],
            "type": "contour"
           }
          ],
          "contourcarpet": [
           {
            "colorbar": {
             "outlinewidth": 0,
             "ticks": ""
            },
            "type": "contourcarpet"
           }
          ],
          "heatmap": [
           {
            "colorbar": {
             "outlinewidth": 0,
             "ticks": ""
            },
            "colorscale": [
             [
              0,
              "#0d0887"
             ],
             [
              0.1111111111111111,
              "#46039f"
             ],
             [
              0.2222222222222222,
              "#7201a8"
             ],
             [
              0.3333333333333333,
              "#9c179e"
             ],
             [
              0.4444444444444444,
              "#bd3786"
             ],
             [
              0.5555555555555556,
              "#d8576b"
             ],
             [
              0.6666666666666666,
              "#ed7953"
             ],
             [
              0.7777777777777778,
              "#fb9f3a"
             ],
             [
              0.8888888888888888,
              "#fdca26"
             ],
             [
              1,
              "#f0f921"
             ]
            ],
            "type": "heatmap"
           }
          ],
          "heatmapgl": [
           {
            "colorbar": {
             "outlinewidth": 0,
             "ticks": ""
            },
            "colorscale": [
             [
              0,
              "#0d0887"
             ],
             [
              0.1111111111111111,
              "#46039f"
             ],
             [
              0.2222222222222222,
              "#7201a8"
             ],
             [
              0.3333333333333333,
              "#9c179e"
             ],
             [
              0.4444444444444444,
              "#bd3786"
             ],
             [
              0.5555555555555556,
              "#d8576b"
             ],
             [
              0.6666666666666666,
              "#ed7953"
             ],
             [
              0.7777777777777778,
              "#fb9f3a"
             ],
             [
              0.8888888888888888,
              "#fdca26"
             ],
             [
              1,
              "#f0f921"
             ]
            ],
            "type": "heatmapgl"
           }
          ],
          "histogram": [
           {
            "marker": {
             "pattern": {
              "fillmode": "overlay",
              "size": 10,
              "solidity": 0.2
             }
            },
            "type": "histogram"
           }
          ],
          "histogram2d": [
           {
            "colorbar": {
             "outlinewidth": 0,
             "ticks": ""
            },
            "colorscale": [
             [
              0,
              "#0d0887"
             ],
             [
              0.1111111111111111,
              "#46039f"
             ],
             [
              0.2222222222222222,
              "#7201a8"
             ],
             [
              0.3333333333333333,
              "#9c179e"
             ],
             [
              0.4444444444444444,
              "#bd3786"
             ],
             [
              0.5555555555555556,
              "#d8576b"
             ],
             [
              0.6666666666666666,
              "#ed7953"
             ],
             [
              0.7777777777777778,
              "#fb9f3a"
             ],
             [
              0.8888888888888888,
              "#fdca26"
             ],
             [
              1,
              "#f0f921"
             ]
            ],
            "type": "histogram2d"
           }
          ],
          "histogram2dcontour": [
           {
            "colorbar": {
             "outlinewidth": 0,
             "ticks": ""
            },
            "colorscale": [
             [
              0,
              "#0d0887"
             ],
             [
              0.1111111111111111,
              "#46039f"
             ],
             [
              0.2222222222222222,
              "#7201a8"
             ],
             [
              0.3333333333333333,
              "#9c179e"
             ],
             [
              0.4444444444444444,
              "#bd3786"
             ],
             [
              0.5555555555555556,
              "#d8576b"
             ],
             [
              0.6666666666666666,
              "#ed7953"
             ],
             [
              0.7777777777777778,
              "#fb9f3a"
             ],
             [
              0.8888888888888888,
              "#fdca26"
             ],
             [
              1,
              "#f0f921"
             ]
            ],
            "type": "histogram2dcontour"
           }
          ],
          "mesh3d": [
           {
            "colorbar": {
             "outlinewidth": 0,
             "ticks": ""
            },
            "type": "mesh3d"
           }
          ],
          "parcoords": [
           {
            "line": {
             "colorbar": {
              "outlinewidth": 0,
              "ticks": ""
             }
            },
            "type": "parcoords"
           }
          ],
          "pie": [
           {
            "automargin": true,
            "type": "pie"
           }
          ],
          "scatter": [
           {
            "fillpattern": {
             "fillmode": "overlay",
             "size": 10,
             "solidity": 0.2
            },
            "type": "scatter"
           }
          ],
          "scatter3d": [
           {
            "line": {
             "colorbar": {
              "outlinewidth": 0,
              "ticks": ""
             }
            },
            "marker": {
             "colorbar": {
              "outlinewidth": 0,
              "ticks": ""
             }
            },
            "type": "scatter3d"
           }
          ],
          "scattercarpet": [
           {
            "marker": {
             "colorbar": {
              "outlinewidth": 0,
              "ticks": ""
             }
            },
            "type": "scattercarpet"
           }
          ],
          "scattergeo": [
           {
            "marker": {
             "colorbar": {
              "outlinewidth": 0,
              "ticks": ""
             }
            },
            "type": "scattergeo"
           }
          ],
          "scattergl": [
           {
            "marker": {
             "colorbar": {
              "outlinewidth": 0,
              "ticks": ""
             }
            },
            "type": "scattergl"
           }
          ],
          "scattermapbox": [
           {
            "marker": {
             "colorbar": {
              "outlinewidth": 0,
              "ticks": ""
             }
            },
            "type": "scattermapbox"
           }
          ],
          "scatterpolar": [
           {
            "marker": {
             "colorbar": {
              "outlinewidth": 0,
              "ticks": ""
             }
            },
            "type": "scatterpolar"
           }
          ],
          "scatterpolargl": [
           {
            "marker": {
             "colorbar": {
              "outlinewidth": 0,
              "ticks": ""
             }
            },
            "type": "scatterpolargl"
           }
          ],
          "scatterternary": [
           {
            "marker": {
             "colorbar": {
              "outlinewidth": 0,
              "ticks": ""
             }
            },
            "type": "scatterternary"
           }
          ],
          "surface": [
           {
            "colorbar": {
             "outlinewidth": 0,
             "ticks": ""
            },
            "colorscale": [
             [
              0,
              "#0d0887"
             ],
             [
              0.1111111111111111,
              "#46039f"
             ],
             [
              0.2222222222222222,
              "#7201a8"
             ],
             [
              0.3333333333333333,
              "#9c179e"
             ],
             [
              0.4444444444444444,
              "#bd3786"
             ],
             [
              0.5555555555555556,
              "#d8576b"
             ],
             [
              0.6666666666666666,
              "#ed7953"
             ],
             [
              0.7777777777777778,
              "#fb9f3a"
             ],
             [
              0.8888888888888888,
              "#fdca26"
             ],
             [
              1,
              "#f0f921"
             ]
            ],
            "type": "surface"
           }
          ],
          "table": [
           {
            "cells": {
             "fill": {
              "color": "#EBF0F8"
             },
             "line": {
              "color": "white"
             }
            },
            "header": {
             "fill": {
              "color": "#C8D4E3"
             },
             "line": {
              "color": "white"
             }
            },
            "type": "table"
           }
          ]
         },
         "layout": {
          "annotationdefaults": {
           "arrowcolor": "#2a3f5f",
           "arrowhead": 0,
           "arrowwidth": 1
          },
          "autotypenumbers": "strict",
          "coloraxis": {
           "colorbar": {
            "outlinewidth": 0,
            "ticks": ""
           }
          },
          "colorscale": {
           "diverging": [
            [
             0,
             "#8e0152"
            ],
            [
             0.1,
             "#c51b7d"
            ],
            [
             0.2,
             "#de77ae"
            ],
            [
             0.3,
             "#f1b6da"
            ],
            [
             0.4,
             "#fde0ef"
            ],
            [
             0.5,
             "#f7f7f7"
            ],
            [
             0.6,
             "#e6f5d0"
            ],
            [
             0.7,
             "#b8e186"
            ],
            [
             0.8,
             "#7fbc41"
            ],
            [
             0.9,
             "#4d9221"
            ],
            [
             1,
             "#276419"
            ]
           ],
           "sequential": [
            [
             0,
             "#0d0887"
            ],
            [
             0.1111111111111111,
             "#46039f"
            ],
            [
             0.2222222222222222,
             "#7201a8"
            ],
            [
             0.3333333333333333,
             "#9c179e"
            ],
            [
             0.4444444444444444,
             "#bd3786"
            ],
            [
             0.5555555555555556,
             "#d8576b"
            ],
            [
             0.6666666666666666,
             "#ed7953"
            ],
            [
             0.7777777777777778,
             "#fb9f3a"
            ],
            [
             0.8888888888888888,
             "#fdca26"
            ],
            [
             1,
             "#f0f921"
            ]
           ],
           "sequentialminus": [
            [
             0,
             "#0d0887"
            ],
            [
             0.1111111111111111,
             "#46039f"
            ],
            [
             0.2222222222222222,
             "#7201a8"
            ],
            [
             0.3333333333333333,
             "#9c179e"
            ],
            [
             0.4444444444444444,
             "#bd3786"
            ],
            [
             0.5555555555555556,
             "#d8576b"
            ],
            [
             0.6666666666666666,
             "#ed7953"
            ],
            [
             0.7777777777777778,
             "#fb9f3a"
            ],
            [
             0.8888888888888888,
             "#fdca26"
            ],
            [
             1,
             "#f0f921"
            ]
           ]
          },
          "colorway": [
           "#636efa",
           "#EF553B",
           "#00cc96",
           "#ab63fa",
           "#FFA15A",
           "#19d3f3",
           "#FF6692",
           "#B6E880",
           "#FF97FF",
           "#FECB52"
          ],
          "font": {
           "color": "#2a3f5f"
          },
          "geo": {
           "bgcolor": "white",
           "lakecolor": "white",
           "landcolor": "#E5ECF6",
           "showlakes": true,
           "showland": true,
           "subunitcolor": "white"
          },
          "hoverlabel": {
           "align": "left"
          },
          "hovermode": "closest",
          "mapbox": {
           "style": "light"
          },
          "paper_bgcolor": "white",
          "plot_bgcolor": "#E5ECF6",
          "polar": {
           "angularaxis": {
            "gridcolor": "white",
            "linecolor": "white",
            "ticks": ""
           },
           "bgcolor": "#E5ECF6",
           "radialaxis": {
            "gridcolor": "white",
            "linecolor": "white",
            "ticks": ""
           }
          },
          "scene": {
           "xaxis": {
            "backgroundcolor": "#E5ECF6",
            "gridcolor": "white",
            "gridwidth": 2,
            "linecolor": "white",
            "showbackground": true,
            "ticks": "",
            "zerolinecolor": "white"
           },
           "yaxis": {
            "backgroundcolor": "#E5ECF6",
            "gridcolor": "white",
            "gridwidth": 2,
            "linecolor": "white",
            "showbackground": true,
            "ticks": "",
            "zerolinecolor": "white"
           },
           "zaxis": {
            "backgroundcolor": "#E5ECF6",
            "gridcolor": "white",
            "gridwidth": 2,
            "linecolor": "white",
            "showbackground": true,
            "ticks": "",
            "zerolinecolor": "white"
           }
          },
          "shapedefaults": {
           "line": {
            "color": "#2a3f5f"
           }
          },
          "ternary": {
           "aaxis": {
            "gridcolor": "white",
            "linecolor": "white",
            "ticks": ""
           },
           "baxis": {
            "gridcolor": "white",
            "linecolor": "white",
            "ticks": ""
           },
           "bgcolor": "#E5ECF6",
           "caxis": {
            "gridcolor": "white",
            "linecolor": "white",
            "ticks": ""
           }
          },
          "title": {
           "x": 0.05
          },
          "xaxis": {
           "automargin": true,
           "gridcolor": "white",
           "linecolor": "white",
           "ticks": "",
           "title": {
            "standoff": 15
           },
           "zerolinecolor": "white",
           "zerolinewidth": 2
          },
          "yaxis": {
           "automargin": true,
           "gridcolor": "white",
           "linecolor": "white",
           "ticks": "",
           "title": {
            "standoff": 15
           },
           "zerolinecolor": "white",
           "zerolinewidth": 2
          }
         }
        },
        "title": {
         "text": "Evolução do Nível de Alerta ao Longo das Semanas Epidemiológicas"
        },
        "xaxis": {
         "anchor": "y",
         "domain": [
          0,
          1
         ],
         "title": {
          "text": "Data"
         }
        },
        "yaxis": {
         "anchor": "x",
         "domain": [
          0,
          1
         ],
         "tickvals": [
          1,
          2,
          3,
          4
         ],
         "title": {
          "text": "Nível"
         }
        }
       }
      }
     },
     "metadata": {},
     "output_type": "display_data"
    }
   ],
   "source": [
    "fig = px.line(df, \n",
    "              x='data_iniSE', \n",
    "              y='nivel', \n",
    "              title='Evolução do Nível de Alerta ao Longo das Semanas Epidemiológicas',\n",
    "              labels={'data_iniSE':'Data','nivel':'Nível de Alerta'})\n",
    "\n",
    "# Adicionar um marcador para as semanas com nível máximo de alerta\n",
    "scatter_trace = go.Scatter(x=df[df['nivel'] == 4]['data_iniSE'], y=df[df['nivel'] == 4]['nivel'], mode='markers', marker=dict(color='red'))\n",
    "\n",
    "fig.add_trace(scatter_trace)\n",
    "\n",
    "# Ajustar o layout e mostrar o gráfico\n",
    "fig.update_layout(\n",
    "    showlegend=False,\n",
    "    yaxis=dict(\n",
    "        tickvals=[1, 2, 3, 4],  # Set the specific y-axis tick values\n",
    "        title='Nível'  # Add a y-axis title\n",
    "    )\n",
    ")\n",
    "\n",
    "fig.show()"
   ]
  },
  {
   "cell_type": "markdown",
   "metadata": {},
   "source": [
    "### 3. A temperatura ou a umidade têm alguma correlação com o número de casos de dengue?"
   ]
  },
  {
   "cell_type": "markdown",
   "metadata": {},
   "source": [
    "#### calcular o coeficiente de correlação:\n",
    "\n",
    "Para determinar se a temperatura ou a umidade têm alguma correlação com o número de casos de dengue, podemos calcular o coeficiente de correlação entre essas variáveis. Vamos usar o coeficiente de correlação de Pearson, que varia de -1 a 1. Um valor próximo de 1 indica uma correlação positiva forte; um valor próximo de -1 indica uma correlação negativa forte; e um valor próximo de 0 indica nenhuma correlação."
   ]
  },
  {
   "cell_type": "code",
   "execution_count": 28,
   "metadata": {},
   "outputs": [],
   "source": [
    "corr_temp = df['casos'].corr(df['tempmed'])\n",
    "corr_umid = df['casos'].corr(df['umidmed'])\n"
   ]
  },
  {
   "cell_type": "markdown",
   "metadata": {},
   "source": [
    "Para temperatura:"
   ]
  },
  {
   "cell_type": "code",
   "execution_count": 39,
   "metadata": {},
   "outputs": [
    {
     "data": {
      "application/vnd.plotly.v1+json": {
       "config": {
        "plotlyServerURL": "https://plot.ly"
       },
       "data": [
        {
         "hovertemplate": "Temperatura Média em °C=%{x}<br>Casos=%{y}<extra></extra>",
         "legendgroup": "",
         "marker": {
          "color": "#636efa",
          "symbol": "circle"
         },
         "mode": "markers",
         "name": "",
         "orientation": "v",
         "showlegend": false,
         "type": "scatter",
         "x": [
          23.14666656,
          25.0277776666667,
          24.4347826086957,
          19.666667,
          20.12500025,
          20.583333500000002,
          21.04166675,
          21.5,
          21.6607142857143,
          19.5952380952381,
          21.125,
          19.3265307142857,
          21.4795918571429,
          17.8642858,
          20.2142857142857,
          19.025,
          22.0666666,
          19.0789472631579,
          20.2833332,
          22.05000016,
          20.4565217391304,
          22.4515152727273,
          23.1031744761905,
          23.3928571428571,
          24.5178571428571,
          24.1904762857143,
          24.619048,
          25.5512818461538,
          26.9166667692308,
          24.9736842105263,
          26.1666665714286,
          27.0942027826087,
          26.96333344,
          25.3888888,
          25.2857142857143,
          26.5773808571429,
          25.1428571428571,
          26.7142857142857,
          25.0714285714286,
          24.9761905714286,
          24.7015153333333,
          23.0272435,
          25.0713383333333,
          25.4740257142857,
          25.4535717142857,
          23.8928571428571,
          23.9488097142857,
          21.9366882857143,
          22.2662907142857,
          24.3634921428571,
          24.4575568571429,
          24.2857137142857,
          22.1477271428571,
          20.3829032857143,
          20.0054111428571,
          19.6130954285714,
          21.9880951428571,
          19.2015151428571,
          20.4471915714286,
          20.4111722857143,
          20.6964282857143,
          20.3988097142857,
          21.7172272857143,
          22.4583334285714,
          21.7990197142857,
          20.7554114285714,
          19.7630922857143,
          20.6190477142857,
          18.9523808571429,
          19.8292517142857,
          21.9430272857143,
          20.8841997142857,
          20.3273808571429,
          22.470238,
          24.4535714285714,
          24.7781385714286,
          23.5908385714286,
          24.6261904285714,
          25.0226188571429,
          26.2213772857143,
          26.3018708571429,
          27.9057827142857,
          28.6607142857143,
          28.285714,
          26.6845237142857,
          25.4880954285714,
          24.6369045714286,
          26.5605958571429,
          28.130952,
          27.729342,
          25.1547617142857,
          26.7853692857143,
          25.0732637142857,
          24.6177537142857,
          26.6749482857143,
          23.7611282857143,
          25.3863868571429,
          24.1779828571429,
          23.707792,
          21.12987,
          22.270022,
          22.8246757142857,
          20.5997082857143,
          22.9328062857143,
          22.4761905714286,
          24.0419257142857,
          22.6130951428571,
          24.0795451428571,
          23.4010445714286,
          22.1879117142857,
          24.5605591428571,
          22.2479297142857,
          20.6977225714286,
          18.8415208571429,
          19.0570297142857,
          18.6599377142857,
          20.9580745714286,
          19.3068885714286,
          18.9889891428571,
          20.674478,
          19.5442548571429,
          22.6190474285714,
          22.7708334285714,
          23.1666665714286,
          22.625,
          21.2559525714286,
          23.029762,
          22.8320391428571,
          23.2851472857143,
          24.0861527142857,
          24.4559525714286,
          26.3678571428571,
          27.5859214285714,
          26.8529332857143,
          25.4464285714286,
          26.9352207142857,
          25.4859232857143,
          26.529429,
          24.4635094285714,
          27.6214802857143,
          29.22921,
          28.470144,
          27.7627845714286,
          26.9554865714286,
          25.64394,
          25.43570536,
          25.22747072,
          25.019236080000002,
          24.811001440000002,
          24.6027668,
          24.019225,
          24.3736,
          20.9834131428571,
          24.3634951428571,
          24.3508611428571,
          23.3320156666667,
          24.7285626666667,
          27.2500868571429,
          22.5667231428571,
          25.3758937142857,
          24.9633211428571,
          24.7332445714286,
          20.4347825714286,
          21.708404,
          23.4940477142857,
          20.0926031428571,
          21.962992,
          22.3129117142857,
          21.1717218571429,
          21.5624337142857,
          21.5137277142857,
          22.4009592857143,
          21.415927,
          23.7607144285714,
          21.7738097142857,
          20.3809522857143,
          22.940476,
          21.0797617142857,
          21.2559525714286,
          23.994048,
          23.1488097142857,
          23.2797617142857,
          23.1309525714286,
          25.7738094285714,
          23.875,
          26.1866885714286,
          24.5805197142857,
          22.6253245714286,
          24.601732,
          25.9665588571429,
          23.5285714285714,
          25.4238094285714,
          28,
          24.3273808571429,
          26.5833334285714,
          27.7619048571429,
          26.1375,
          24.4111112857143,
          25.0714285714286,
          23.038095,
          22.5444442857143,
          21.4428571428571,
          22.2142857142857,
          22.5714285714286,
          24.1285714285714,
          24.7883117142857,
          21.896104,
          23.5324677142857,
          22.1558445714286,
          20.077922,
          19.6493505714286,
          22.6493505714286,
          21.3636365714286,
          20.3285717142857,
          18.792208,
          19.0595237142857,
          18.8298701428571,
          18.2987015714286,
          20.4155845714286,
          18.6493508571429,
          17.9090908571429,
          16.3116887142857,
          21.4142854285714,
          21.2272725714286,
          20.922078,
          21.3196971428571,
          19.766234,
          22.1168831428571,
          22.1168834285714,
          23.3337662857143,
          23.4675322857143,
          24.1376622857143,
          24.5919295714286,
          24.2621754285714,
          24.4071428571429,
          24.1277057142857,
          23.6480517142857,
          24.725974,
          26.2129871428571,
          25.8246751428571,
          25.7584417142857,
          25.403896,
          25.2666664285714,
          25.4841274285714,
          30.5535717142857,
          29.2202382857143,
          28.7892857142857,
          26.5571428571429,
          25.9857142857143,
          25.2330085714286,
          29.315476,
          27.2738097142857,
          23.1321428571429,
          24.2730157142857,
          22.8571428571429,
          24.5142857142857,
          21.9190477142857,
          22.5649351428571,
          21.4545454285714,
          23.5194805714286,
          24.375,
          23.6953465714286,
          23.3584414285714,
          22.1948048571429,
          20.0000005714286,
          19.8844154285714,
          19.7142857142857,
          20.4129871428571,
          19.3713201428571,
          20.8202377142857,
          21.5892857142857,
          22.5357142857143,
          21.77868,
          18.5948054285714,
          20.8116882857143,
          21.1688311428571,
          19.8766234285714,
          20.7142857142857,
          20.6441557142857,
          19.9636362857143,
          20.1430737142857,
          24.4226188571429,
          24.0295031428571,
          24.8333337142857,
          24.7124742857143,
          22.2670997142857,
          24.2077925714286,
          24.9337662857143,
          25,
          25.7636362857143,
          26.2454542857143,
          25.648052,
          26.4226188571429,
          25.3257574285714,
          25.7845237142857,
          24.5388891428571,
          24.1142857142857,
          26.574603,
          26.8273811428571,
          25.7687891428571,
          25.1777778571429,
          25.6821428571429,
          25.796032,
          23.6238094285714,
          24.257993,
          25.1666668571429,
          24.5238097142857,
          28.951087,
          27.918658880000002,
          26.88623076,
          25.85380264,
          24.82137452,
          23.7889464,
          22.75651828,
          21.72409016,
          20.69166204,
          19.659233920000002,
          18.6268058,
          18.8849721428571,
          18.1821428571429,
          19.4070295714286,
          18.3468975714286,
          18.2555557142857,
          18.4327202857143,
          18.54127,
          18.4896102857143,
          17.0035714285714,
          17.7423911428571,
          19.4232322857143,
          18.4409091428571,
          20.5734128571429,
          20.0717892857143,
          19.67316,
          19.7954545714286,
          20.4415672857143,
          19.9677128571429,
          20.7065474285714,
          22.5196045714286,
          23.5427578571429,
          22.6971497142857,
          21.9647272857143,
          21.8279198571429,
          25.249603,
          26.1194442857143,
          25.3017317142857,
          25.2783548571429,
          25.4399795714286,
          25.5284441428571,
          25.5530751428571,
          26.1001621428571,
          25.8526787142857,
          25.8047232857143,
          27.7683532857143,
          27.3815921428571,
          24.9980158571429,
          23.884325,
          23.0922621428571,
          24.1194185714286,
          21.60496,
          22.1137831428571,
          22.8086918571429,
          21.613259,
          22.0634355714286,
          24.4192885714286,
          21.7247565714286,
          19.439869,
          18.6718165714286,
          20.0947261428571,
          22.117262,
          21.3379057142857,
          21.2135487142857,
          18.3731331428571,
          20.0120128571429,
          18.999838,
          19.6906714285714,
          18.3124727142857,
          17.4207281428571,
          19.7804115714286,
          18.8205357142857,
          18.6406928571429,
          18.5300322857143,
          15.603896,
          18.9789771428571,
          20.8392857142857,
          19.5521914285714,
          21.2558442857143,
          21.7888465714286,
          19.5986521428571,
          22.4208602857143,
          26.0113095714286,
          27.0495775714286,
          24.3362101428571,
          25.3334607142857,
          24.8051945714286,
          24.0195617142857,
          25.8543151428571,
          25.086078,
          25.7920631428571,
          25.5902892857143,
          27.4795461428571,
          28.7875097142857,
          25.9725198571429,
          22.1424034285714,
          25.3194447142857,
          24.7084997142857,
          26.8962304285714,
          26.206349,
          26.2239085714286,
          24.4453948571429,
          23.8179575714286,
          24.5008075714286,
          26.2886291428571,
          26.51921,
          25.032152625,
          24.3723204285714,
          24.1293255714286,
          26.978944,
          23.413913,
          25.1903882857143,
          25.5708752857143,
          24.2642298571429,
          21.5386001428571,
          22.2731214285714,
          21.8822091428571,
          23.194853,
          22.0072007142857,
          23.2008928571429,
          22.3663114285714,
          22.0024621428571,
          23.195491,
          20.9909272857143,
          21.8607755714286,
          19.9232362857143,
          21.6352341428571,
          23.27992,
          21.6820798571429,
          23.3035088571429,
          22.5425595714286,
          22.0154661428571,
          22.5841985714286,
          22.41283,
          25.2890658571429,
          25.2475215714286,
          24.1157327142857,
          25.3738958571429,
          24.9292764285714,
          25.9089341428571,
          26.3270624285714,
          26.9564925714286,
          28.1493637142857,
          27.2830412857143,
          29.5935317142857,
          25.7480841428571,
          28.6480495714286,
          28.5979551428571,
          30.2258697142857,
          28.7668954285714,
          29.7679442857143,
          28.341711,
          26.2231377142857,
          28.0559908571429,
          25.9199597142857,
          25.4422558571429,
          23.9975097142857,
          23.8347364285714,
          26.8488297142857,
          26.0636972857143,
          23.4056465714286,
          24.8485022857143,
          23.0462022857143,
          23.3265195714286,
          22.9608818571429,
          23.8126912857143,
          23.2848067142857,
          21.9714247142857,
          21.5888538571429,
          21.7247115714286,
          20.4206867142857,
          20.5389268571429,
          19.0296498571429,
          20.9464954285714,
          21.174981,
          21.5830897142857,
          22.8102172857143,
          21.5333104285714,
          21.6574525714286,
          23.2640922857143,
          22.2529445714286,
          21.1776422857143,
          23.4151115714286,
          21.4625155714286,
          24.0784121428571,
          21.9156108571429,
          24.506957,
          24.26875,
          26.0146292857143,
          25.9364454285714,
          24.3000142857143,
          28.8555072857143,
          28.1210444285714,
          25.9911225714286,
          29.2750847142857,
          26.0923742857143,
          29.5,
          30.3074592857143,
          29.6009984285714,
          28.8765168571429,
          27.9237614285714,
          28.5874827142857,
          29.5375668571429,
          26.282987,
          24.2871917142857,
          25.2312837142857,
          26.615496,
          25.1612815714286,
          25.0672645714286,
          26.5132527142857,
          22.562738,
          22.7656151428571,
          26.0967265714286,
          23.8788158571429,
          21.1080934285714,
          23.1462598571429,
          22.0636132857143,
          25.7326137142857,
          23.8322291428571,
          22.2448151428571,
          20.8422942857143,
          22.4046511428571,
          20.2856662857143,
          22.8795497142857,
          20.3139138571429,
          19.650072,
          23.1525962857143,
          20.3349847142857,
          20.9448172857143,
          22.5835138571429,
          22.661409,
          22.706891,
          22.3558297142857,
          22.256313,
          22.3052234285714,
          23.5595744285714,
          21.9845278571429,
          24.3170322857143,
          22.5548177142857,
          22.9354891428571,
          25.6377295714286,
          25.5585297142857,
          24.5895805714286,
          25.2358194285714,
          27.4130211428571,
          27.9660935714286,
          26.3829684285714,
          29.3973214285714,
          29.2732682857143,
          25.7053495714286,
          25.3833874285714,
          25.8530075714286,
          25.6266178571429,
          26.9013825714286,
          27.5989344285714
         ],
         "xaxis": "x",
         "y": [
          173,
          365,
          473,
          530,
          427,
          447,
          506,
          528,
          534,
          598,
          558,
          644,
          767,
          843,
          994,
          1230,
          1343,
          1242,
          1333,
          1487,
          1741,
          1798,
          1927,
          1575,
          1500,
          1792,
          1417,
          1586,
          1374,
          1118,
          946,
          860,
          505,
          370,
          520,
          373,
          311,
          241,
          212,
          225,
          169,
          119,
          126,
          106,
          86,
          94,
          129,
          171,
          131,
          139,
          160,
          123,
          102,
          95,
          102,
          120,
          101,
          94,
          99,
          110,
          106,
          145,
          148,
          194,
          144,
          155,
          189,
          209,
          153,
          255,
          338,
          400,
          406,
          505,
          461,
          342,
          234,
          201,
          222,
          153,
          177,
          126,
          116,
          66,
          62,
          47,
          35,
          31,
          19,
          22,
          14,
          21,
          5,
          9,
          14,
          35,
          46,
          51,
          44,
          11,
          16,
          11,
          9,
          19,
          8,
          28,
          13,
          19,
          25,
          34,
          34,
          18,
          19,
          24,
          14,
          38,
          41,
          48,
          58,
          42,
          70,
          69,
          80,
          98,
          102,
          82,
          61,
          80,
          79,
          112,
          124,
          96,
          80,
          72,
          59,
          43,
          49,
          32,
          32,
          37,
          59,
          26,
          21,
          15,
          8,
          6,
          8,
          10,
          17,
          10,
          20,
          25,
          12,
          9,
          19,
          10,
          12,
          11,
          14,
          12,
          10,
          10,
          9,
          10,
          12,
          11,
          11,
          17,
          22,
          18,
          13,
          14,
          22,
          16,
          11,
          16,
          12,
          13,
          29,
          29,
          29,
          28,
          21,
          36,
          32,
          39,
          53,
          70,
          49,
          65,
          77,
          57,
          77,
          85,
          109,
          100,
          69,
          43,
          58,
          75,
          49,
          74,
          50,
          56,
          65,
          40,
          58,
          65,
          67,
          73,
          99,
          83,
          66,
          64,
          71,
          97,
          140,
          140,
          169,
          168,
          238,
          285,
          489,
          497,
          551,
          769,
          980,
          1233,
          1573,
          1624,
          1864,
          1643,
          1432,
          1280,
          1207,
          1112,
          801,
          643,
          414,
          274,
          157,
          195,
          182,
          167,
          159,
          205,
          201,
          186,
          179,
          147,
          124,
          138,
          150,
          106,
          65,
          69,
          71,
          66,
          70,
          72,
          43,
          59,
          41,
          63,
          54,
          51,
          68,
          67,
          75,
          120,
          92,
          119,
          152,
          153,
          218,
          193,
          160,
          196,
          194,
          197,
          211,
          328,
          331,
          313,
          264,
          251,
          279,
          289,
          237,
          200,
          179,
          197,
          144,
          129,
          78,
          74,
          107,
          97,
          126,
          105,
          133,
          58,
          56,
          67,
          84,
          61,
          49,
          56,
          59,
          38,
          53,
          61,
          56,
          59,
          37,
          54,
          36,
          32,
          31,
          35,
          27,
          24,
          39,
          33,
          40,
          30,
          31,
          29,
          38,
          34,
          74,
          58,
          34,
          52,
          86,
          95,
          87,
          86,
          95,
          129,
          123,
          134,
          159,
          135,
          131,
          115,
          223,
          236,
          237,
          282,
          219,
          213,
          196,
          252,
          135,
          102,
          127,
          133,
          107,
          72,
          65,
          37,
          54,
          63,
          39,
          34,
          32,
          47,
          50,
          48,
          64,
          63,
          74,
          95,
          95,
          133,
          143,
          187,
          228,
          234,
          262,
          314,
          508,
          540,
          503,
          976,
          1232,
          1339,
          2254,
          2312,
          2863,
          2968,
          3127,
          1877,
          1462,
          1328,
          1064,
          875,
          889,
          646,
          473,
          476,
          470,
          476,
          550,
          218,
          312,
          446,
          413,
          316,
          211,
          200,
          174,
          155,
          116,
          110,
          109,
          132,
          121,
          117,
          107,
          135,
          186,
          178,
          184,
          475,
          255,
          260,
          327,
          331,
          438,
          436,
          870,
          959,
          891,
          976,
          1180,
          1591,
          1598,
          1359,
          1211,
          1000,
          864,
          691,
          399,
          306,
          277,
          200,
          130,
          101,
          74,
          48,
          63,
          43,
          47,
          44,
          53,
          11,
          25,
          34,
          39,
          47,
          46,
          43,
          54,
          49,
          47,
          61,
          63,
          66,
          90,
          76,
          68,
          61,
          76,
          64,
          61,
          53,
          56,
          58,
          45,
          44,
          44,
          59,
          46,
          57,
          49,
          60,
          54,
          81,
          89,
          84,
          89,
          70,
          72,
          86,
          87,
          94,
          117,
          92,
          74,
          67,
          120,
          119,
          125,
          119,
          156,
          142,
          152,
          89,
          81,
          77,
          115,
          144,
          111,
          108,
          74,
          48,
          73,
          75,
          62,
          65,
          62,
          104,
          56,
          83,
          61,
          232,
          76,
          186,
          93,
          134,
          85,
          185,
          206,
          223,
          281,
          426,
          520,
          614,
          816,
          1248,
          1670,
          2292,
          2865,
          3931,
          5475,
          6499,
          6644,
          5351,
          5423,
          5395,
          4017,
          3852,
          3237,
          1749,
          1321,
          1346,
          1146,
          919,
          862,
          534
         ],
         "yaxis": "y"
        }
       ],
       "layout": {
        "annotations": [
         {
          "font": {
           "color": "black"
          },
          "showarrow": false,
          "text": "Correlação: 0.09",
          "x": 0.97,
          "xanchor": "right",
          "y": 0.03,
          "yanchor": "top"
         }
        ],
        "legend": {
         "tracegroupgap": 0
        },
        "template": {
         "data": {
          "bar": [
           {
            "error_x": {
             "color": "#2a3f5f"
            },
            "error_y": {
             "color": "#2a3f5f"
            },
            "marker": {
             "line": {
              "color": "#E5ECF6",
              "width": 0.5
             },
             "pattern": {
              "fillmode": "overlay",
              "size": 10,
              "solidity": 0.2
             }
            },
            "type": "bar"
           }
          ],
          "barpolar": [
           {
            "marker": {
             "line": {
              "color": "#E5ECF6",
              "width": 0.5
             },
             "pattern": {
              "fillmode": "overlay",
              "size": 10,
              "solidity": 0.2
             }
            },
            "type": "barpolar"
           }
          ],
          "carpet": [
           {
            "aaxis": {
             "endlinecolor": "#2a3f5f",
             "gridcolor": "white",
             "linecolor": "white",
             "minorgridcolor": "white",
             "startlinecolor": "#2a3f5f"
            },
            "baxis": {
             "endlinecolor": "#2a3f5f",
             "gridcolor": "white",
             "linecolor": "white",
             "minorgridcolor": "white",
             "startlinecolor": "#2a3f5f"
            },
            "type": "carpet"
           }
          ],
          "choropleth": [
           {
            "colorbar": {
             "outlinewidth": 0,
             "ticks": ""
            },
            "type": "choropleth"
           }
          ],
          "contour": [
           {
            "colorbar": {
             "outlinewidth": 0,
             "ticks": ""
            },
            "colorscale": [
             [
              0,
              "#0d0887"
             ],
             [
              0.1111111111111111,
              "#46039f"
             ],
             [
              0.2222222222222222,
              "#7201a8"
             ],
             [
              0.3333333333333333,
              "#9c179e"
             ],
             [
              0.4444444444444444,
              "#bd3786"
             ],
             [
              0.5555555555555556,
              "#d8576b"
             ],
             [
              0.6666666666666666,
              "#ed7953"
             ],
             [
              0.7777777777777778,
              "#fb9f3a"
             ],
             [
              0.8888888888888888,
              "#fdca26"
             ],
             [
              1,
              "#f0f921"
             ]
            ],
            "type": "contour"
           }
          ],
          "contourcarpet": [
           {
            "colorbar": {
             "outlinewidth": 0,
             "ticks": ""
            },
            "type": "contourcarpet"
           }
          ],
          "heatmap": [
           {
            "colorbar": {
             "outlinewidth": 0,
             "ticks": ""
            },
            "colorscale": [
             [
              0,
              "#0d0887"
             ],
             [
              0.1111111111111111,
              "#46039f"
             ],
             [
              0.2222222222222222,
              "#7201a8"
             ],
             [
              0.3333333333333333,
              "#9c179e"
             ],
             [
              0.4444444444444444,
              "#bd3786"
             ],
             [
              0.5555555555555556,
              "#d8576b"
             ],
             [
              0.6666666666666666,
              "#ed7953"
             ],
             [
              0.7777777777777778,
              "#fb9f3a"
             ],
             [
              0.8888888888888888,
              "#fdca26"
             ],
             [
              1,
              "#f0f921"
             ]
            ],
            "type": "heatmap"
           }
          ],
          "heatmapgl": [
           {
            "colorbar": {
             "outlinewidth": 0,
             "ticks": ""
            },
            "colorscale": [
             [
              0,
              "#0d0887"
             ],
             [
              0.1111111111111111,
              "#46039f"
             ],
             [
              0.2222222222222222,
              "#7201a8"
             ],
             [
              0.3333333333333333,
              "#9c179e"
             ],
             [
              0.4444444444444444,
              "#bd3786"
             ],
             [
              0.5555555555555556,
              "#d8576b"
             ],
             [
              0.6666666666666666,
              "#ed7953"
             ],
             [
              0.7777777777777778,
              "#fb9f3a"
             ],
             [
              0.8888888888888888,
              "#fdca26"
             ],
             [
              1,
              "#f0f921"
             ]
            ],
            "type": "heatmapgl"
           }
          ],
          "histogram": [
           {
            "marker": {
             "pattern": {
              "fillmode": "overlay",
              "size": 10,
              "solidity": 0.2
             }
            },
            "type": "histogram"
           }
          ],
          "histogram2d": [
           {
            "colorbar": {
             "outlinewidth": 0,
             "ticks": ""
            },
            "colorscale": [
             [
              0,
              "#0d0887"
             ],
             [
              0.1111111111111111,
              "#46039f"
             ],
             [
              0.2222222222222222,
              "#7201a8"
             ],
             [
              0.3333333333333333,
              "#9c179e"
             ],
             [
              0.4444444444444444,
              "#bd3786"
             ],
             [
              0.5555555555555556,
              "#d8576b"
             ],
             [
              0.6666666666666666,
              "#ed7953"
             ],
             [
              0.7777777777777778,
              "#fb9f3a"
             ],
             [
              0.8888888888888888,
              "#fdca26"
             ],
             [
              1,
              "#f0f921"
             ]
            ],
            "type": "histogram2d"
           }
          ],
          "histogram2dcontour": [
           {
            "colorbar": {
             "outlinewidth": 0,
             "ticks": ""
            },
            "colorscale": [
             [
              0,
              "#0d0887"
             ],
             [
              0.1111111111111111,
              "#46039f"
             ],
             [
              0.2222222222222222,
              "#7201a8"
             ],
             [
              0.3333333333333333,
              "#9c179e"
             ],
             [
              0.4444444444444444,
              "#bd3786"
             ],
             [
              0.5555555555555556,
              "#d8576b"
             ],
             [
              0.6666666666666666,
              "#ed7953"
             ],
             [
              0.7777777777777778,
              "#fb9f3a"
             ],
             [
              0.8888888888888888,
              "#fdca26"
             ],
             [
              1,
              "#f0f921"
             ]
            ],
            "type": "histogram2dcontour"
           }
          ],
          "mesh3d": [
           {
            "colorbar": {
             "outlinewidth": 0,
             "ticks": ""
            },
            "type": "mesh3d"
           }
          ],
          "parcoords": [
           {
            "line": {
             "colorbar": {
              "outlinewidth": 0,
              "ticks": ""
             }
            },
            "type": "parcoords"
           }
          ],
          "pie": [
           {
            "automargin": true,
            "type": "pie"
           }
          ],
          "scatter": [
           {
            "fillpattern": {
             "fillmode": "overlay",
             "size": 10,
             "solidity": 0.2
            },
            "type": "scatter"
           }
          ],
          "scatter3d": [
           {
            "line": {
             "colorbar": {
              "outlinewidth": 0,
              "ticks": ""
             }
            },
            "marker": {
             "colorbar": {
              "outlinewidth": 0,
              "ticks": ""
             }
            },
            "type": "scatter3d"
           }
          ],
          "scattercarpet": [
           {
            "marker": {
             "colorbar": {
              "outlinewidth": 0,
              "ticks": ""
             }
            },
            "type": "scattercarpet"
           }
          ],
          "scattergeo": [
           {
            "marker": {
             "colorbar": {
              "outlinewidth": 0,
              "ticks": ""
             }
            },
            "type": "scattergeo"
           }
          ],
          "scattergl": [
           {
            "marker": {
             "colorbar": {
              "outlinewidth": 0,
              "ticks": ""
             }
            },
            "type": "scattergl"
           }
          ],
          "scattermapbox": [
           {
            "marker": {
             "colorbar": {
              "outlinewidth": 0,
              "ticks": ""
             }
            },
            "type": "scattermapbox"
           }
          ],
          "scatterpolar": [
           {
            "marker": {
             "colorbar": {
              "outlinewidth": 0,
              "ticks": ""
             }
            },
            "type": "scatterpolar"
           }
          ],
          "scatterpolargl": [
           {
            "marker": {
             "colorbar": {
              "outlinewidth": 0,
              "ticks": ""
             }
            },
            "type": "scatterpolargl"
           }
          ],
          "scatterternary": [
           {
            "marker": {
             "colorbar": {
              "outlinewidth": 0,
              "ticks": ""
             }
            },
            "type": "scatterternary"
           }
          ],
          "surface": [
           {
            "colorbar": {
             "outlinewidth": 0,
             "ticks": ""
            },
            "colorscale": [
             [
              0,
              "#0d0887"
             ],
             [
              0.1111111111111111,
              "#46039f"
             ],
             [
              0.2222222222222222,
              "#7201a8"
             ],
             [
              0.3333333333333333,
              "#9c179e"
             ],
             [
              0.4444444444444444,
              "#bd3786"
             ],
             [
              0.5555555555555556,
              "#d8576b"
             ],
             [
              0.6666666666666666,
              "#ed7953"
             ],
             [
              0.7777777777777778,
              "#fb9f3a"
             ],
             [
              0.8888888888888888,
              "#fdca26"
             ],
             [
              1,
              "#f0f921"
             ]
            ],
            "type": "surface"
           }
          ],
          "table": [
           {
            "cells": {
             "fill": {
              "color": "#EBF0F8"
             },
             "line": {
              "color": "white"
             }
            },
            "header": {
             "fill": {
              "color": "#C8D4E3"
             },
             "line": {
              "color": "white"
             }
            },
            "type": "table"
           }
          ]
         },
         "layout": {
          "annotationdefaults": {
           "arrowcolor": "#2a3f5f",
           "arrowhead": 0,
           "arrowwidth": 1
          },
          "autotypenumbers": "strict",
          "coloraxis": {
           "colorbar": {
            "outlinewidth": 0,
            "ticks": ""
           }
          },
          "colorscale": {
           "diverging": [
            [
             0,
             "#8e0152"
            ],
            [
             0.1,
             "#c51b7d"
            ],
            [
             0.2,
             "#de77ae"
            ],
            [
             0.3,
             "#f1b6da"
            ],
            [
             0.4,
             "#fde0ef"
            ],
            [
             0.5,
             "#f7f7f7"
            ],
            [
             0.6,
             "#e6f5d0"
            ],
            [
             0.7,
             "#b8e186"
            ],
            [
             0.8,
             "#7fbc41"
            ],
            [
             0.9,
             "#4d9221"
            ],
            [
             1,
             "#276419"
            ]
           ],
           "sequential": [
            [
             0,
             "#0d0887"
            ],
            [
             0.1111111111111111,
             "#46039f"
            ],
            [
             0.2222222222222222,
             "#7201a8"
            ],
            [
             0.3333333333333333,
             "#9c179e"
            ],
            [
             0.4444444444444444,
             "#bd3786"
            ],
            [
             0.5555555555555556,
             "#d8576b"
            ],
            [
             0.6666666666666666,
             "#ed7953"
            ],
            [
             0.7777777777777778,
             "#fb9f3a"
            ],
            [
             0.8888888888888888,
             "#fdca26"
            ],
            [
             1,
             "#f0f921"
            ]
           ],
           "sequentialminus": [
            [
             0,
             "#0d0887"
            ],
            [
             0.1111111111111111,
             "#46039f"
            ],
            [
             0.2222222222222222,
             "#7201a8"
            ],
            [
             0.3333333333333333,
             "#9c179e"
            ],
            [
             0.4444444444444444,
             "#bd3786"
            ],
            [
             0.5555555555555556,
             "#d8576b"
            ],
            [
             0.6666666666666666,
             "#ed7953"
            ],
            [
             0.7777777777777778,
             "#fb9f3a"
            ],
            [
             0.8888888888888888,
             "#fdca26"
            ],
            [
             1,
             "#f0f921"
            ]
           ]
          },
          "colorway": [
           "#636efa",
           "#EF553B",
           "#00cc96",
           "#ab63fa",
           "#FFA15A",
           "#19d3f3",
           "#FF6692",
           "#B6E880",
           "#FF97FF",
           "#FECB52"
          ],
          "font": {
           "color": "#2a3f5f"
          },
          "geo": {
           "bgcolor": "white",
           "lakecolor": "white",
           "landcolor": "#E5ECF6",
           "showlakes": true,
           "showland": true,
           "subunitcolor": "white"
          },
          "hoverlabel": {
           "align": "left"
          },
          "hovermode": "closest",
          "mapbox": {
           "style": "light"
          },
          "paper_bgcolor": "white",
          "plot_bgcolor": "#E5ECF6",
          "polar": {
           "angularaxis": {
            "gridcolor": "white",
            "linecolor": "white",
            "ticks": ""
           },
           "bgcolor": "#E5ECF6",
           "radialaxis": {
            "gridcolor": "white",
            "linecolor": "white",
            "ticks": ""
           }
          },
          "scene": {
           "xaxis": {
            "backgroundcolor": "#E5ECF6",
            "gridcolor": "white",
            "gridwidth": 2,
            "linecolor": "white",
            "showbackground": true,
            "ticks": "",
            "zerolinecolor": "white"
           },
           "yaxis": {
            "backgroundcolor": "#E5ECF6",
            "gridcolor": "white",
            "gridwidth": 2,
            "linecolor": "white",
            "showbackground": true,
            "ticks": "",
            "zerolinecolor": "white"
           },
           "zaxis": {
            "backgroundcolor": "#E5ECF6",
            "gridcolor": "white",
            "gridwidth": 2,
            "linecolor": "white",
            "showbackground": true,
            "ticks": "",
            "zerolinecolor": "white"
           }
          },
          "shapedefaults": {
           "line": {
            "color": "#2a3f5f"
           }
          },
          "ternary": {
           "aaxis": {
            "gridcolor": "white",
            "linecolor": "white",
            "ticks": ""
           },
           "baxis": {
            "gridcolor": "white",
            "linecolor": "white",
            "ticks": ""
           },
           "bgcolor": "#E5ECF6",
           "caxis": {
            "gridcolor": "white",
            "linecolor": "white",
            "ticks": ""
           }
          },
          "title": {
           "x": 0.05
          },
          "xaxis": {
           "automargin": true,
           "gridcolor": "white",
           "linecolor": "white",
           "ticks": "",
           "title": {
            "standoff": 15
           },
           "zerolinecolor": "white",
           "zerolinewidth": 2
          },
          "yaxis": {
           "automargin": true,
           "gridcolor": "white",
           "linecolor": "white",
           "ticks": "",
           "title": {
            "standoff": 15
           },
           "zerolinecolor": "white",
           "zerolinewidth": 2
          }
         }
        },
        "title": {
         "text": "Casos de Dengue x Temperatura Média em Graus Celcius"
        },
        "xaxis": {
         "anchor": "y",
         "domain": [
          0,
          1
         ],
         "title": {
          "text": "Temperatura Média em °C"
         }
        },
        "yaxis": {
         "anchor": "x",
         "domain": [
          0,
          1
         ],
         "title": {
          "text": "Casos"
         }
        }
       }
      }
     },
     "metadata": {},
     "output_type": "display_data"
    }
   ],
   "source": [
    "fig_temp = px.scatter(df,\n",
    "                      x='tempmed',\n",
    "                      y='casos',\n",
    "                      title='Casos de Dengue x Temperatura Média em Graus Celcius',\n",
    "                      labels={'tempmed':'Temperatura Média em °C','casos':'Casos'})\n",
    "\n",
    "fig_temp.add_annotation(text=f\"Correlação: {corr_temp:.2f}\",\n",
    "                        xanchor='right', x=0.97, yanchor='top', y=0.03,\n",
    "                        showarrow=False, font=dict(color=\"black\"))\n",
    "\n",
    "fig_temp.show()\n"
   ]
  },
  {
   "cell_type": "markdown",
   "metadata": {},
   "source": [
    "Para umidade:"
   ]
  },
  {
   "cell_type": "code",
   "execution_count": 40,
   "metadata": {},
   "outputs": [
    {
     "data": {
      "application/vnd.plotly.v1+json": {
       "config": {
        "plotlyServerURL": "https://plot.ly"
       },
       "data": [
        {
         "hovertemplate": "Umidade Média=%{x}<br>Casos=%{y}<extra></extra>",
         "legendgroup": "",
         "marker": {
          "color": "#636efa",
          "symbol": "circle"
         },
         "mode": "markers",
         "name": "",
         "orientation": "v",
         "showlegend": false,
         "type": "scatter",
         "x": [
          82.27322192,
          78.0517033333333,
          74.1480354347826,
          77.312465,
          79.50730875,
          81.70215250000001,
          83.89699625,
          86.09184,
          79.6864765714286,
          81.8267389523809,
          84.06895175,
          82.5253292857143,
          77.3474562857143,
          81.43199885,
          81.390786,
          77.2142524,
          84.6724368,
          84.9866685263158,
          88.264806,
          78.27734368,
          76.8775522608696,
          84.5371289090909,
          86.2529474285714,
          78.7258365714286,
          77.3964678571429,
          80.7760205714286,
          78.9160121428571,
          80.4843574615385,
          74.8795039230769,
          81.4420851578947,
          79.748143,
          76.7611115652174,
          78.69903688,
          83.6260754666667,
          83.9598165714286,
          79.6925188571429,
          82.1437925714286,
          77.1570837142857,
          82.592395,
          78.1880928571429,
          80.6600933333333,
          83.38519,
          73.5068166666667,
          74.9937762857143,
          78.5898624285714,
          76.3102944285714,
          75.5614441428571,
          80.2791155714286,
          77.4797042857143,
          76.8328058571429,
          75.5363142857143,
          77.2842664285714,
          80.4126357142857,
          82.4935828571429,
          76.1413314285714,
          84.5921785714286,
          68.5189102857143,
          74.4666448571429,
          75.4263357142857,
          73.3853142857143,
          77.6299708571429,
          78.1457512857143,
          75.12184,
          78.4269351428571,
          77.0165278571429,
          74.9100201428571,
          78.3092191428571,
          81.7343437142857,
          76.8445185714286,
          84.0119471428571,
          82.2815842857143,
          76.0312177142857,
          69.924275,
          77.7365771428571,
          76.414742,
          77.0176772857143,
          72.6356422857143,
          77.5380571428571,
          80.9235035714286,
          78.4215422857143,
          69.8232521428571,
          71.7843947142857,
          65.9678482857143,
          70.8325442857143,
          80.6074448571429,
          83.4910728571429,
          82.9531077142857,
          82.0471292857143,
          69.4298987142857,
          75.7381385714286,
          85.3748222857143,
          78.1829721428571,
          79.3975965714286,
          73.5710337142857,
          80.4814391428571,
          77.4760968571429,
          75.5475885714286,
          71.3605411428571,
          73.0223825714286,
          80.851583,
          85.6837015714286,
          83.2651894285714,
          82.5214742857143,
          79.9752265714286,
          80.53411,
          73.4061048571429,
          70.2171698571429,
          77.9427294285714,
          78.2524162857143,
          78.4378828571429,
          64.9142655714286,
          75.9962912857143,
          77.6620827142857,
          73.8824428571429,
          65.8278381428571,
          72.07592,
          79.6211665714286,
          80.6396264285714,
          75.1644141428571,
          77.9602635714286,
          79.7375154285714,
          82.3108121428571,
          84.217555,
          72.5573582857143,
          78.3082442857143,
          78.6342108571429,
          81.4313622857143,
          80.995328,
          78.5972177142857,
          72.8571561428571,
          75.3069185714286,
          72.7801851428571,
          74.19365,
          78.0257715714286,
          81.75049,
          75.680719,
          85.3680734285714,
          78.0752898571429,
          79.6171862857143,
          68.6064512857143,
          58.7963517142857,
          62.7622224285714,
          73.2554505714286,
          75.1043378571429,
          81.32494,
          79.82708536,
          78.32923072,
          76.83137608,
          75.33352144,
          73.8356668,
          80.7747005714286,
          83.0575006666667,
          75.1049638571429,
          75.4202948571428,
          67.449365,
          69.512531,
          78.870194,
          71.3444385714286,
          80.4855757142857,
          70.4224815714286,
          73.7125498571429,
          68.8095661428571,
          72.2967785714286,
          79.60616,
          68.9279672857143,
          72.7176312857143,
          74.1134041428571,
          70.0372835714286,
          76.5732918571429,
          73.702986,
          69.4750384285714,
          71.4042985714286,
          78.1763142857143,
          80.9409711428571,
          76.6519727142857,
          73.5856228571429,
          75.7413757142857,
          77.9879384285714,
          77.4598878571429,
          73.0312114285714,
          74.7033157142857,
          76.559027,
          79.0992894285714,
          75.5425351428571,
          75.4550407142857,
          80.1333991428571,
          78.1667864285714,
          85.1152157142857,
          80.1973692857143,
          82.0694685714286,
          86.3871267142857,
          86.5823387142857,
          73.1501881428571,
          77.6611994285714,
          74.8296292857143,
          76.0959471428571,
          75.4366298333333,
          84.2383614285714,
          80.9593262857143,
          85.82549,
          84.7446697142857,
          78.6834532857143,
          83.9942265714286,
          86.8159582857143,
          81.4293,
          79.9784957142857,
          80.738407,
          80.6779285714286,
          86.3365637142857,
          81.8754057142857,
          85.5637642857143,
          83.7190821428571,
          83.7106027142857,
          86.7479682857143,
          80.9308534285714,
          82.0384407142857,
          82.4543371428571,
          88.5005578571429,
          84.1522228571429,
          85.9213765714286,
          81.0379188571429,
          84.0627335714286,
          86.2954871428571,
          88.8282721428571,
          88.8829201428571,
          89.057758,
          91.7512828571429,
          86.93222,
          91.8653642857143,
          91.1251622857143,
          88.1819048571429,
          89.3449678571429,
          86.6249885714286,
          86.3973914285714,
          91.6160334285714,
          84.442725,
          87.2365157142857,
          91.903172,
          86.9056078571429,
          88.3172435714286,
          87.1531185714286,
          90.3090427142857,
          83.3250257142857,
          81.07607,
          64.4393865714286,
          72.1841194285714,
          70.4716677142857,
          80.824093,
          83.6415685714286,
          83.47795,
          70.6446821428571,
          66.3526121428571,
          85.171617,
          80.7594808571429,
          83.52003,
          83.7167734285714,
          88.5308537142857,
          82.1331148571429,
          83.9800065714286,
          83.8479424285714,
          85.1572437142857,
          83.5870837142857,
          86.8177112857143,
          88.223822,
          80.11769,
          83.0528431428571,
          85.9954757142857,
          86.078374,
          82.53715,
          80.8785835714286,
          80.4714658571429,
          80.0970942857143,
          79.4077948571429,
          85.7988257142857,
          87.8519401428571,
          84.3473014285714,
          85.7492771428571,
          86.7603477142857,
          84.3113594285714,
          83.302395,
          76.9799422857143,
          73.0103335714286,
          72.8736837142857,
          72.5968542857143,
          75.69391,
          81.6303011428571,
          80.7044871428571,
          83.8479745714286,
          79.1392778571429,
          82.3445464285714,
          81.1266691428571,
          84.0694442857143,
          79.3488392857143,
          83.5137105714286,
          79.2693641428571,
          80.4792082857143,
          82.02291,
          77.9716627142857,
          73.423488,
          78.6560084285714,
          82.4826302857143,
          82.025202,
          76.7526777142857,
          77.2555742857143,
          76.8028658571429,
          72.2437457142857,
          77.7171978571429,
          54.200398,
          56.268747,
          58.337096,
          60.405445,
          62.473794,
          64.542143,
          66.610492,
          68.678841,
          70.74719,
          72.815539,
          74.883888,
          80.4974022857143,
          82.3829371428571,
          83.6707477142857,
          79.3532477142857,
          80.3968257142857,
          82.9063485714286,
          83.9523805714286,
          85.2965374285714,
          84.825,
          87.0744151428571,
          88.5304472857143,
          88.6922891428571,
          84.0722228571429,
          86.8458862857143,
          88.2522371428571,
          83.5490262857143,
          83.8135341428571,
          86.0430105714286,
          86.9110391428571,
          79.3530514285714,
          84.1411522857143,
          84.3815382857143,
          83.0007127142857,
          84.035035,
          80.6729162857143,
          79.5125,
          80.4177485714286,
          74.3353537142857,
          74.948412,
          80.7517842857143,
          78.7167665714286,
          81.5594051428571,
          79.8873991428571,
          81.5944061428571,
          73.5362105714286,
          73.7981792857143,
          75.4131951428571,
          84.8356144285714,
          82.4947415714286,
          72.2297725714286,
          77.2405757142857,
          83.1088544285714,
          82.8491414285714,
          77.9994385714286,
          79.0697271428571,
          81.0249435714286,
          77.5217357142857,
          82.1857601428571,
          86.0699494285714,
          82.7192005714286,
          74.1457975714286,
          80.1710228571429,
          79.7764314285714,
          78.1625808571429,
          82.2345777142857,
          78.3549517142857,
          77.2278764285714,
          84.2075222857143,
          75.6039665714286,
          83.2477627142857,
          81.8984121428571,
          89.0090905714286,
          84.6049505714286,
          82.318182,
          85.9749194285714,
          86.5875,
          85.5237014285714,
          85.9360391428571,
          86.001908,
          84.2525521428571,
          78.9060062857143,
          75.3020821428571,
          73.4763242857143,
          84.3746485714286,
          86.7307868571429,
          84.6715902857143,
          87.8478077142857,
          83.0568071428571,
          79.7282054285714,
          81.8395837142857,
          84.0723612857143,
          70.7325221428571,
          68.2063364285714,
          81.842758,
          87.2857142857143,
          85.0086574285714,
          76.085932,
          75.9339308571429,
          74.8888885714286,
          77.2273807142857,
          81.8770762857143,
          83.4605657142857,
          75.7165828571429,
          73.9476672857143,
          74.6202654285714,
          80.70256375,
          73.1809577142857,
          72.2799628571428,
          67.7041038571429,
          71.0914071428572,
          75.9940057142857,
          71.9226971428571,
          73.3617014285714,
          81.9518964285714,
          71.3114128571429,
          74.075902,
          65.6675308571429,
          68.2541762857143,
          69.1026785714286,
          78.3653037142857,
          74.0592504285714,
          74.8888814285714,
          75.34519,
          75.1357771428571,
          79.4337148571429,
          79.6610562857143,
          72.0513942857143,
          80.4142271428571,
          74.8451321428571,
          74.0153428571429,
          77.0881715714286,
          76.7873592857143,
          78.7451151428571,
          78.5188234285714,
          73.0317385714286,
          73.3478137142857,
          76.0706897142857,
          77.9136271428571,
          79.186538,
          79.5580494285714,
          68.4690197142857,
          67.4642034285714,
          68.1876157142857,
          68.658559,
          77.2793425714286,
          60.409108,
          61.1560384285714,
          54.599057,
          58.0277104285714,
          55.0980791428571,
          62.3752074285714,
          60.0799731428571,
          58.551738,
          64.9203794285714,
          73.9922344285714,
          57.8018488571429,
          69.7810808571429,
          61.3533404285714,
          59.6822172857143,
          66.6423092857143,
          67.5659562857143,
          55.3984485714286,
          64.616699,
          66.641386,
          66.047234,
          65.2226591428571,
          68.9123048571429,
          71.7006051428571,
          76.458779,
          74.8146857142857,
          72.1608368571429,
          77.4310037142857,
          65.5801792857143,
          65.6542567142857,
          74.7692365714286,
          74.4971454285714,
          72.1077185714286,
          75.9811448571429,
          71.4853948571429,
          70.1947371428571,
          75.5395811428571,
          71.7624761428571,
          68.6398114285714,
          70.7822474285714,
          64.4988485714286,
          70.9701248571428,
          77.0619057142857,
          66.5592462857143,
          73.199432,
          74.9207857142857,
          56.0006581428571,
          63.3486557142857,
          71.5022634285714,
          54.0559704285714,
          66.3106181428571,
          49.2634411428571,
          50.2580641428571,
          54.6360118571429,
          60.3848118571429,
          65.380169,
          59.8441745714286,
          65.4732601428571,
          73.2630522857143,
          73.3831935714286,
          73.8623534285714,
          70.0645471428571,
          73.9546891428571,
          69.4093337142857,
          59.674668,
          71.6328948571429,
          59.9249534285714,
          67.7420562857143,
          69.6669248571429,
          62.8063464285714,
          75.3018645714286,
          67.3455142857143,
          66.9534548571429,
          64.7563365714286,
          70.6968282857143,
          69.743783,
          68.7184288571429,
          71.9157071428571,
          70.945068,
          72.278256,
          77.0854864285714,
          74.0512527142857,
          74.5832957142857,
          78.8013492857143,
          76.9263637142857,
          76.17658,
          77.1357505714286,
          81.0068365714286,
          76.1129434285714,
          75.80119,
          75.4746722857143,
          70.5117034285714,
          72.3771491428571,
          73.2174285714286,
          72.8998698571429,
          74.0999012857143,
          80.5959728571429,
          79.238264,
          79.6352414285714,
          75.934373,
          72.4378257142857,
          73.3164262857143,
          63.9708328571429,
          67.3015431428571,
          79.0714664285714,
          78.09375,
          76.1786977142857,
          77.7332085714286,
          71.7374815714286,
          70.3677132857143
         ],
         "xaxis": "x",
         "y": [
          173,
          365,
          473,
          530,
          427,
          447,
          506,
          528,
          534,
          598,
          558,
          644,
          767,
          843,
          994,
          1230,
          1343,
          1242,
          1333,
          1487,
          1741,
          1798,
          1927,
          1575,
          1500,
          1792,
          1417,
          1586,
          1374,
          1118,
          946,
          860,
          505,
          370,
          520,
          373,
          311,
          241,
          212,
          225,
          169,
          119,
          126,
          106,
          86,
          94,
          129,
          171,
          131,
          139,
          160,
          123,
          102,
          95,
          102,
          120,
          101,
          94,
          99,
          110,
          106,
          145,
          148,
          194,
          144,
          155,
          189,
          209,
          153,
          255,
          338,
          400,
          406,
          505,
          461,
          342,
          234,
          201,
          222,
          153,
          177,
          126,
          116,
          66,
          62,
          47,
          35,
          31,
          19,
          22,
          14,
          21,
          5,
          9,
          14,
          35,
          46,
          51,
          44,
          11,
          16,
          11,
          9,
          19,
          8,
          28,
          13,
          19,
          25,
          34,
          34,
          18,
          19,
          24,
          14,
          38,
          41,
          48,
          58,
          42,
          70,
          69,
          80,
          98,
          102,
          82,
          61,
          80,
          79,
          112,
          124,
          96,
          80,
          72,
          59,
          43,
          49,
          32,
          32,
          37,
          59,
          26,
          21,
          15,
          8,
          6,
          8,
          10,
          17,
          10,
          20,
          25,
          12,
          9,
          19,
          10,
          12,
          11,
          14,
          12,
          10,
          10,
          9,
          10,
          12,
          11,
          11,
          17,
          22,
          18,
          13,
          14,
          22,
          16,
          11,
          16,
          12,
          13,
          29,
          29,
          29,
          28,
          21,
          36,
          32,
          39,
          53,
          70,
          49,
          65,
          77,
          57,
          77,
          85,
          109,
          100,
          69,
          43,
          58,
          75,
          49,
          74,
          50,
          56,
          65,
          40,
          58,
          65,
          67,
          73,
          99,
          83,
          66,
          64,
          71,
          97,
          140,
          140,
          169,
          168,
          238,
          285,
          489,
          497,
          551,
          769,
          980,
          1233,
          1573,
          1624,
          1864,
          1643,
          1432,
          1280,
          1207,
          1112,
          801,
          643,
          414,
          274,
          157,
          195,
          182,
          167,
          159,
          205,
          201,
          186,
          179,
          147,
          124,
          138,
          150,
          106,
          65,
          69,
          71,
          66,
          70,
          72,
          43,
          59,
          41,
          63,
          54,
          51,
          68,
          67,
          75,
          120,
          92,
          119,
          152,
          153,
          218,
          193,
          160,
          196,
          194,
          197,
          211,
          328,
          331,
          313,
          264,
          251,
          279,
          289,
          237,
          200,
          179,
          197,
          144,
          129,
          78,
          74,
          107,
          97,
          126,
          105,
          133,
          58,
          56,
          67,
          84,
          61,
          49,
          56,
          59,
          38,
          53,
          61,
          56,
          59,
          37,
          54,
          36,
          32,
          31,
          35,
          27,
          24,
          39,
          33,
          40,
          30,
          31,
          29,
          38,
          34,
          74,
          58,
          34,
          52,
          86,
          95,
          87,
          86,
          95,
          129,
          123,
          134,
          159,
          135,
          131,
          115,
          223,
          236,
          237,
          282,
          219,
          213,
          196,
          252,
          135,
          102,
          127,
          133,
          107,
          72,
          65,
          37,
          54,
          63,
          39,
          34,
          32,
          47,
          50,
          48,
          64,
          63,
          74,
          95,
          95,
          133,
          143,
          187,
          228,
          234,
          262,
          314,
          508,
          540,
          503,
          976,
          1232,
          1339,
          2254,
          2312,
          2863,
          2968,
          3127,
          1877,
          1462,
          1328,
          1064,
          875,
          889,
          646,
          473,
          476,
          470,
          476,
          550,
          218,
          312,
          446,
          413,
          316,
          211,
          200,
          174,
          155,
          116,
          110,
          109,
          132,
          121,
          117,
          107,
          135,
          186,
          178,
          184,
          475,
          255,
          260,
          327,
          331,
          438,
          436,
          870,
          959,
          891,
          976,
          1180,
          1591,
          1598,
          1359,
          1211,
          1000,
          864,
          691,
          399,
          306,
          277,
          200,
          130,
          101,
          74,
          48,
          63,
          43,
          47,
          44,
          53,
          11,
          25,
          34,
          39,
          47,
          46,
          43,
          54,
          49,
          47,
          61,
          63,
          66,
          90,
          76,
          68,
          61,
          76,
          64,
          61,
          53,
          56,
          58,
          45,
          44,
          44,
          59,
          46,
          57,
          49,
          60,
          54,
          81,
          89,
          84,
          89,
          70,
          72,
          86,
          87,
          94,
          117,
          92,
          74,
          67,
          120,
          119,
          125,
          119,
          156,
          142,
          152,
          89,
          81,
          77,
          115,
          144,
          111,
          108,
          74,
          48,
          73,
          75,
          62,
          65,
          62,
          104,
          56,
          83,
          61,
          232,
          76,
          186,
          93,
          134,
          85,
          185,
          206,
          223,
          281,
          426,
          520,
          614,
          816,
          1248,
          1670,
          2292,
          2865,
          3931,
          5475,
          6499,
          6644,
          5351,
          5423,
          5395,
          4017,
          3852,
          3237,
          1749,
          1321,
          1346,
          1146,
          919,
          862,
          534
         ],
         "yaxis": "y"
        }
       ],
       "layout": {
        "annotations": [
         {
          "font": {
           "color": "black"
          },
          "showarrow": false,
          "text": "Correlação: 0.10",
          "x": 0.97,
          "xanchor": "right",
          "y": 0.03,
          "yanchor": "top"
         }
        ],
        "legend": {
         "tracegroupgap": 0
        },
        "template": {
         "data": {
          "bar": [
           {
            "error_x": {
             "color": "#2a3f5f"
            },
            "error_y": {
             "color": "#2a3f5f"
            },
            "marker": {
             "line": {
              "color": "#E5ECF6",
              "width": 0.5
             },
             "pattern": {
              "fillmode": "overlay",
              "size": 10,
              "solidity": 0.2
             }
            },
            "type": "bar"
           }
          ],
          "barpolar": [
           {
            "marker": {
             "line": {
              "color": "#E5ECF6",
              "width": 0.5
             },
             "pattern": {
              "fillmode": "overlay",
              "size": 10,
              "solidity": 0.2
             }
            },
            "type": "barpolar"
           }
          ],
          "carpet": [
           {
            "aaxis": {
             "endlinecolor": "#2a3f5f",
             "gridcolor": "white",
             "linecolor": "white",
             "minorgridcolor": "white",
             "startlinecolor": "#2a3f5f"
            },
            "baxis": {
             "endlinecolor": "#2a3f5f",
             "gridcolor": "white",
             "linecolor": "white",
             "minorgridcolor": "white",
             "startlinecolor": "#2a3f5f"
            },
            "type": "carpet"
           }
          ],
          "choropleth": [
           {
            "colorbar": {
             "outlinewidth": 0,
             "ticks": ""
            },
            "type": "choropleth"
           }
          ],
          "contour": [
           {
            "colorbar": {
             "outlinewidth": 0,
             "ticks": ""
            },
            "colorscale": [
             [
              0,
              "#0d0887"
             ],
             [
              0.1111111111111111,
              "#46039f"
             ],
             [
              0.2222222222222222,
              "#7201a8"
             ],
             [
              0.3333333333333333,
              "#9c179e"
             ],
             [
              0.4444444444444444,
              "#bd3786"
             ],
             [
              0.5555555555555556,
              "#d8576b"
             ],
             [
              0.6666666666666666,
              "#ed7953"
             ],
             [
              0.7777777777777778,
              "#fb9f3a"
             ],
             [
              0.8888888888888888,
              "#fdca26"
             ],
             [
              1,
              "#f0f921"
             ]
            ],
            "type": "contour"
           }
          ],
          "contourcarpet": [
           {
            "colorbar": {
             "outlinewidth": 0,
             "ticks": ""
            },
            "type": "contourcarpet"
           }
          ],
          "heatmap": [
           {
            "colorbar": {
             "outlinewidth": 0,
             "ticks": ""
            },
            "colorscale": [
             [
              0,
              "#0d0887"
             ],
             [
              0.1111111111111111,
              "#46039f"
             ],
             [
              0.2222222222222222,
              "#7201a8"
             ],
             [
              0.3333333333333333,
              "#9c179e"
             ],
             [
              0.4444444444444444,
              "#bd3786"
             ],
             [
              0.5555555555555556,
              "#d8576b"
             ],
             [
              0.6666666666666666,
              "#ed7953"
             ],
             [
              0.7777777777777778,
              "#fb9f3a"
             ],
             [
              0.8888888888888888,
              "#fdca26"
             ],
             [
              1,
              "#f0f921"
             ]
            ],
            "type": "heatmap"
           }
          ],
          "heatmapgl": [
           {
            "colorbar": {
             "outlinewidth": 0,
             "ticks": ""
            },
            "colorscale": [
             [
              0,
              "#0d0887"
             ],
             [
              0.1111111111111111,
              "#46039f"
             ],
             [
              0.2222222222222222,
              "#7201a8"
             ],
             [
              0.3333333333333333,
              "#9c179e"
             ],
             [
              0.4444444444444444,
              "#bd3786"
             ],
             [
              0.5555555555555556,
              "#d8576b"
             ],
             [
              0.6666666666666666,
              "#ed7953"
             ],
             [
              0.7777777777777778,
              "#fb9f3a"
             ],
             [
              0.8888888888888888,
              "#fdca26"
             ],
             [
              1,
              "#f0f921"
             ]
            ],
            "type": "heatmapgl"
           }
          ],
          "histogram": [
           {
            "marker": {
             "pattern": {
              "fillmode": "overlay",
              "size": 10,
              "solidity": 0.2
             }
            },
            "type": "histogram"
           }
          ],
          "histogram2d": [
           {
            "colorbar": {
             "outlinewidth": 0,
             "ticks": ""
            },
            "colorscale": [
             [
              0,
              "#0d0887"
             ],
             [
              0.1111111111111111,
              "#46039f"
             ],
             [
              0.2222222222222222,
              "#7201a8"
             ],
             [
              0.3333333333333333,
              "#9c179e"
             ],
             [
              0.4444444444444444,
              "#bd3786"
             ],
             [
              0.5555555555555556,
              "#d8576b"
             ],
             [
              0.6666666666666666,
              "#ed7953"
             ],
             [
              0.7777777777777778,
              "#fb9f3a"
             ],
             [
              0.8888888888888888,
              "#fdca26"
             ],
             [
              1,
              "#f0f921"
             ]
            ],
            "type": "histogram2d"
           }
          ],
          "histogram2dcontour": [
           {
            "colorbar": {
             "outlinewidth": 0,
             "ticks": ""
            },
            "colorscale": [
             [
              0,
              "#0d0887"
             ],
             [
              0.1111111111111111,
              "#46039f"
             ],
             [
              0.2222222222222222,
              "#7201a8"
             ],
             [
              0.3333333333333333,
              "#9c179e"
             ],
             [
              0.4444444444444444,
              "#bd3786"
             ],
             [
              0.5555555555555556,
              "#d8576b"
             ],
             [
              0.6666666666666666,
              "#ed7953"
             ],
             [
              0.7777777777777778,
              "#fb9f3a"
             ],
             [
              0.8888888888888888,
              "#fdca26"
             ],
             [
              1,
              "#f0f921"
             ]
            ],
            "type": "histogram2dcontour"
           }
          ],
          "mesh3d": [
           {
            "colorbar": {
             "outlinewidth": 0,
             "ticks": ""
            },
            "type": "mesh3d"
           }
          ],
          "parcoords": [
           {
            "line": {
             "colorbar": {
              "outlinewidth": 0,
              "ticks": ""
             }
            },
            "type": "parcoords"
           }
          ],
          "pie": [
           {
            "automargin": true,
            "type": "pie"
           }
          ],
          "scatter": [
           {
            "fillpattern": {
             "fillmode": "overlay",
             "size": 10,
             "solidity": 0.2
            },
            "type": "scatter"
           }
          ],
          "scatter3d": [
           {
            "line": {
             "colorbar": {
              "outlinewidth": 0,
              "ticks": ""
             }
            },
            "marker": {
             "colorbar": {
              "outlinewidth": 0,
              "ticks": ""
             }
            },
            "type": "scatter3d"
           }
          ],
          "scattercarpet": [
           {
            "marker": {
             "colorbar": {
              "outlinewidth": 0,
              "ticks": ""
             }
            },
            "type": "scattercarpet"
           }
          ],
          "scattergeo": [
           {
            "marker": {
             "colorbar": {
              "outlinewidth": 0,
              "ticks": ""
             }
            },
            "type": "scattergeo"
           }
          ],
          "scattergl": [
           {
            "marker": {
             "colorbar": {
              "outlinewidth": 0,
              "ticks": ""
             }
            },
            "type": "scattergl"
           }
          ],
          "scattermapbox": [
           {
            "marker": {
             "colorbar": {
              "outlinewidth": 0,
              "ticks": ""
             }
            },
            "type": "scattermapbox"
           }
          ],
          "scatterpolar": [
           {
            "marker": {
             "colorbar": {
              "outlinewidth": 0,
              "ticks": ""
             }
            },
            "type": "scatterpolar"
           }
          ],
          "scatterpolargl": [
           {
            "marker": {
             "colorbar": {
              "outlinewidth": 0,
              "ticks": ""
             }
            },
            "type": "scatterpolargl"
           }
          ],
          "scatterternary": [
           {
            "marker": {
             "colorbar": {
              "outlinewidth": 0,
              "ticks": ""
             }
            },
            "type": "scatterternary"
           }
          ],
          "surface": [
           {
            "colorbar": {
             "outlinewidth": 0,
             "ticks": ""
            },
            "colorscale": [
             [
              0,
              "#0d0887"
             ],
             [
              0.1111111111111111,
              "#46039f"
             ],
             [
              0.2222222222222222,
              "#7201a8"
             ],
             [
              0.3333333333333333,
              "#9c179e"
             ],
             [
              0.4444444444444444,
              "#bd3786"
             ],
             [
              0.5555555555555556,
              "#d8576b"
             ],
             [
              0.6666666666666666,
              "#ed7953"
             ],
             [
              0.7777777777777778,
              "#fb9f3a"
             ],
             [
              0.8888888888888888,
              "#fdca26"
             ],
             [
              1,
              "#f0f921"
             ]
            ],
            "type": "surface"
           }
          ],
          "table": [
           {
            "cells": {
             "fill": {
              "color": "#EBF0F8"
             },
             "line": {
              "color": "white"
             }
            },
            "header": {
             "fill": {
              "color": "#C8D4E3"
             },
             "line": {
              "color": "white"
             }
            },
            "type": "table"
           }
          ]
         },
         "layout": {
          "annotationdefaults": {
           "arrowcolor": "#2a3f5f",
           "arrowhead": 0,
           "arrowwidth": 1
          },
          "autotypenumbers": "strict",
          "coloraxis": {
           "colorbar": {
            "outlinewidth": 0,
            "ticks": ""
           }
          },
          "colorscale": {
           "diverging": [
            [
             0,
             "#8e0152"
            ],
            [
             0.1,
             "#c51b7d"
            ],
            [
             0.2,
             "#de77ae"
            ],
            [
             0.3,
             "#f1b6da"
            ],
            [
             0.4,
             "#fde0ef"
            ],
            [
             0.5,
             "#f7f7f7"
            ],
            [
             0.6,
             "#e6f5d0"
            ],
            [
             0.7,
             "#b8e186"
            ],
            [
             0.8,
             "#7fbc41"
            ],
            [
             0.9,
             "#4d9221"
            ],
            [
             1,
             "#276419"
            ]
           ],
           "sequential": [
            [
             0,
             "#0d0887"
            ],
            [
             0.1111111111111111,
             "#46039f"
            ],
            [
             0.2222222222222222,
             "#7201a8"
            ],
            [
             0.3333333333333333,
             "#9c179e"
            ],
            [
             0.4444444444444444,
             "#bd3786"
            ],
            [
             0.5555555555555556,
             "#d8576b"
            ],
            [
             0.6666666666666666,
             "#ed7953"
            ],
            [
             0.7777777777777778,
             "#fb9f3a"
            ],
            [
             0.8888888888888888,
             "#fdca26"
            ],
            [
             1,
             "#f0f921"
            ]
           ],
           "sequentialminus": [
            [
             0,
             "#0d0887"
            ],
            [
             0.1111111111111111,
             "#46039f"
            ],
            [
             0.2222222222222222,
             "#7201a8"
            ],
            [
             0.3333333333333333,
             "#9c179e"
            ],
            [
             0.4444444444444444,
             "#bd3786"
            ],
            [
             0.5555555555555556,
             "#d8576b"
            ],
            [
             0.6666666666666666,
             "#ed7953"
            ],
            [
             0.7777777777777778,
             "#fb9f3a"
            ],
            [
             0.8888888888888888,
             "#fdca26"
            ],
            [
             1,
             "#f0f921"
            ]
           ]
          },
          "colorway": [
           "#636efa",
           "#EF553B",
           "#00cc96",
           "#ab63fa",
           "#FFA15A",
           "#19d3f3",
           "#FF6692",
           "#B6E880",
           "#FF97FF",
           "#FECB52"
          ],
          "font": {
           "color": "#2a3f5f"
          },
          "geo": {
           "bgcolor": "white",
           "lakecolor": "white",
           "landcolor": "#E5ECF6",
           "showlakes": true,
           "showland": true,
           "subunitcolor": "white"
          },
          "hoverlabel": {
           "align": "left"
          },
          "hovermode": "closest",
          "mapbox": {
           "style": "light"
          },
          "paper_bgcolor": "white",
          "plot_bgcolor": "#E5ECF6",
          "polar": {
           "angularaxis": {
            "gridcolor": "white",
            "linecolor": "white",
            "ticks": ""
           },
           "bgcolor": "#E5ECF6",
           "radialaxis": {
            "gridcolor": "white",
            "linecolor": "white",
            "ticks": ""
           }
          },
          "scene": {
           "xaxis": {
            "backgroundcolor": "#E5ECF6",
            "gridcolor": "white",
            "gridwidth": 2,
            "linecolor": "white",
            "showbackground": true,
            "ticks": "",
            "zerolinecolor": "white"
           },
           "yaxis": {
            "backgroundcolor": "#E5ECF6",
            "gridcolor": "white",
            "gridwidth": 2,
            "linecolor": "white",
            "showbackground": true,
            "ticks": "",
            "zerolinecolor": "white"
           },
           "zaxis": {
            "backgroundcolor": "#E5ECF6",
            "gridcolor": "white",
            "gridwidth": 2,
            "linecolor": "white",
            "showbackground": true,
            "ticks": "",
            "zerolinecolor": "white"
           }
          },
          "shapedefaults": {
           "line": {
            "color": "#2a3f5f"
           }
          },
          "ternary": {
           "aaxis": {
            "gridcolor": "white",
            "linecolor": "white",
            "ticks": ""
           },
           "baxis": {
            "gridcolor": "white",
            "linecolor": "white",
            "ticks": ""
           },
           "bgcolor": "#E5ECF6",
           "caxis": {
            "gridcolor": "white",
            "linecolor": "white",
            "ticks": ""
           }
          },
          "title": {
           "x": 0.05
          },
          "xaxis": {
           "automargin": true,
           "gridcolor": "white",
           "linecolor": "white",
           "ticks": "",
           "title": {
            "standoff": 15
           },
           "zerolinecolor": "white",
           "zerolinewidth": 2
          },
          "yaxis": {
           "automargin": true,
           "gridcolor": "white",
           "linecolor": "white",
           "ticks": "",
           "title": {
            "standoff": 15
           },
           "zerolinecolor": "white",
           "zerolinewidth": 2
          }
         }
        },
        "title": {
         "text": "Casos de Dengue x Umidade Média"
        },
        "xaxis": {
         "anchor": "y",
         "domain": [
          0,
          1
         ],
         "title": {
          "text": "Umidade Média"
         }
        },
        "yaxis": {
         "anchor": "x",
         "domain": [
          0,
          1
         ],
         "title": {
          "text": "Casos"
         }
        }
       }
      }
     },
     "metadata": {},
     "output_type": "display_data"
    }
   ],
   "source": [
    "fig_umid = px.scatter(df,\n",
    "                      x='umidmed',\n",
    "                      y='casos',\n",
    "                      title='Casos de Dengue x Umidade Média',\n",
    "                      labels={'umidmed':'Umidade Média','casos':'Casos'})\n",
    "\n",
    "fig_umid.add_annotation(text=f\"Correlação: {corr_umid:.2f}\",\n",
    "                        xanchor='right', x=0.97, yanchor='top', y=0.03,\n",
    "                        showarrow=False, font=dict(color=\"black\"))\n",
    "\n",
    "fig_umid.show()\n"
   ]
  },
  {
   "cell_type": "markdown",
   "metadata": {},
   "source": [
    "Em ambos os casos, o coeficiente de correlação está proximo de zero, indicando que não há correlação com o aumento no número de casos"
   ]
  },
  {
   "cell_type": "markdown",
   "metadata": {},
   "source": [
    "### 4. Como o número reprodutivo Rt tem se comportado ao longo do tempo? Ele permaneceu abaixo de 1, indicando um controle da epidemia?"
   ]
  },
  {
   "cell_type": "code",
   "execution_count": 42,
   "metadata": {},
   "outputs": [
    {
     "data": {
      "application/vnd.plotly.v1+json": {
       "config": {
        "plotlyServerURL": "https://plot.ly"
       },
       "data": [
        {
         "hovertemplate": "Data=%{x}<br>Numero Reprodutivo=%{y}<extra></extra>",
         "legendgroup": "",
         "line": {
          "color": "#636efa",
          "dash": "solid"
         },
         "marker": {
          "symbol": "circle"
         },
         "mode": "lines",
         "name": "",
         "orientation": "v",
         "showlegend": false,
         "type": "scatter",
         "x": [
          "2023-10-01",
          "2023-09-24",
          "2023-09-17",
          "2023-09-10",
          "2023-09-03",
          "2023-08-27",
          "2023-08-20",
          "2023-08-13",
          "2023-08-06",
          "2023-07-30",
          "2023-07-23",
          "2023-07-16",
          "2023-07-09",
          "2023-07-02",
          "2023-06-25",
          "2023-06-18",
          "2023-06-11",
          "2023-06-04",
          "2023-05-28",
          "2023-05-21",
          "2023-05-14",
          "2023-05-07",
          "2023-04-30",
          "2023-04-23",
          "2023-04-16",
          "2023-04-09",
          "2023-04-02",
          "2023-03-26",
          "2023-03-19",
          "2023-03-12",
          "2023-03-05",
          "2023-02-26",
          "2023-02-19",
          "2023-02-12",
          "2023-02-05",
          "2023-01-29",
          "2023-01-22",
          "2023-01-15",
          "2023-01-08",
          "2023-01-01",
          "2022-12-25",
          "2022-12-18",
          "2022-12-11",
          "2022-12-04",
          "2022-11-27",
          "2022-11-20",
          "2022-11-13",
          "2022-11-06",
          "2022-10-30",
          "2022-10-23",
          "2022-10-16",
          "2022-10-09",
          "2022-10-02",
          "2022-09-25",
          "2022-09-18",
          "2022-09-11",
          "2022-09-04",
          "2022-08-28",
          "2022-08-21",
          "2022-08-14",
          "2022-08-07",
          "2022-07-31",
          "2022-07-24",
          "2022-07-17",
          "2022-07-10",
          "2022-07-03",
          "2022-06-26",
          "2022-06-19",
          "2022-06-12",
          "2022-06-05",
          "2022-05-29",
          "2022-05-22",
          "2022-05-15",
          "2022-05-08",
          "2022-05-01",
          "2022-04-24",
          "2022-04-17",
          "2022-04-10",
          "2022-04-03",
          "2022-03-27",
          "2022-03-20",
          "2022-03-13",
          "2022-03-06",
          "2022-02-27",
          "2022-02-20",
          "2022-02-13",
          "2022-02-06",
          "2022-01-30",
          "2022-01-23",
          "2022-01-16",
          "2022-01-09",
          "2022-01-02",
          "2021-12-26",
          "2021-12-19",
          "2021-12-12",
          "2021-12-05",
          "2021-11-28",
          "2021-11-21",
          "2021-11-14",
          "2021-11-07",
          "2021-10-31",
          "2021-10-24",
          "2021-10-17",
          "2021-10-10",
          "2021-10-03",
          "2021-09-26",
          "2021-09-19",
          "2021-09-12",
          "2021-09-05",
          "2021-08-29",
          "2021-08-22",
          "2021-08-15",
          "2021-08-08",
          "2021-08-01",
          "2021-07-25",
          "2021-07-18",
          "2021-07-11",
          "2021-07-04",
          "2021-06-27",
          "2021-06-20",
          "2021-06-13",
          "2021-06-06",
          "2021-05-30",
          "2021-05-23",
          "2021-05-16",
          "2021-05-09",
          "2021-05-02",
          "2021-04-25",
          "2021-04-18",
          "2021-04-11",
          "2021-04-04",
          "2021-03-28",
          "2021-03-21",
          "2021-03-14",
          "2021-03-07",
          "2021-02-28",
          "2021-02-21",
          "2021-02-14",
          "2021-02-07",
          "2021-01-31",
          "2021-01-24",
          "2021-01-17",
          "2021-01-10",
          "2021-01-03",
          "2020-12-27",
          "2020-12-20",
          "2020-12-13",
          "2020-12-06",
          "2020-11-29",
          "2020-11-22",
          "2020-11-15",
          "2020-11-08",
          "2020-11-01",
          "2020-10-25",
          "2020-10-18",
          "2020-10-11",
          "2020-10-04",
          "2020-09-27",
          "2020-09-20",
          "2020-09-13",
          "2020-09-06",
          "2020-08-30",
          "2020-08-23",
          "2020-08-16",
          "2020-08-09",
          "2020-08-02",
          "2020-07-26",
          "2020-07-19",
          "2020-07-12",
          "2020-07-05",
          "2020-06-28",
          "2020-06-21",
          "2020-06-14",
          "2020-06-07",
          "2020-05-31",
          "2020-05-24",
          "2020-05-17",
          "2020-05-10",
          "2020-05-03",
          "2020-04-26",
          "2020-04-19",
          "2020-04-12",
          "2020-04-05",
          "2020-03-29",
          "2020-03-22",
          "2020-03-15",
          "2020-03-08",
          "2020-03-01",
          "2020-02-23",
          "2020-02-16",
          "2020-02-09",
          "2020-02-02",
          "2020-01-26",
          "2020-01-19",
          "2020-01-12",
          "2020-01-05",
          "2019-12-29",
          "2019-12-22",
          "2019-12-15",
          "2019-12-08",
          "2019-12-01",
          "2019-11-24",
          "2019-11-17",
          "2019-11-10",
          "2019-11-03",
          "2019-10-27",
          "2019-10-20",
          "2019-10-13",
          "2019-10-06",
          "2019-09-29",
          "2019-09-22",
          "2019-09-15",
          "2019-09-08",
          "2019-09-01",
          "2019-08-25",
          "2019-08-18",
          "2019-08-11",
          "2019-08-04",
          "2019-07-28",
          "2019-07-21",
          "2019-07-14",
          "2019-07-07",
          "2019-06-30",
          "2019-06-23",
          "2019-06-16",
          "2019-06-09",
          "2019-06-02",
          "2019-05-26",
          "2019-05-19",
          "2019-05-12",
          "2019-05-05",
          "2019-04-28",
          "2019-04-21",
          "2019-04-14",
          "2019-04-07",
          "2019-03-31",
          "2019-03-24",
          "2019-03-17",
          "2019-03-10",
          "2019-03-03",
          "2019-02-24",
          "2019-02-17",
          "2019-02-10",
          "2019-02-03",
          "2019-01-27",
          "2019-01-20",
          "2019-01-13",
          "2019-01-06",
          "2018-12-30",
          "2018-12-23",
          "2018-12-16",
          "2018-12-09",
          "2018-12-02",
          "2018-11-25",
          "2018-11-18",
          "2018-11-11",
          "2018-11-04",
          "2018-10-28",
          "2018-10-21",
          "2018-10-14",
          "2018-10-07",
          "2018-09-30",
          "2018-09-23",
          "2018-09-16",
          "2018-09-09",
          "2018-09-02",
          "2018-08-26",
          "2018-08-19",
          "2018-08-12",
          "2018-08-05",
          "2018-07-29",
          "2018-07-22",
          "2018-07-15",
          "2018-07-08",
          "2018-07-01",
          "2018-06-24",
          "2018-06-17",
          "2018-06-10",
          "2018-06-03",
          "2018-05-27",
          "2018-05-20",
          "2018-05-13",
          "2018-05-06",
          "2018-04-29",
          "2018-04-22",
          "2018-04-15",
          "2018-04-04",
          "2018-04-01",
          "2018-03-25",
          "2018-03-18",
          "2018-03-11",
          "2018-03-04",
          "2018-02-25",
          "2018-02-18",
          "2018-02-11",
          "2018-02-04",
          "2018-01-28",
          "2018-01-21",
          "2018-01-14",
          "2018-01-07",
          "2017-12-31",
          "2017-12-24",
          "2017-12-17",
          "2017-12-10",
          "2017-12-03",
          "2017-11-26",
          "2017-11-19",
          "2017-11-12",
          "2017-11-05",
          "2017-10-29",
          "2017-10-22",
          "2017-10-15",
          "2017-10-08",
          "2017-10-01",
          "2017-09-24",
          "2017-09-17",
          "2017-09-10",
          "2017-09-03",
          "2017-08-27",
          "2017-08-20",
          "2017-08-13",
          "2017-08-06",
          "2017-07-30",
          "2017-07-23",
          "2017-07-16",
          "2017-07-09",
          "2017-07-02",
          "2017-06-25",
          "2017-06-18",
          "2017-06-11",
          "2017-06-04",
          "2017-05-28",
          "2017-05-21",
          "2017-05-14",
          "2017-05-07",
          "2017-04-30",
          "2017-04-23",
          "2017-04-16",
          "2017-04-09",
          "2017-04-02",
          "2017-03-26",
          "2017-03-19",
          "2017-03-12",
          "2017-03-05",
          "2017-02-26",
          "2017-02-19",
          "2017-02-12",
          "2017-02-05",
          "2017-01-29",
          "2017-01-22",
          "2017-01-15",
          "2017-01-08",
          "2017-01-01",
          "2016-12-25",
          "2016-12-18",
          "2016-12-11",
          "2016-12-04",
          "2016-11-27",
          "2016-11-20",
          "2016-11-13",
          "2016-11-06",
          "2016-10-30",
          "2016-10-23",
          "2016-10-16",
          "2016-10-09",
          "2016-10-02",
          "2016-09-25",
          "2016-09-18",
          "2016-09-11",
          "2016-09-04",
          "2016-08-28",
          "2016-08-21",
          "2016-08-14",
          "2016-08-07",
          "2016-07-31",
          "2016-07-24",
          "2016-07-17",
          "2016-07-10",
          "2016-07-03",
          "2016-06-26",
          "2016-06-19",
          "2016-06-12",
          "2016-06-05",
          "2016-05-29",
          "2016-05-22",
          "2016-05-15",
          "2016-05-08",
          "2016-05-01",
          "2016-04-24",
          "2016-04-17",
          "2016-04-10",
          "2016-04-03",
          "2016-03-27",
          "2016-03-20",
          "2016-03-13",
          "2016-03-06",
          "2016-02-28",
          "2016-02-21",
          "2016-02-14",
          "2016-02-07",
          "2016-01-31",
          "2016-01-24",
          "2016-01-17",
          "2016-01-10",
          "2016-01-03",
          "2015-12-27",
          "2015-12-20",
          "2015-12-13",
          "2015-12-06",
          "2015-11-29",
          "2015-11-22",
          "2015-11-15",
          "2015-11-08",
          "2015-11-01",
          "2015-10-25",
          "2015-10-18",
          "2015-10-11",
          "2015-10-04",
          "2015-09-27",
          "2015-09-20",
          "2015-09-13",
          "2015-09-06",
          "2015-08-30",
          "2015-08-23",
          "2015-08-16",
          "2015-08-09",
          "2015-08-02",
          "2015-07-26",
          "2015-07-19",
          "2015-07-12",
          "2015-07-05",
          "2015-06-28",
          "2015-06-21",
          "2015-06-14",
          "2015-06-07",
          "2015-05-31",
          "2015-05-24",
          "2015-05-17",
          "2015-05-10",
          "2015-05-03",
          "2015-04-26",
          "2015-04-19",
          "2015-04-12",
          "2015-04-05",
          "2015-03-29",
          "2015-03-22",
          "2015-03-15",
          "2015-03-08",
          "2015-03-01",
          "2015-02-22",
          "2015-02-15",
          "2015-02-08",
          "2015-02-01",
          "2015-01-25",
          "2015-01-18",
          "2015-01-11",
          "2015-01-04",
          "2014-12-28",
          "2014-12-21",
          "2014-12-14",
          "2014-12-07",
          "2014-11-30",
          "2014-11-23",
          "2014-11-16",
          "2014-11-09",
          "2014-11-02",
          "2014-10-26",
          "2014-10-19",
          "2014-10-12",
          "2014-10-05",
          "2014-09-28",
          "2014-09-21",
          "2014-09-14",
          "2014-09-07",
          "2014-08-31",
          "2014-08-24",
          "2014-08-17",
          "2014-08-10",
          "2014-08-03",
          "2014-07-27",
          "2014-07-20",
          "2014-07-13",
          "2014-07-06",
          "2014-06-29",
          "2014-06-22",
          "2014-06-15",
          "2014-06-08",
          "2014-06-01",
          "2014-05-25",
          "2014-05-18",
          "2014-05-11",
          "2014-05-04",
          "2014-04-27",
          "2014-04-20",
          "2014-04-13",
          "2014-04-06",
          "2014-03-30",
          "2014-03-23",
          "2014-03-16",
          "2014-03-09",
          "2014-03-02",
          "2014-02-23",
          "2014-02-16",
          "2014-02-09",
          "2014-02-02",
          "2014-01-26",
          "2014-01-19",
          "2014-01-12",
          "2014-01-05",
          "2013-12-29",
          "2013-12-22",
          "2013-12-15",
          "2013-12-08",
          "2013-12-01",
          "2013-11-24",
          "2013-11-17",
          "2013-11-10",
          "2013-11-03",
          "2013-10-27",
          "2013-10-20",
          "2013-10-13",
          "2013-10-06",
          "2013-09-29",
          "2013-09-22",
          "2013-09-15",
          "2013-09-08",
          "2013-09-01",
          "2013-08-25",
          "2013-08-18",
          "2013-08-11",
          "2013-08-04",
          "2013-07-28",
          "2013-07-21",
          "2013-07-14",
          "2013-07-07",
          "2013-06-30",
          "2013-06-23",
          "2013-06-16",
          "2013-06-09",
          "2013-06-02",
          "2013-05-26",
          "2013-05-19",
          "2013-05-12",
          "2013-05-05",
          "2013-04-28",
          "2013-04-21",
          "2013-04-14",
          "2013-04-07",
          "2013-03-31",
          "2013-03-24",
          "2013-03-17",
          "2013-03-10",
          "2013-03-03",
          "2013-02-24",
          "2013-02-17",
          "2013-02-10",
          "2013-02-03",
          "2013-01-27",
          "2013-01-20",
          "2013-01-13",
          "2013-01-06",
          "2012-12-30"
         ],
         "xaxis": "x",
         "y": [
          1.1164205,
          0.9747541,
          1.0970955,
          1.1884019,
          0.90317285,
          0.8779278,
          0.9413518,
          0.9323748,
          0.88467294,
          0.90163076,
          0.7286756,
          0.7404699,
          0.7536159,
          0.71752924,
          0.78490585,
          0.94786525,
          0.9825403,
          0.8225542,
          0.7969502,
          0.8367768,
          0.984702,
          1.0845113,
          1.2037061,
          0.9858297,
          0.97217566,
          1.219475,
          1.062302,
          1.3891081,
          1.4324789,
          1.4390835,
          1.6312155,
          1.855006,
          1.1679335,
          0.9639394,
          1.6603742,
          1.45847,
          1.3896697,
          1.1932918,
          1.251553,
          1.6408935,
          1.4212197,
          1.1260351,
          1.295677,
          1.008763,
          0.67219293,
          0.6508022,
          0.8993642,
          1.2024918,
          0.9341007,
          1.1069666,
          1.4796615,
          1.2197336,
          0.9797707,
          0.8824809,
          0.9861838,
          1.2145498,
          1.0030174,
          0.87790096,
          0.8375247,
          0.8065719,
          0.6826298,
          0.8781845,
          0.9190404,
          1.1765893,
          0.79695076,
          0.81655735,
          0.9283197,
          0.8186896,
          0.46959227,
          0.66627395,
          0.794098,
          0.8842123,
          0.9567877,
          1.4691758,
          1.757393,
          1.5684257,
          1.1878948,
          1.1435883,
          1.4169692,
          1.1480515,
          1.6721373,
          1.5969439,
          1.9214933,
          1.388137,
          1.661781,
          1.6082743,
          1.5122932,
          1.5822237,
          1.096521,
          1.4949968,
          1.2812386,
          1.8385291,
          0.26018125,
          0.2819798,
          0.33063152,
          0.78335875,
          1.2794458,
          2.2873557,
          3.0027425,
          0.90934765,
          1.3038611,
          0.7936939,
          0.5681974,
          1.0315534,
          0.4325298,
          1.3809872,
          0.51144993,
          0.63491184,
          0.8731973,
          1.4652597,
          1.6578727,
          0.86657786,
          0.7901066,
          0.73578286,
          0.33940154,
          0.795925,
          0.80038005,
          0.8821488,
          0.92528254,
          0.5845961,
          0.85383934,
          0.75353163,
          0.8674451,
          1.1932276,
          1.3817354,
          1.0673186,
          0.69004977,
          0.7716922,
          0.7267016,
          1.1444672,
          1.5004116,
          1.3697846,
          1.3681009,
          1.4679116,
          1.3791147,
          1.1637332,
          1.3837423,
          0.7998647,
          0.7671869,
          1.1358768,
          2.6887038,
          1.760824,
          2.124373,
          1.9501619,
          0.9456403,
          0.54572505,
          0.60397434,
          0.67175233,
          0.9415151,
          0.5311236,
          1.3187479,
          1.9177762,
          0.8873264,
          0.71236336,
          1.6232476,
          0.8394138,
          0.9690034,
          0.9346066,
          1.320691,
          1.220835,
          1.0343461,
          0.97506976,
          0.8161915,
          0.8687058,
          0.91737705,
          0.6710463,
          0.5911912,
          0.97570413,
          1.4306784,
          1.1291801,
          0.7469474,
          0.87266535,
          1.5682182,
          1.1724541,
          0.78033316,
          0.90554357,
          0.49849036,
          0.46569625,
          1.0274545,
          1.077048,
          1.0608177,
          0.9018267,
          0.59614766,
          0.85560936,
          0.6131387,
          0.6658582,
          0.8908148,
          1.1001238,
          0.7266441,
          0.9475439,
          1.0188797,
          0.6499069,
          0.79933214,
          0.942946,
          1.5248086,
          1.7373068,
          1.1815703,
          0.68957037,
          0.9401882,
          1.2326777,
          0.8485817,
          1.3076928,
          0.90434545,
          1.0654521,
          1.1605219,
          0.63766843,
          0.8408911,
          0.8378258,
          0.79087025,
          0.90389055,
          1.3840891,
          1.2021996,
          0.83493936,
          0.63029844,
          0.5593474,
          0.66428286,
          0.8552957,
          0.73419493,
          0.6972966,
          0.51209897,
          0.55291766,
          0.5573581,
          0.80014104,
          0.6389492,
          0.5523727,
          0.61651665,
          0.66221946,
          0.7512186,
          0.92408437,
          1.0053942,
          1.286042,
          1.2623037,
          1.2096795,
          1.2364792,
          1.449038,
          1.776165,
          1.8218565,
          2.1904345,
          1.9803067,
          1.4861884,
          0.8810437,
          1.1360477,
          1.0401666,
          0.88469976,
          0.8207927,
          1.1037812,
          1.1812009,
          1.238895,
          1.309704,
          1.086385,
          0.95825493,
          1.3042083,
          1.8631202,
          1.5133904,
          0.94745743,
          1.010851,
          1.048126,
          1.0475255,
          1.2696756,
          1.4008282,
          0.8374001,
          1.0851566,
          0.7411463,
          1.1007463,
          0.8545687,
          0.7184385,
          0.8061102,
          0.6766382,
          0.69769275,
          0.9816213,
          0.6385806,
          0.7077093,
          0.80665976,
          0.8130077,
          1.2037319,
          1.038269,
          0.82466424,
          0.9496572,
          0.80504745,
          0.67757994,
          0.6720837,
          1.0883349,
          1.1991035,
          1.1806662,
          0.9780343,
          0.9460238,
          1.1698437,
          1.3938227,
          1.2564555,
          1.1437267,
          1.1889876,
          1.637573,
          1.5280752,
          1.4817208,
          0.81623083,
          0.7024989,
          0.95223445,
          0.85700226,
          1.2276493,
          1.3369311,
          2.0594568,
          0.86239326,
          0.79535747,
          1.0563638,
          1.50659,
          1.1283374,
          0.94107985,
          1.1467513,
          1.1439759,
          0.6771365,
          0.9383749,
          1.1638176,
          1.1860199,
          1.3329707,
          0.94868016,
          1.5926236,
          1.121764,
          1.0257037,
          1.0697501,
          1.1905813,
          0.8155714,
          0.6791629,
          1.1106404,
          1.0101411,
          1.2896798,
          0.9358477,
          0.85317916,
          0.6370862,
          0.67963344,
          0.6260508,
          1.5024719,
          0.99248236,
          0.44267556,
          0.59327084,
          0.96775556,
          1.043899,
          0.8539737,
          0.73621243,
          0.7478083,
          0.94475096,
          0.8614923,
          0.96755993,
          1.1825366,
          0.8843467,
          0.67164356,
          0.5046279,
          0.9112278,
          0.9516709,
          1.0230643,
          1.3126299,
          1.0414134,
          1.0745976,
          1.243988,
          2.0102282,
          1.116418,
          0.85450035,
          1.2350675,
          1.6673126,
          1.7459958,
          1.411167,
          1.2618896,
          0.71680164,
          1.2303993,
          1.7068048,
          1.0429937,
          0.78501403,
          0.6610653,
          0.8865631,
          0.8400555,
          0.7198013,
          0.8317465,
          0.6997363,
          0.7004624,
          0.7485267,
          0.62095135,
          0.717399,
          0.66156155,
          0.77499455,
          0.81626177,
          0.65779114,
          0.57569623,
          0.5865298,
          0.7608444,
          0.5863581,
          0.41530907,
          0.62232745,
          0.6107115,
          0.5562549,
          0.8290365,
          0.806617,
          1.0765663,
          1.4160323,
          1.9678502,
          1.450963,
          1.3444966,
          1.4273704,
          1.3170689,
          1.3210137,
          1.6593621,
          1.3427005,
          0.9976791,
          1.0008001,
          1.0889733,
          1.3709645,
          1.6245233,
          0.5689672,
          0.82475966,
          1.4261699,
          1.7106476,
          1.5886909,
          1.2163284,
          1.3400723,
          1.3778864,
          1.3551967,
          1.0054561,
          0.90862423,
          0.90225637,
          1.1271495,
          0.9995632,
          0.82649666,
          0.63769764,
          0.69358534,
          0.7253758,
          0.55475056,
          0.59605885,
          1.6375388,
          0.8148925,
          0.7247981,
          0.76165843,
          0.5867067,
          0.5756578,
          0.48968065,
          0.92394024,
          0.92618364,
          0.72294396,
          0.6784926,
          0.7946319,
          1.164995,
          1.342891,
          1.3408679,
          1.4379389,
          1.5312883,
          1.8663713,
          2.066732,
          1.5231158,
          1.5255809,
          1.9253795,
          1.9355465,
          1.7062036,
          1.6752869,
          1.3732257,
          0.9800946,
          1.3660953,
          0.960219,
          1.2209171,
          1.5911717,
          2.0350235,
          0.33959693,
          0.63792425,
          0.77765745,
          0.8595342,
          1.0053201,
          0.93678296,
          0.8618884,
          1.0386878,
          0.85113245,
          0.73891914,
          0.85845226,
          0.8116666,
          0.87124896,
          1.2943598,
          1.1340657,
          1.0033456,
          0.93711674,
          1.2659072,
          1.1378425,
          1.1066053,
          0.99966455,
          1.1594146,
          1.2714456,
          0.94440824,
          0.8628581,
          0.8508274,
          1.125908,
          0.85774714,
          1.005006,
          0.7717046,
          0.7989906,
          0.64692557,
          0.95220953,
          1.0872909,
          1.0986131,
          1.1648288,
          0.8519147,
          0.81003785,
          0.8883371,
          0.86405087,
          1.0199699,
          1.4384911,
          1.0743436,
          0.71036154,
          0.57016486,
          0.97554535,
          0.9136612,
          0.88809794,
          0.8334713,
          1.2028946,
          1.362265,
          1.7361457,
          0.9755433,
          0.7349687,
          0.6287978,
          0.99406916,
          1.4611832,
          1.4314401,
          1.6645387,
          1.1123725,
          0.6958894,
          1.0999337,
          1.1387899,
          0.85665226,
          0.82977265,
          0.82371426,
          1.3012102,
          0.51603377,
          0.5900821,
          0.434524,
          1.7152306,
          0.6125446,
          1.5829393,
          0.72504103,
          0.81312793,
          0.41949344,
          0.76389366,
          0.6620145,
          0.54028606,
          0.53617203,
          0.63933575,
          0.57466584,
          0.48363653,
          0.46904242,
          0.53874934,
          0.54500026,
          0.560243,
          0.5461499,
          0.6496366,
          0.89303595,
          1.1371645,
          1.2402959,
          1.0814562,
          1.2566196,
          1.4645485,
          1.3658721,
          1.8461531,
          2.1341915,
          1.3644253,
          1.1736528,
          1.4076433,
          1.4594312,
          1.5052694,
          1.7870901,
          1.3021611
         ],
         "yaxis": "y"
        },
        {
         "line": {
          "color": "red",
          "dash": "dash"
         },
         "mode": "lines",
         "name": "Rt = 1",
         "type": "scatter",
         "x": [
          "2023-10-01",
          "2023-09-24",
          "2023-09-17",
          "2023-09-10",
          "2023-09-03",
          "2023-08-27",
          "2023-08-20",
          "2023-08-13",
          "2023-08-06",
          "2023-07-30",
          "2023-07-23",
          "2023-07-16",
          "2023-07-09",
          "2023-07-02",
          "2023-06-25",
          "2023-06-18",
          "2023-06-11",
          "2023-06-04",
          "2023-05-28",
          "2023-05-21",
          "2023-05-14",
          "2023-05-07",
          "2023-04-30",
          "2023-04-23",
          "2023-04-16",
          "2023-04-09",
          "2023-04-02",
          "2023-03-26",
          "2023-03-19",
          "2023-03-12",
          "2023-03-05",
          "2023-02-26",
          "2023-02-19",
          "2023-02-12",
          "2023-02-05",
          "2023-01-29",
          "2023-01-22",
          "2023-01-15",
          "2023-01-08",
          "2023-01-01",
          "2022-12-25",
          "2022-12-18",
          "2022-12-11",
          "2022-12-04",
          "2022-11-27",
          "2022-11-20",
          "2022-11-13",
          "2022-11-06",
          "2022-10-30",
          "2022-10-23",
          "2022-10-16",
          "2022-10-09",
          "2022-10-02",
          "2022-09-25",
          "2022-09-18",
          "2022-09-11",
          "2022-09-04",
          "2022-08-28",
          "2022-08-21",
          "2022-08-14",
          "2022-08-07",
          "2022-07-31",
          "2022-07-24",
          "2022-07-17",
          "2022-07-10",
          "2022-07-03",
          "2022-06-26",
          "2022-06-19",
          "2022-06-12",
          "2022-06-05",
          "2022-05-29",
          "2022-05-22",
          "2022-05-15",
          "2022-05-08",
          "2022-05-01",
          "2022-04-24",
          "2022-04-17",
          "2022-04-10",
          "2022-04-03",
          "2022-03-27",
          "2022-03-20",
          "2022-03-13",
          "2022-03-06",
          "2022-02-27",
          "2022-02-20",
          "2022-02-13",
          "2022-02-06",
          "2022-01-30",
          "2022-01-23",
          "2022-01-16",
          "2022-01-09",
          "2022-01-02",
          "2021-12-26",
          "2021-12-19",
          "2021-12-12",
          "2021-12-05",
          "2021-11-28",
          "2021-11-21",
          "2021-11-14",
          "2021-11-07",
          "2021-10-31",
          "2021-10-24",
          "2021-10-17",
          "2021-10-10",
          "2021-10-03",
          "2021-09-26",
          "2021-09-19",
          "2021-09-12",
          "2021-09-05",
          "2021-08-29",
          "2021-08-22",
          "2021-08-15",
          "2021-08-08",
          "2021-08-01",
          "2021-07-25",
          "2021-07-18",
          "2021-07-11",
          "2021-07-04",
          "2021-06-27",
          "2021-06-20",
          "2021-06-13",
          "2021-06-06",
          "2021-05-30",
          "2021-05-23",
          "2021-05-16",
          "2021-05-09",
          "2021-05-02",
          "2021-04-25",
          "2021-04-18",
          "2021-04-11",
          "2021-04-04",
          "2021-03-28",
          "2021-03-21",
          "2021-03-14",
          "2021-03-07",
          "2021-02-28",
          "2021-02-21",
          "2021-02-14",
          "2021-02-07",
          "2021-01-31",
          "2021-01-24",
          "2021-01-17",
          "2021-01-10",
          "2021-01-03",
          "2020-12-27",
          "2020-12-20",
          "2020-12-13",
          "2020-12-06",
          "2020-11-29",
          "2020-11-22",
          "2020-11-15",
          "2020-11-08",
          "2020-11-01",
          "2020-10-25",
          "2020-10-18",
          "2020-10-11",
          "2020-10-04",
          "2020-09-27",
          "2020-09-20",
          "2020-09-13",
          "2020-09-06",
          "2020-08-30",
          "2020-08-23",
          "2020-08-16",
          "2020-08-09",
          "2020-08-02",
          "2020-07-26",
          "2020-07-19",
          "2020-07-12",
          "2020-07-05",
          "2020-06-28",
          "2020-06-21",
          "2020-06-14",
          "2020-06-07",
          "2020-05-31",
          "2020-05-24",
          "2020-05-17",
          "2020-05-10",
          "2020-05-03",
          "2020-04-26",
          "2020-04-19",
          "2020-04-12",
          "2020-04-05",
          "2020-03-29",
          "2020-03-22",
          "2020-03-15",
          "2020-03-08",
          "2020-03-01",
          "2020-02-23",
          "2020-02-16",
          "2020-02-09",
          "2020-02-02",
          "2020-01-26",
          "2020-01-19",
          "2020-01-12",
          "2020-01-05",
          "2019-12-29",
          "2019-12-22",
          "2019-12-15",
          "2019-12-08",
          "2019-12-01",
          "2019-11-24",
          "2019-11-17",
          "2019-11-10",
          "2019-11-03",
          "2019-10-27",
          "2019-10-20",
          "2019-10-13",
          "2019-10-06",
          "2019-09-29",
          "2019-09-22",
          "2019-09-15",
          "2019-09-08",
          "2019-09-01",
          "2019-08-25",
          "2019-08-18",
          "2019-08-11",
          "2019-08-04",
          "2019-07-28",
          "2019-07-21",
          "2019-07-14",
          "2019-07-07",
          "2019-06-30",
          "2019-06-23",
          "2019-06-16",
          "2019-06-09",
          "2019-06-02",
          "2019-05-26",
          "2019-05-19",
          "2019-05-12",
          "2019-05-05",
          "2019-04-28",
          "2019-04-21",
          "2019-04-14",
          "2019-04-07",
          "2019-03-31",
          "2019-03-24",
          "2019-03-17",
          "2019-03-10",
          "2019-03-03",
          "2019-02-24",
          "2019-02-17",
          "2019-02-10",
          "2019-02-03",
          "2019-01-27",
          "2019-01-20",
          "2019-01-13",
          "2019-01-06",
          "2018-12-30",
          "2018-12-23",
          "2018-12-16",
          "2018-12-09",
          "2018-12-02",
          "2018-11-25",
          "2018-11-18",
          "2018-11-11",
          "2018-11-04",
          "2018-10-28",
          "2018-10-21",
          "2018-10-14",
          "2018-10-07",
          "2018-09-30",
          "2018-09-23",
          "2018-09-16",
          "2018-09-09",
          "2018-09-02",
          "2018-08-26",
          "2018-08-19",
          "2018-08-12",
          "2018-08-05",
          "2018-07-29",
          "2018-07-22",
          "2018-07-15",
          "2018-07-08",
          "2018-07-01",
          "2018-06-24",
          "2018-06-17",
          "2018-06-10",
          "2018-06-03",
          "2018-05-27",
          "2018-05-20",
          "2018-05-13",
          "2018-05-06",
          "2018-04-29",
          "2018-04-22",
          "2018-04-15",
          "2018-04-04",
          "2018-04-01",
          "2018-03-25",
          "2018-03-18",
          "2018-03-11",
          "2018-03-04",
          "2018-02-25",
          "2018-02-18",
          "2018-02-11",
          "2018-02-04",
          "2018-01-28",
          "2018-01-21",
          "2018-01-14",
          "2018-01-07",
          "2017-12-31",
          "2017-12-24",
          "2017-12-17",
          "2017-12-10",
          "2017-12-03",
          "2017-11-26",
          "2017-11-19",
          "2017-11-12",
          "2017-11-05",
          "2017-10-29",
          "2017-10-22",
          "2017-10-15",
          "2017-10-08",
          "2017-10-01",
          "2017-09-24",
          "2017-09-17",
          "2017-09-10",
          "2017-09-03",
          "2017-08-27",
          "2017-08-20",
          "2017-08-13",
          "2017-08-06",
          "2017-07-30",
          "2017-07-23",
          "2017-07-16",
          "2017-07-09",
          "2017-07-02",
          "2017-06-25",
          "2017-06-18",
          "2017-06-11",
          "2017-06-04",
          "2017-05-28",
          "2017-05-21",
          "2017-05-14",
          "2017-05-07",
          "2017-04-30",
          "2017-04-23",
          "2017-04-16",
          "2017-04-09",
          "2017-04-02",
          "2017-03-26",
          "2017-03-19",
          "2017-03-12",
          "2017-03-05",
          "2017-02-26",
          "2017-02-19",
          "2017-02-12",
          "2017-02-05",
          "2017-01-29",
          "2017-01-22",
          "2017-01-15",
          "2017-01-08",
          "2017-01-01",
          "2016-12-25",
          "2016-12-18",
          "2016-12-11",
          "2016-12-04",
          "2016-11-27",
          "2016-11-20",
          "2016-11-13",
          "2016-11-06",
          "2016-10-30",
          "2016-10-23",
          "2016-10-16",
          "2016-10-09",
          "2016-10-02",
          "2016-09-25",
          "2016-09-18",
          "2016-09-11",
          "2016-09-04",
          "2016-08-28",
          "2016-08-21",
          "2016-08-14",
          "2016-08-07",
          "2016-07-31",
          "2016-07-24",
          "2016-07-17",
          "2016-07-10",
          "2016-07-03",
          "2016-06-26",
          "2016-06-19",
          "2016-06-12",
          "2016-06-05",
          "2016-05-29",
          "2016-05-22",
          "2016-05-15",
          "2016-05-08",
          "2016-05-01",
          "2016-04-24",
          "2016-04-17",
          "2016-04-10",
          "2016-04-03",
          "2016-03-27",
          "2016-03-20",
          "2016-03-13",
          "2016-03-06",
          "2016-02-28",
          "2016-02-21",
          "2016-02-14",
          "2016-02-07",
          "2016-01-31",
          "2016-01-24",
          "2016-01-17",
          "2016-01-10",
          "2016-01-03",
          "2015-12-27",
          "2015-12-20",
          "2015-12-13",
          "2015-12-06",
          "2015-11-29",
          "2015-11-22",
          "2015-11-15",
          "2015-11-08",
          "2015-11-01",
          "2015-10-25",
          "2015-10-18",
          "2015-10-11",
          "2015-10-04",
          "2015-09-27",
          "2015-09-20",
          "2015-09-13",
          "2015-09-06",
          "2015-08-30",
          "2015-08-23",
          "2015-08-16",
          "2015-08-09",
          "2015-08-02",
          "2015-07-26",
          "2015-07-19",
          "2015-07-12",
          "2015-07-05",
          "2015-06-28",
          "2015-06-21",
          "2015-06-14",
          "2015-06-07",
          "2015-05-31",
          "2015-05-24",
          "2015-05-17",
          "2015-05-10",
          "2015-05-03",
          "2015-04-26",
          "2015-04-19",
          "2015-04-12",
          "2015-04-05",
          "2015-03-29",
          "2015-03-22",
          "2015-03-15",
          "2015-03-08",
          "2015-03-01",
          "2015-02-22",
          "2015-02-15",
          "2015-02-08",
          "2015-02-01",
          "2015-01-25",
          "2015-01-18",
          "2015-01-11",
          "2015-01-04",
          "2014-12-28",
          "2014-12-21",
          "2014-12-14",
          "2014-12-07",
          "2014-11-30",
          "2014-11-23",
          "2014-11-16",
          "2014-11-09",
          "2014-11-02",
          "2014-10-26",
          "2014-10-19",
          "2014-10-12",
          "2014-10-05",
          "2014-09-28",
          "2014-09-21",
          "2014-09-14",
          "2014-09-07",
          "2014-08-31",
          "2014-08-24",
          "2014-08-17",
          "2014-08-10",
          "2014-08-03",
          "2014-07-27",
          "2014-07-20",
          "2014-07-13",
          "2014-07-06",
          "2014-06-29",
          "2014-06-22",
          "2014-06-15",
          "2014-06-08",
          "2014-06-01",
          "2014-05-25",
          "2014-05-18",
          "2014-05-11",
          "2014-05-04",
          "2014-04-27",
          "2014-04-20",
          "2014-04-13",
          "2014-04-06",
          "2014-03-30",
          "2014-03-23",
          "2014-03-16",
          "2014-03-09",
          "2014-03-02",
          "2014-02-23",
          "2014-02-16",
          "2014-02-09",
          "2014-02-02",
          "2014-01-26",
          "2014-01-19",
          "2014-01-12",
          "2014-01-05",
          "2013-12-29",
          "2013-12-22",
          "2013-12-15",
          "2013-12-08",
          "2013-12-01",
          "2013-11-24",
          "2013-11-17",
          "2013-11-10",
          "2013-11-03",
          "2013-10-27",
          "2013-10-20",
          "2013-10-13",
          "2013-10-06",
          "2013-09-29",
          "2013-09-22",
          "2013-09-15",
          "2013-09-08",
          "2013-09-01",
          "2013-08-25",
          "2013-08-18",
          "2013-08-11",
          "2013-08-04",
          "2013-07-28",
          "2013-07-21",
          "2013-07-14",
          "2013-07-07",
          "2013-06-30",
          "2013-06-23",
          "2013-06-16",
          "2013-06-09",
          "2013-06-02",
          "2013-05-26",
          "2013-05-19",
          "2013-05-12",
          "2013-05-05",
          "2013-04-28",
          "2013-04-21",
          "2013-04-14",
          "2013-04-07",
          "2013-03-31",
          "2013-03-24",
          "2013-03-17",
          "2013-03-10",
          "2013-03-03",
          "2013-02-24",
          "2013-02-17",
          "2013-02-10",
          "2013-02-03",
          "2013-01-27",
          "2013-01-20",
          "2013-01-13",
          "2013-01-06",
          "2012-12-30"
         ],
         "y": [
          1,
          1,
          1,
          1,
          1,
          1,
          1,
          1,
          1,
          1,
          1,
          1,
          1,
          1,
          1,
          1,
          1,
          1,
          1,
          1,
          1,
          1,
          1,
          1,
          1,
          1,
          1,
          1,
          1,
          1,
          1,
          1,
          1,
          1,
          1,
          1,
          1,
          1,
          1,
          1,
          1,
          1,
          1,
          1,
          1,
          1,
          1,
          1,
          1,
          1,
          1,
          1,
          1,
          1,
          1,
          1,
          1,
          1,
          1,
          1,
          1,
          1,
          1,
          1,
          1,
          1,
          1,
          1,
          1,
          1,
          1,
          1,
          1,
          1,
          1,
          1,
          1,
          1,
          1,
          1,
          1,
          1,
          1,
          1,
          1,
          1,
          1,
          1,
          1,
          1,
          1,
          1,
          1,
          1,
          1,
          1,
          1,
          1,
          1,
          1,
          1,
          1,
          1,
          1,
          1,
          1,
          1,
          1,
          1,
          1,
          1,
          1,
          1,
          1,
          1,
          1,
          1,
          1,
          1,
          1,
          1,
          1,
          1,
          1,
          1,
          1,
          1,
          1,
          1,
          1,
          1,
          1,
          1,
          1,
          1,
          1,
          1,
          1,
          1,
          1,
          1,
          1,
          1,
          1,
          1,
          1,
          1,
          1,
          1,
          1,
          1,
          1,
          1,
          1,
          1,
          1,
          1,
          1,
          1,
          1,
          1,
          1,
          1,
          1,
          1,
          1,
          1,
          1,
          1,
          1,
          1,
          1,
          1,
          1,
          1,
          1,
          1,
          1,
          1,
          1,
          1,
          1,
          1,
          1,
          1,
          1,
          1,
          1,
          1,
          1,
          1,
          1,
          1,
          1,
          1,
          1,
          1,
          1,
          1,
          1,
          1,
          1,
          1,
          1,
          1,
          1,
          1,
          1,
          1,
          1,
          1,
          1,
          1,
          1,
          1,
          1,
          1,
          1,
          1,
          1,
          1,
          1,
          1,
          1,
          1,
          1,
          1,
          1,
          1,
          1,
          1,
          1,
          1,
          1,
          1,
          1,
          1,
          1,
          1,
          1,
          1,
          1,
          1,
          1,
          1,
          1,
          1,
          1,
          1,
          1,
          1,
          1,
          1,
          1,
          1,
          1,
          1,
          1,
          1,
          1,
          1,
          1,
          1,
          1,
          1,
          1,
          1,
          1,
          1,
          1,
          1,
          1,
          1,
          1,
          1,
          1,
          1,
          1,
          1,
          1,
          1,
          1,
          1,
          1,
          1,
          1,
          1,
          1,
          1,
          1,
          1,
          1,
          1,
          1,
          1,
          1,
          1,
          1,
          1,
          1,
          1,
          1,
          1,
          1,
          1,
          1,
          1,
          1,
          1,
          1,
          1,
          1,
          1,
          1,
          1,
          1,
          1,
          1,
          1,
          1,
          1,
          1,
          1,
          1,
          1,
          1,
          1,
          1,
          1,
          1,
          1,
          1,
          1,
          1,
          1,
          1,
          1,
          1,
          1,
          1,
          1,
          1,
          1,
          1,
          1,
          1,
          1,
          1,
          1,
          1,
          1,
          1,
          1,
          1,
          1,
          1,
          1,
          1,
          1,
          1,
          1,
          1,
          1,
          1,
          1,
          1,
          1,
          1,
          1,
          1,
          1,
          1,
          1,
          1,
          1,
          1,
          1,
          1,
          1,
          1,
          1,
          1,
          1,
          1,
          1,
          1,
          1,
          1,
          1,
          1,
          1,
          1,
          1,
          1,
          1,
          1,
          1,
          1,
          1,
          1,
          1,
          1,
          1,
          1,
          1,
          1,
          1,
          1,
          1,
          1,
          1,
          1,
          1,
          1,
          1,
          1,
          1,
          1,
          1,
          1,
          1,
          1,
          1,
          1,
          1,
          1,
          1,
          1,
          1,
          1,
          1,
          1,
          1,
          1,
          1,
          1,
          1,
          1,
          1,
          1,
          1,
          1,
          1,
          1,
          1,
          1,
          1,
          1,
          1,
          1,
          1,
          1,
          1,
          1,
          1,
          1,
          1,
          1,
          1,
          1,
          1,
          1,
          1,
          1,
          1,
          1,
          1,
          1,
          1,
          1,
          1,
          1,
          1,
          1,
          1,
          1,
          1,
          1,
          1,
          1,
          1,
          1,
          1,
          1,
          1,
          1,
          1,
          1,
          1,
          1,
          1,
          1,
          1,
          1,
          1,
          1,
          1,
          1,
          1,
          1,
          1,
          1,
          1,
          1,
          1,
          1,
          1,
          1,
          1,
          1,
          1,
          1,
          1,
          1,
          1,
          1,
          1,
          1,
          1,
          1,
          1,
          1,
          1,
          1,
          1,
          1,
          1,
          1,
          1,
          1,
          1,
          1,
          1,
          1,
          1,
          1,
          1,
          1,
          1,
          1,
          1,
          1,
          1,
          1,
          1,
          1,
          1,
          1,
          1,
          1,
          1,
          1,
          1,
          1,
          1,
          1,
          1,
          1,
          1,
          1,
          1,
          1
         ]
        }
       ],
       "layout": {
        "annotations": [
         {
          "font": {
           "color": "red"
          },
          "showarrow": false,
          "text": "Rt=1",
          "x": 0.05,
          "xref": "paper",
          "y": 1.02,
          "yref": "y"
         }
        ],
        "legend": {
         "tracegroupgap": 0
        },
        "template": {
         "data": {
          "bar": [
           {
            "error_x": {
             "color": "#2a3f5f"
            },
            "error_y": {
             "color": "#2a3f5f"
            },
            "marker": {
             "line": {
              "color": "#E5ECF6",
              "width": 0.5
             },
             "pattern": {
              "fillmode": "overlay",
              "size": 10,
              "solidity": 0.2
             }
            },
            "type": "bar"
           }
          ],
          "barpolar": [
           {
            "marker": {
             "line": {
              "color": "#E5ECF6",
              "width": 0.5
             },
             "pattern": {
              "fillmode": "overlay",
              "size": 10,
              "solidity": 0.2
             }
            },
            "type": "barpolar"
           }
          ],
          "carpet": [
           {
            "aaxis": {
             "endlinecolor": "#2a3f5f",
             "gridcolor": "white",
             "linecolor": "white",
             "minorgridcolor": "white",
             "startlinecolor": "#2a3f5f"
            },
            "baxis": {
             "endlinecolor": "#2a3f5f",
             "gridcolor": "white",
             "linecolor": "white",
             "minorgridcolor": "white",
             "startlinecolor": "#2a3f5f"
            },
            "type": "carpet"
           }
          ],
          "choropleth": [
           {
            "colorbar": {
             "outlinewidth": 0,
             "ticks": ""
            },
            "type": "choropleth"
           }
          ],
          "contour": [
           {
            "colorbar": {
             "outlinewidth": 0,
             "ticks": ""
            },
            "colorscale": [
             [
              0,
              "#0d0887"
             ],
             [
              0.1111111111111111,
              "#46039f"
             ],
             [
              0.2222222222222222,
              "#7201a8"
             ],
             [
              0.3333333333333333,
              "#9c179e"
             ],
             [
              0.4444444444444444,
              "#bd3786"
             ],
             [
              0.5555555555555556,
              "#d8576b"
             ],
             [
              0.6666666666666666,
              "#ed7953"
             ],
             [
              0.7777777777777778,
              "#fb9f3a"
             ],
             [
              0.8888888888888888,
              "#fdca26"
             ],
             [
              1,
              "#f0f921"
             ]
            ],
            "type": "contour"
           }
          ],
          "contourcarpet": [
           {
            "colorbar": {
             "outlinewidth": 0,
             "ticks": ""
            },
            "type": "contourcarpet"
           }
          ],
          "heatmap": [
           {
            "colorbar": {
             "outlinewidth": 0,
             "ticks": ""
            },
            "colorscale": [
             [
              0,
              "#0d0887"
             ],
             [
              0.1111111111111111,
              "#46039f"
             ],
             [
              0.2222222222222222,
              "#7201a8"
             ],
             [
              0.3333333333333333,
              "#9c179e"
             ],
             [
              0.4444444444444444,
              "#bd3786"
             ],
             [
              0.5555555555555556,
              "#d8576b"
             ],
             [
              0.6666666666666666,
              "#ed7953"
             ],
             [
              0.7777777777777778,
              "#fb9f3a"
             ],
             [
              0.8888888888888888,
              "#fdca26"
             ],
             [
              1,
              "#f0f921"
             ]
            ],
            "type": "heatmap"
           }
          ],
          "heatmapgl": [
           {
            "colorbar": {
             "outlinewidth": 0,
             "ticks": ""
            },
            "colorscale": [
             [
              0,
              "#0d0887"
             ],
             [
              0.1111111111111111,
              "#46039f"
             ],
             [
              0.2222222222222222,
              "#7201a8"
             ],
             [
              0.3333333333333333,
              "#9c179e"
             ],
             [
              0.4444444444444444,
              "#bd3786"
             ],
             [
              0.5555555555555556,
              "#d8576b"
             ],
             [
              0.6666666666666666,
              "#ed7953"
             ],
             [
              0.7777777777777778,
              "#fb9f3a"
             ],
             [
              0.8888888888888888,
              "#fdca26"
             ],
             [
              1,
              "#f0f921"
             ]
            ],
            "type": "heatmapgl"
           }
          ],
          "histogram": [
           {
            "marker": {
             "pattern": {
              "fillmode": "overlay",
              "size": 10,
              "solidity": 0.2
             }
            },
            "type": "histogram"
           }
          ],
          "histogram2d": [
           {
            "colorbar": {
             "outlinewidth": 0,
             "ticks": ""
            },
            "colorscale": [
             [
              0,
              "#0d0887"
             ],
             [
              0.1111111111111111,
              "#46039f"
             ],
             [
              0.2222222222222222,
              "#7201a8"
             ],
             [
              0.3333333333333333,
              "#9c179e"
             ],
             [
              0.4444444444444444,
              "#bd3786"
             ],
             [
              0.5555555555555556,
              "#d8576b"
             ],
             [
              0.6666666666666666,
              "#ed7953"
             ],
             [
              0.7777777777777778,
              "#fb9f3a"
             ],
             [
              0.8888888888888888,
              "#fdca26"
             ],
             [
              1,
              "#f0f921"
             ]
            ],
            "type": "histogram2d"
           }
          ],
          "histogram2dcontour": [
           {
            "colorbar": {
             "outlinewidth": 0,
             "ticks": ""
            },
            "colorscale": [
             [
              0,
              "#0d0887"
             ],
             [
              0.1111111111111111,
              "#46039f"
             ],
             [
              0.2222222222222222,
              "#7201a8"
             ],
             [
              0.3333333333333333,
              "#9c179e"
             ],
             [
              0.4444444444444444,
              "#bd3786"
             ],
             [
              0.5555555555555556,
              "#d8576b"
             ],
             [
              0.6666666666666666,
              "#ed7953"
             ],
             [
              0.7777777777777778,
              "#fb9f3a"
             ],
             [
              0.8888888888888888,
              "#fdca26"
             ],
             [
              1,
              "#f0f921"
             ]
            ],
            "type": "histogram2dcontour"
           }
          ],
          "mesh3d": [
           {
            "colorbar": {
             "outlinewidth": 0,
             "ticks": ""
            },
            "type": "mesh3d"
           }
          ],
          "parcoords": [
           {
            "line": {
             "colorbar": {
              "outlinewidth": 0,
              "ticks": ""
             }
            },
            "type": "parcoords"
           }
          ],
          "pie": [
           {
            "automargin": true,
            "type": "pie"
           }
          ],
          "scatter": [
           {
            "fillpattern": {
             "fillmode": "overlay",
             "size": 10,
             "solidity": 0.2
            },
            "type": "scatter"
           }
          ],
          "scatter3d": [
           {
            "line": {
             "colorbar": {
              "outlinewidth": 0,
              "ticks": ""
             }
            },
            "marker": {
             "colorbar": {
              "outlinewidth": 0,
              "ticks": ""
             }
            },
            "type": "scatter3d"
           }
          ],
          "scattercarpet": [
           {
            "marker": {
             "colorbar": {
              "outlinewidth": 0,
              "ticks": ""
             }
            },
            "type": "scattercarpet"
           }
          ],
          "scattergeo": [
           {
            "marker": {
             "colorbar": {
              "outlinewidth": 0,
              "ticks": ""
             }
            },
            "type": "scattergeo"
           }
          ],
          "scattergl": [
           {
            "marker": {
             "colorbar": {
              "outlinewidth": 0,
              "ticks": ""
             }
            },
            "type": "scattergl"
           }
          ],
          "scattermapbox": [
           {
            "marker": {
             "colorbar": {
              "outlinewidth": 0,
              "ticks": ""
             }
            },
            "type": "scattermapbox"
           }
          ],
          "scatterpolar": [
           {
            "marker": {
             "colorbar": {
              "outlinewidth": 0,
              "ticks": ""
             }
            },
            "type": "scatterpolar"
           }
          ],
          "scatterpolargl": [
           {
            "marker": {
             "colorbar": {
              "outlinewidth": 0,
              "ticks": ""
             }
            },
            "type": "scatterpolargl"
           }
          ],
          "scatterternary": [
           {
            "marker": {
             "colorbar": {
              "outlinewidth": 0,
              "ticks": ""
             }
            },
            "type": "scatterternary"
           }
          ],
          "surface": [
           {
            "colorbar": {
             "outlinewidth": 0,
             "ticks": ""
            },
            "colorscale": [
             [
              0,
              "#0d0887"
             ],
             [
              0.1111111111111111,
              "#46039f"
             ],
             [
              0.2222222222222222,
              "#7201a8"
             ],
             [
              0.3333333333333333,
              "#9c179e"
             ],
             [
              0.4444444444444444,
              "#bd3786"
             ],
             [
              0.5555555555555556,
              "#d8576b"
             ],
             [
              0.6666666666666666,
              "#ed7953"
             ],
             [
              0.7777777777777778,
              "#fb9f3a"
             ],
             [
              0.8888888888888888,
              "#fdca26"
             ],
             [
              1,
              "#f0f921"
             ]
            ],
            "type": "surface"
           }
          ],
          "table": [
           {
            "cells": {
             "fill": {
              "color": "#EBF0F8"
             },
             "line": {
              "color": "white"
             }
            },
            "header": {
             "fill": {
              "color": "#C8D4E3"
             },
             "line": {
              "color": "white"
             }
            },
            "type": "table"
           }
          ]
         },
         "layout": {
          "annotationdefaults": {
           "arrowcolor": "#2a3f5f",
           "arrowhead": 0,
           "arrowwidth": 1
          },
          "autotypenumbers": "strict",
          "coloraxis": {
           "colorbar": {
            "outlinewidth": 0,
            "ticks": ""
           }
          },
          "colorscale": {
           "diverging": [
            [
             0,
             "#8e0152"
            ],
            [
             0.1,
             "#c51b7d"
            ],
            [
             0.2,
             "#de77ae"
            ],
            [
             0.3,
             "#f1b6da"
            ],
            [
             0.4,
             "#fde0ef"
            ],
            [
             0.5,
             "#f7f7f7"
            ],
            [
             0.6,
             "#e6f5d0"
            ],
            [
             0.7,
             "#b8e186"
            ],
            [
             0.8,
             "#7fbc41"
            ],
            [
             0.9,
             "#4d9221"
            ],
            [
             1,
             "#276419"
            ]
           ],
           "sequential": [
            [
             0,
             "#0d0887"
            ],
            [
             0.1111111111111111,
             "#46039f"
            ],
            [
             0.2222222222222222,
             "#7201a8"
            ],
            [
             0.3333333333333333,
             "#9c179e"
            ],
            [
             0.4444444444444444,
             "#bd3786"
            ],
            [
             0.5555555555555556,
             "#d8576b"
            ],
            [
             0.6666666666666666,
             "#ed7953"
            ],
            [
             0.7777777777777778,
             "#fb9f3a"
            ],
            [
             0.8888888888888888,
             "#fdca26"
            ],
            [
             1,
             "#f0f921"
            ]
           ],
           "sequentialminus": [
            [
             0,
             "#0d0887"
            ],
            [
             0.1111111111111111,
             "#46039f"
            ],
            [
             0.2222222222222222,
             "#7201a8"
            ],
            [
             0.3333333333333333,
             "#9c179e"
            ],
            [
             0.4444444444444444,
             "#bd3786"
            ],
            [
             0.5555555555555556,
             "#d8576b"
            ],
            [
             0.6666666666666666,
             "#ed7953"
            ],
            [
             0.7777777777777778,
             "#fb9f3a"
            ],
            [
             0.8888888888888888,
             "#fdca26"
            ],
            [
             1,
             "#f0f921"
            ]
           ]
          },
          "colorway": [
           "#636efa",
           "#EF553B",
           "#00cc96",
           "#ab63fa",
           "#FFA15A",
           "#19d3f3",
           "#FF6692",
           "#B6E880",
           "#FF97FF",
           "#FECB52"
          ],
          "font": {
           "color": "#2a3f5f"
          },
          "geo": {
           "bgcolor": "white",
           "lakecolor": "white",
           "landcolor": "#E5ECF6",
           "showlakes": true,
           "showland": true,
           "subunitcolor": "white"
          },
          "hoverlabel": {
           "align": "left"
          },
          "hovermode": "closest",
          "mapbox": {
           "style": "light"
          },
          "paper_bgcolor": "white",
          "plot_bgcolor": "#E5ECF6",
          "polar": {
           "angularaxis": {
            "gridcolor": "white",
            "linecolor": "white",
            "ticks": ""
           },
           "bgcolor": "#E5ECF6",
           "radialaxis": {
            "gridcolor": "white",
            "linecolor": "white",
            "ticks": ""
           }
          },
          "scene": {
           "xaxis": {
            "backgroundcolor": "#E5ECF6",
            "gridcolor": "white",
            "gridwidth": 2,
            "linecolor": "white",
            "showbackground": true,
            "ticks": "",
            "zerolinecolor": "white"
           },
           "yaxis": {
            "backgroundcolor": "#E5ECF6",
            "gridcolor": "white",
            "gridwidth": 2,
            "linecolor": "white",
            "showbackground": true,
            "ticks": "",
            "zerolinecolor": "white"
           },
           "zaxis": {
            "backgroundcolor": "#E5ECF6",
            "gridcolor": "white",
            "gridwidth": 2,
            "linecolor": "white",
            "showbackground": true,
            "ticks": "",
            "zerolinecolor": "white"
           }
          },
          "shapedefaults": {
           "line": {
            "color": "#2a3f5f"
           }
          },
          "ternary": {
           "aaxis": {
            "gridcolor": "white",
            "linecolor": "white",
            "ticks": ""
           },
           "baxis": {
            "gridcolor": "white",
            "linecolor": "white",
            "ticks": ""
           },
           "bgcolor": "#E5ECF6",
           "caxis": {
            "gridcolor": "white",
            "linecolor": "white",
            "ticks": ""
           }
          },
          "title": {
           "x": 0.05
          },
          "xaxis": {
           "automargin": true,
           "gridcolor": "white",
           "linecolor": "white",
           "ticks": "",
           "title": {
            "standoff": 15
           },
           "zerolinecolor": "white",
           "zerolinewidth": 2
          },
          "yaxis": {
           "automargin": true,
           "gridcolor": "white",
           "linecolor": "white",
           "ticks": "",
           "title": {
            "standoff": 15
           },
           "zerolinecolor": "white",
           "zerolinewidth": 2
          }
         }
        },
        "title": {
         "text": "Evolução do Número Reprodutivo Rt ao Longo do Tempo"
        },
        "xaxis": {
         "anchor": "y",
         "domain": [
          0,
          1
         ],
         "title": {
          "text": "Data"
         }
        },
        "yaxis": {
         "anchor": "x",
         "domain": [
          0,
          1
         ],
         "title": {
          "text": "Rt"
         }
        }
       }
      }
     },
     "metadata": {},
     "output_type": "display_data"
    }
   ],
   "source": [
    "# Criando o gráfico de linha para Rt ao longo do tempo\n",
    "fig_rt = px.line(df,\n",
    "                 x='data_iniSE',\n",
    "                 y='Rt',\n",
    "                 title='Evolução do Número Reprodutivo Rt ao Longo do Tempo',\n",
    "                 labels={'data_iniSE':'Data','Rt':'Numero Reprodutivo'})\n",
    "\n",
    "# Adicionando linha horizontal em y=1\n",
    "fig_rt.add_trace(go.Scatter(x=df['data_iniSE'], y=[1]*len(df),\n",
    "                            mode='lines',\n",
    "                            line=dict(color='red', dash='dash'),\n",
    "                            name='Rt = 1'))\n",
    "\n",
    "# Ajustar o layout\n",
    "fig_rt.update_layout(yaxis_title=\"Rt\",\n",
    "                     annotations=[dict(x=0.05, y=1.02, xref='paper', yref='y',\n",
    "                                       text='Rt=1', showarrow=False, font=dict(color=\"red\"))])\n",
    "\n",
    "# Mostrar o gráfico\n",
    "fig_rt.show()\n"
   ]
  },
  {
   "cell_type": "markdown",
   "metadata": {},
   "source": [
    "Em vários momentos, o Rt ultrapassa o valor de 1. Isso sugere que o mosquito está transmitindo o vírus da dengue a um ritmo que pode levar a um aumento no número de casos.\n",
    "\n",
    "Há também vários períodos onde Rt é menor que 1, sugerindo que o número de novas infecções está diminuindo. Isso pode ser devido a fatores como um clima menos favorável para os mosquitos, intervenções eficazes de saúde pública ou outros fatores que reduzem a transmissão.."
   ]
  },
  {
   "cell_type": "code",
   "execution_count": null,
   "metadata": {},
   "outputs": [],
   "source": []
  }
 ],
 "metadata": {
  "kernelspec": {
   "display_name": "base",
   "language": "python",
   "name": "python3"
  },
  "language_info": {
   "codemirror_mode": {
    "name": "ipython",
    "version": 3
   },
   "file_extension": ".py",
   "mimetype": "text/x-python",
   "name": "python",
   "nbconvert_exporter": "python",
   "pygments_lexer": "ipython3",
   "version": "3.11.4"
  }
 },
 "nbformat": 4,
 "nbformat_minor": 2
}
